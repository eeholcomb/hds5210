{
 "cells": [
  {
   "cell_type": "markdown",
   "metadata": {},
   "source": [
    "Before you turn this problem in, make sure everything runs as expected. First, **restart the kernel** (in the menubar, select Kernel$\\rightarrow$Restart) and then **run all cells** (in the menubar, select Cell$\\rightarrow$Run All).\n",
    "\n",
    "Make sure you fill in any place that says `YOUR CODE HERE` or \"YOUR ANSWER HERE\", as well as your name and collaborators below:"
   ]
  },
  {
   "cell_type": "code",
   "execution_count": null,
   "metadata": {},
   "outputs": [],
   "source": [
    "NAME = \"\"\n",
    "COLLABORATORS = \"\""
   ]
  },
  {
   "cell_type": "markdown",
   "metadata": {},
   "source": [
    "---"
   ]
  },
  {
   "cell_type": "markdown",
   "metadata": {},
   "source": [
    "\n",
    "* Exploratory plots with pandas\n",
    "  * Histograms\n",
    "  * Scatter Plots\n",
    "  \n",
    "* Descriptive and presentable plots with matplotlib\n",
    "  * Multiple plots per figure\n",
    "  * Adjusting axes and formatting\n",
    "  "
   ]
  },
  {
   "cell_type": "markdown",
   "metadata": {},
   "source": [
    "Use `%matplotlib notebook` to make plots interactive"
   ]
  },
  {
   "cell_type": "code",
   "execution_count": null,
   "metadata": {},
   "outputs": [],
   "source": [
    "%matplotlib inline"
   ]
  },
  {
   "cell_type": "markdown",
   "metadata": {},
   "source": [
    "Plotting from pandas\n",
    "---"
   ]
  },
  {
   "cell_type": "code",
   "execution_count": null,
   "metadata": {},
   "outputs": [],
   "source": [
    "import pandas as pd\n",
    "data = pd.read_csv('/data/flu_2016_2017.csv', quotechar='\"')\n",
    "usa = data[(data['Country'] == 'United States of America') & \n",
    "           (data['Year'] == 2016)]\n",
    "usa.shape"
   ]
  },
  {
   "cell_type": "code",
   "execution_count": null,
   "metadata": {},
   "outputs": [],
   "source": [
    "data[0:2]"
   ]
  },
  {
   "cell_type": "code",
   "execution_count": null,
   "metadata": {},
   "outputs": [],
   "source": [
    "usa.dtypes"
   ]
  },
  {
   "cell_type": "code",
   "execution_count": null,
   "metadata": {},
   "outputs": [],
   "source": [
    "usa[0:1]"
   ]
  },
  {
   "cell_type": "markdown",
   "metadata": {},
   "source": [
    "---\n",
    "\n",
    "Histogram\n",
    "---\n",
    "\n",
    "Plot a histogram of the number of Influenza B cases per week"
   ]
  },
  {
   "cell_type": "code",
   "execution_count": null,
   "metadata": {},
   "outputs": [],
   "source": [
    "usa['INF_B'].hist()"
   ]
  },
  {
   "cell_type": "code",
   "execution_count": null,
   "metadata": {},
   "outputs": [],
   "source": [
    "usa[['INF_B','INF_A','SPEC_RECEIVED_NB']].hist(bins=5)\n"
   ]
  },
  {
   "cell_type": "markdown",
   "metadata": {},
   "source": [
    "---\n",
    "\n",
    "Line Plot (default)\n",
    "---\n",
    "\n",
    "Plot the number of cases by week"
   ]
  },
  {
   "cell_type": "code",
   "execution_count": null,
   "metadata": {},
   "outputs": [],
   "source": [
    "import seaborn as sns\n",
    "usa.plot(x='SDATE', y=['INF_B','INF_A','SPEC_RECEIVED_NB','SPEC_PROCESSED_NB'])"
   ]
  },
  {
   "cell_type": "code",
   "execution_count": null,
   "metadata": {},
   "outputs": [],
   "source": [
    "usa[0:10].plot(x='SDATE', y=['INF_B','INF_A','SPEC_RECEIVED_NB','SPEC_PROCESSED_NB'])"
   ]
  },
  {
   "cell_type": "markdown",
   "metadata": {},
   "source": [
    "---\n",
    "\n",
    "Scatter Plot\n",
    "---\n",
    "\n",
    "Use a scatter plot to see if there are some possible relationship"
   ]
  },
  {
   "cell_type": "code",
   "execution_count": null,
   "metadata": {},
   "outputs": [],
   "source": []
  },
  {
   "cell_type": "code",
   "execution_count": null,
   "metadata": {},
   "outputs": [],
   "source": [
    "axes = usa.plot.scatter(x='SPEC_RECEIVED_NB', y='INF_A', color='DarkRed', label='Influeza A')\n",
    "axes = usa.plot.scatter(x='SPEC_RECEIVED_NB', y='INF_B', color='DarkBlue', label='Influenza B', ax=axes)\n",
    "axes.set_ylabel('Positive Cases')\n",
    "axes.set_xlabel('Specimens Received')"
   ]
  },
  {
   "cell_type": "code",
   "execution_count": null,
   "metadata": {},
   "outputs": [],
   "source": [
    "import seaborn as sns\n",
    "ax = sns.regplot(data=usa, x='SPEC_RECEIVED_NB', y='INF_A', order=2, label='Flu A')\n",
    "sns.regplot(data=usa, x='SPEC_RECEIVED_NB', y='INF_B', label='Flu B', ax=ax)\n",
    "ax.legend()\n",
    "ax.set_ylabel('Positive Cases')\n",
    "ax.set_xlabel('Specimens Received')"
   ]
  },
  {
   "cell_type": "code",
   "execution_count": null,
   "metadata": {},
   "outputs": [],
   "source": [
    "import seaborn as sns\n",
    "ax = sns.jointplot(data=usa, x='SPEC_RECEIVED_NB', y='INF_B')\n"
   ]
  },
  {
   "cell_type": "markdown",
   "metadata": {},
   "source": [
    "---\n",
    "\n",
    "See if there are always a similar ratio of type A to type B cases of influenza"
   ]
  },
  {
   "cell_type": "code",
   "execution_count": null,
   "metadata": {},
   "outputs": [],
   "source": [
    "ax = usa.plot.scatter(x='INF_A', y='INF_B')"
   ]
  },
  {
   "cell_type": "code",
   "execution_count": null,
   "metadata": {},
   "outputs": [],
   "source": [
    "%matplotlib inline\n",
    "import seaborn as sns\n",
    "sns.lmplot('INF_A', 'INF_B', data=usa, hue='SDATE', fit_reg=False)\n"
   ]
  },
  {
   "cell_type": "markdown",
   "metadata": {},
   "source": [
    "Other Examples\n",
    "==="
   ]
  },
  {
   "cell_type": "markdown",
   "metadata": {},
   "source": [
    "Plot by State\n",
    "---"
   ]
  },
  {
   "cell_type": "code",
   "execution_count": null,
   "metadata": {},
   "outputs": [],
   "source": [
    "import matplotlib.pyplot as plt\n",
    "\n",
    "d = pd.read_csv('/data/hhcaps.csv', quotechar='\"')\n",
    "d.replace(to_replace='Not Available', value=0, inplace=True)\n",
    "d = d[d['State'].isin(['WY','CA','AL'])]\n",
    "by_state = d.groupby('State')"
   ]
  },
  {
   "cell_type": "code",
   "execution_count": null,
   "metadata": {},
   "outputs": [],
   "source": [
    "data = pd.DataFrame()\n",
    "data['Year Certified'] = pd.to_datetime(d['Date Certified'].str[0:4] + '-01-01', format='%Y-%m-%d')\n",
    "data['Percent Recommend'] = d['Percent of patients who reported YES, they would definitely recommend the home health agency to friends and family'].astype(float)\n",
    "\n",
    "fig, ax = plt.subplots()\n",
    "ax.margins(0.05) # Optional, just adds 5% padding to the autoscaling\n",
    "\n",
    "for name, group in by_state:\n",
    "    data['Percent Recommend'].plot.kde(ax=ax, label=name, alpha=.5)\n",
    "ax.legend()\n",
    "plt.show()"
   ]
  },
  {
   "cell_type": "code",
   "execution_count": null,
   "metadata": {},
   "outputs": [],
   "source": [
    "import matplotlib.pyplot as plt\n",
    "fig, ax = plt.subplots()\n",
    "ax.margins(0.05) # Optional, just adds 5% padding to the autoscaling\n",
    "for name, group in by_state:\n",
    "    recommend = group['Percent of patients who reported YES, they would definitely recommend the home health agency to friends and family'].astype(float)\n",
    "    professional = group['Percent of patients who reported that their home health team gave care in a professional way'].astype(float)\n",
    "    ax.plot(recommend, professional, marker='o', linestyle='', ms=5, alpha=0.5, label=name)\n",
    "ax.legend()\n",
    "\n",
    "plt.show()"
   ]
  },
  {
   "cell_type": "markdown",
   "metadata": {},
   "source": [
    "Time Series Plots\n",
    "---"
   ]
  },
  {
   "cell_type": "code",
   "execution_count": null,
   "metadata": {},
   "outputs": [],
   "source": [
    "%matplotlib inline\n",
    "import numpy as np\n",
    "import matplotlib.pyplot as plt\n",
    "import seaborn as sns\n",
    "import pandas as pd\n",
    "\n",
    "\n",
    "d = pd.read_csv('/data/hhcaps.csv', quotechar='\"')\n",
    "d = d[d['Percent of patients who reported YES, they would definitely recommend the home health agency to friends and family'] != 'Not Available']\n",
    "#d.replace(to_replace='Not Available', value=0, inplace=True)\n"
   ]
  },
  {
   "cell_type": "code",
   "execution_count": null,
   "metadata": {},
   "outputs": [],
   "source": [
    "d.dtypes"
   ]
  },
  {
   "cell_type": "code",
   "execution_count": null,
   "metadata": {},
   "outputs": [],
   "source": [
    "data = pd.DataFrame()\n",
    "data['Year Certified'] = pd.to_datetime(d['Date Certified'].str[0:4] + '-01-01', format='%Y-%m-%d')\n",
    "data['Percent Recommend'] = d['Percent of patients who reported YES, they would definitely recommend the home health agency to friends and family'].astype(float)\n",
    "\n",
    "\n",
    "g = data.groupby(['Year Certified']).mean().plot(style='-')\n",
    "g.set_ylim(0,100)\n",
    "g"
   ]
  },
  {
   "cell_type": "code",
   "execution_count": null,
   "metadata": {},
   "outputs": [],
   "source": [
    "data = pd.DataFrame()\n",
    "data['Date Certified'] = pd.to_datetime(d['Date Certified'], format='%Y-%m-%d')\n",
    "data['Percent Recommend'] = d['Percent of patients who reported YES, they would definitely recommend the home health agency to friends and family'].astype(float)\n",
    "\n",
    "g = data.groupby(['Date Certified']).mean().plot(style='.', alpha=.1)\n",
    "g.set_ylim(0,100)"
   ]
  },
  {
   "cell_type": "code",
   "execution_count": null,
   "metadata": {},
   "outputs": [],
   "source": [
    "recommend = pd.DataFrame()\n",
    "recommend['Date Certified'] = pd.to_datetime(d['Date Certified'], format='%Y-%m-%d')\n",
    "recommend['Percent Recommend'] = d['Percent of patients who reported YES, they would definitely recommend the home health agency to friends and family'].astype(float)\n",
    "\n",
    "data = recommend.groupby(['Date Certified']).mean()\n",
    "\n",
    "ma = data.rolling(20).mean()\n",
    "\n",
    "mstd = data.rolling(20).std()\n",
    "\n",
    "plt.figure()\n",
    "\n",
    "plt.plot(data.index, data, 'k')\n",
    "\n",
    "plt.plot(ma.index, ma, 'b')\n",
    "\n",
    "#plt.fill_between(mstd.index, ma-2*mstd, ma+2*mstd, color='b', alpha=0.2)\n"
   ]
  },
  {
   "cell_type": "markdown",
   "metadata": {
    "collapsed": true
   },
   "source": [
    "# Bootstrap Plot"
   ]
  },
  {
   "cell_type": "code",
   "execution_count": null,
   "metadata": {},
   "outputs": [],
   "source": [
    "%matplotlib inline\n",
    "import numpy as np\n",
    "import matplotlib.pyplot as plt\n",
    "import seaborn as sns\n",
    "import pandas as pd\n",
    "from pandas.plotting import bootstrap_plot\n",
    "\n",
    "\n",
    "d = pd.read_csv('/data/hhcaps.csv', quotechar='\"')\n",
    "d = d[d['Percent of patients who reported YES, they would definitely recommend the home health agency to friends and family'] != 'Not Available']\n",
    "#d.replace(to_replace='Not Available', value=0, inplace=True)\n",
    "\n",
    "data = pd.DataFrame()\n",
    "data['Date Certified'] = pd.to_datetime(d['Date Certified'], format='%Y-%m-%d')\n",
    "data['Percent Recommend'] = d['Percent of patients who reported YES, they would definitely recommend the home health agency to friends and family'].astype(float)\n",
    "\n",
    "bootstrap_plot(data['Percent Recommend'], size=50, samples=500, color='grey')"
   ]
  }
 ],
 "metadata": {
  "kernelspec": {
   "display_name": "Python 3",
   "language": "python",
   "name": "python3"
  },
  "language_info": {
   "codemirror_mode": {
    "name": "ipython",
    "version": 3
   },
   "file_extension": ".py",
   "mimetype": "text/x-python",
   "name": "python",
   "nbconvert_exporter": "python",
   "pygments_lexer": "ipython3",
   "version": "3.7.1"
  }
 },
 "nbformat": 4,
 "nbformat_minor": 2
}
