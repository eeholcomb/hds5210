{
 "cells": [
  {
   "cell_type": "markdown",
   "metadata": {},
   "source": [
    "Before you turn this problem in, make sure everything runs as expected. First, **restart the kernel** (in the menubar, select Kernel$\\rightarrow$Restart) and then **run all cells** (in the menubar, select Cell$\\rightarrow$Run All).\n",
    "\n",
    "Make sure you fill in any place that says `YOUR CODE HERE` or \"YOUR ANSWER HERE\", as well as your name and collaborators below:"
   ]
  },
  {
   "cell_type": "code",
   "execution_count": null,
   "metadata": {},
   "outputs": [],
   "source": [
    "NAME = \"Emily Holcomb\"\n",
    "COLLABORATORS = \"\""
   ]
  },
  {
   "cell_type": "markdown",
   "metadata": {},
   "source": [
    "---"
   ]
  },
  {
   "cell_type": "markdown",
   "metadata": {
    "deletable": false,
    "editable": false,
    "nbgrader": {
     "checksum": "d589f269d279d1c9304e678a6739cd47",
     "grade": false,
     "grade_id": "cell-fa531f4523fe17b4",
     "locked": true,
     "schema_version": 1,
     "solution": false
    }
   },
   "source": [
    "# Instructions\n",
    "\n",
    "In the answer section below, select your answer to the following multiple choice questions by typing `answer = \"X\"` where `X` is the letter for the correct multiple choice answer."
   ]
  },
  {
   "cell_type": "markdown",
   "metadata": {
    "deletable": false,
    "editable": false,
    "nbgrader": {
     "checksum": "1ee39936660ee628211e0b02c06be19b",
     "grade": false,
     "grade_id": "1-question",
     "locked": true,
     "schema_version": 1,
     "solution": false
    }
   },
   "source": [
    "## #1 - Which of the following are not part of the plotting capabilities of Python.\n",
    "\n",
    "> A) Pandas\n",
    ">\n",
    "> B) Matplotlib\n",
    ">\n",
    "> C) BeautifulSoup\n",
    ">\n",
    "> D) Seaborn\n"
   ]
  },
  {
   "cell_type": "code",
   "execution_count": null,
   "metadata": {
    "deletable": false,
    "nbgrader": {
     "checksum": "3d1438568e527f036e693ed2751f08ff",
     "grade": false,
     "grade_id": "q1-answer",
     "locked": false,
     "schema_version": 1,
     "solution": true
    }
   },
   "outputs": [],
   "source": [
    "def q01():\n",
    "    \n",
    "    # YOUR CODE HERE\n",
    "    answer = \"C\"\n",
    "    \n",
    "    return answer"
   ]
  },
  {
   "cell_type": "code",
   "execution_count": null,
   "metadata": {
    "deletable": false,
    "editable": false,
    "nbgrader": {
     "checksum": "696ab0ef1a4dfe33ad4bd172c21c142c",
     "grade": true,
     "grade_id": "q1-solution",
     "locked": true,
     "points": 1,
     "schema_version": 1,
     "solution": false
    }
   },
   "outputs": [],
   "source": [
    "assert type(q01()) == str"
   ]
  },
  {
   "cell_type": "markdown",
   "metadata": {
    "deletable": false,
    "editable": false,
    "nbgrader": {
     "checksum": "ad3298717fbc23425cd4c738c0eaff5a",
     "grade": false,
     "grade_id": "q2-question",
     "locked": true,
     "schema_version": 1,
     "solution": false
    }
   },
   "source": [
    "## #2 - In order to have plots display in your Jupyter notebook, which command do you need to run?\n",
    "\n",
    "> A) `%matplotlib inline`\n",
    ">\n",
    "> B) `import plotly`\n",
    ">\n",
    "> C) `import BeautifulSoup`\n",
    ">\n",
    "> D) `%showplots`\n"
   ]
  },
  {
   "cell_type": "code",
   "execution_count": null,
   "metadata": {
    "deletable": false,
    "nbgrader": {
     "checksum": "b4365e07f31270b7a3fb7a8174b7356d",
     "grade": false,
     "grade_id": "q2-answer",
     "locked": false,
     "schema_version": 1,
     "solution": true
    }
   },
   "outputs": [],
   "source": [
    "def q02():\n",
    "    \n",
    "    # YOUR CODE HERE\n",
    "    answer = \"A\"\n",
    "    \n",
    "    return answer"
   ]
  },
  {
   "cell_type": "code",
   "execution_count": null,
   "metadata": {
    "deletable": false,
    "editable": false,
    "nbgrader": {
     "checksum": "fc468cb91e95fc787df0248c788534a6",
     "grade": true,
     "grade_id": "q2-solution",
     "locked": true,
     "points": 1,
     "schema_version": 1,
     "solution": false
    }
   },
   "outputs": [],
   "source": [
    "assert type(q02()) == str"
   ]
  },
  {
   "cell_type": "markdown",
   "metadata": {
    "deletable": false,
    "editable": false,
    "nbgrader": {
     "checksum": "e8930f56558cf391aac3a06b89d73803",
     "grade": false,
     "grade_id": "q3-question",
     "locked": true,
     "schema_version": 1,
     "solution": false
    }
   },
   "source": [
    "## #3 - Below is a explanation of what a chart can be used for.  Choose the best type of plot (barplot, histogram, scatterplot) to use.  Put your answer into a dictionary like this:\n",
    "\n",
    "```\n",
    "{\n",
    "    'A': 'barplot',\n",
    "    'B': 'histogram',\n",
    "    'C': 'scatterplot',\n",
    "    'D': 'histogram'\n",
    "}\n",
    "```\n",
    "\n",
    "> A) Showing the relationship between two numerical values.\n",
    ">\n",
    "> B) Visualizing the distribution of a particular numerical value in a data set.\n",
    ">\n",
    "> C) Comparing a single statistic across different categories.\n",
    ">\n",
    "> D) Showing how the range and distribution of a numerical value differs between multiple data series."
   ]
  },
  {
   "cell_type": "code",
   "execution_count": 1,
   "metadata": {
    "deletable": false,
    "nbgrader": {
     "checksum": "575b8d38491041d2ebfe3fc398277817",
     "grade": false,
     "grade_id": "q3-answer",
     "locked": false,
     "schema_version": 1,
     "solution": true
    }
   },
   "outputs": [
    {
     "ename": "SyntaxError",
     "evalue": "invalid syntax (<ipython-input-1-80f18596147d>, line 6)",
     "output_type": "error",
     "traceback": [
      "\u001b[0;36m  File \u001b[0;32m\"<ipython-input-1-80f18596147d>\"\u001b[0;36m, line \u001b[0;32m6\u001b[0m\n\u001b[0;31m    'B': 'histogram'\u001b[0m\n\u001b[0m       ^\u001b[0m\n\u001b[0;31mSyntaxError\u001b[0m\u001b[0;31m:\u001b[0m invalid syntax\n"
     ]
    }
   ],
   "source": [
    "def q03():\n",
    "    \n",
    "    # YOUR CODE HERE\n",
    "    answer = {\n",
    "        'A': 'scatterplot',\n",
    "        'B': 'histogram',\n",
    "        'C': 'barplot',\n",
    "        'D': 'histogram'\n",
    "    }\n",
    "    \n",
    "    return answer"
   ]
  },
  {
   "cell_type": "code",
   "execution_count": null,
   "metadata": {
    "deletable": false,
    "editable": false,
    "nbgrader": {
     "checksum": "a7ef2b770f3759e93ba49f87fc6ebf88",
     "grade": true,
     "grade_id": "q3-solution",
     "locked": true,
     "points": 1,
     "schema_version": 1,
     "solution": false
    }
   },
   "outputs": [],
   "source": [
    "assert type(q03()) == dict"
   ]
  },
  {
   "cell_type": "code",
   "execution_count": null,
   "metadata": {},
   "outputs": [],
   "source": []
  }
 ],
 "metadata": {
  "kernelspec": {
   "display_name": "Python 3",
   "language": "python",
   "name": "python3"
  },
  "language_info": {
   "codemirror_mode": {
    "name": "ipython",
    "version": 3
   },
   "file_extension": ".py",
   "mimetype": "text/x-python",
   "name": "python",
   "nbconvert_exporter": "python",
   "pygments_lexer": "ipython3",
   "version": "3.7.2"
  }
 },
 "nbformat": 4,
 "nbformat_minor": 2
}
