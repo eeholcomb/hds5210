{
 "cells": [
  {
   "cell_type": "markdown",
   "metadata": {},
   "source": [
    "Before you turn this problem in, make sure everything runs as expected. First, **restart the kernel** (in the menubar, select Kernel$\\rightarrow$Restart) and then **run all cells** (in the menubar, select Cell$\\rightarrow$Run All).\n",
    "\n",
    "Make sure you fill in any place that says `YOUR CODE HERE` or \"YOUR ANSWER HERE\", as well as your name and collaborators below:"
   ]
  },
  {
   "cell_type": "code",
   "execution_count": null,
   "metadata": {},
   "outputs": [],
   "source": [
    "NAME = \"Emily Holcomb\"\n",
    "COLLABORATORS = \"\""
   ]
  },
  {
   "cell_type": "markdown",
   "metadata": {},
   "source": [
    "---"
   ]
  },
  {
   "cell_type": "markdown",
   "metadata": {
    "deletable": false,
    "editable": false,
    "nbgrader": {
     "checksum": "7703128dc0c4e10434ccfdba5aac178c",
     "grade": false,
     "grade_id": "intro",
     "locked": true,
     "schema_version": 1,
     "solution": false
    }
   },
   "source": [
    "# Midterm - Spring 2019\n",
    "\n",
    "There are going to be three steps to this midterm assignment, based on something called the MAGGIC Risk Score found here: https://www.mdcalc.com/maggic-risk-calculator-heart-failure#evidence\n",
    "\n",
    "The MAGGIC Risk Score is a way of measuring how likely a patient is to have heart failure.\n",
    "\n",
    "For the midterm, you will need to do three things:\n",
    "\n",
    "1. Create JSON in a file or series of files the encapsulate the calculation rules in the MAGGIC risk calculator.\n",
    "2. Create a series of functions to calculate each component score (seven functions in total).\n",
    "3. Create a function that calculates the MAGGIC score for a particular person.\n"
   ]
  },
  {
   "cell_type": "markdown",
   "metadata": {
    "deletable": false,
    "editable": false,
    "nbgrader": {
     "checksum": "1f428672ff7ed4727aab6a2b22b44781",
     "grade": false,
     "grade_id": "q1",
     "locked": true,
     "schema_version": 1,
     "solution": false
    }
   },
   "source": [
    "# #1 Create JSON for MAGGIC calculation rules\n",
    "\n",
    "In this directory, create one or more JSON files that you will use in steps 2 and 3 to calculate the MAGGIC scores.  This JSON you create will need to encapsulate the scoring rules from teh MAGGIC risk calculator so that, if the rules were to change slightly in the future or be different for different populations, then you could easily swap out a different set of rules.\n",
    "\n",
    "You can find all of the rules here: https://www.mdcalc.com/maggic-risk-calculator-heart-failure#evidence\n",
    "\n",
    "For example, when a MAGGIC scoring rule says that being `male` earns the patient and extra `+1`, you could encode that in JSON as a simple dictionary item:\n",
    "\n",
    "```python\n",
    "{\n",
    "    \"male\": 1\n",
    "}\n",
    "```\n",
    "\n",
    "Or when MAGGIC says that a patient's BMI range should give them additional points, you could encode that by storing a list of min, max, and points.  In my example, I'm going to assume the \"max\" is exclusive (i.e. min <= value < max).  If you were to put all of this in one file together with other rules, you might include this in a larger dictionary as shown below.  If it is a file by itself, you could just have the list for bmi in a stand-alone file.\n",
    "\n",
    "```python\n",
    "{\n",
    "    \"risk_factors\": {\n",
    "        \"male\": 1,\n",
    "        \"smoker\": 1,\n",
    "        \"diabetic\": 3\n",
    "    },\n",
    "    \"bmi\": [\n",
    "        { \"min\":  0, \"max\": 15, \"points\": 6 },\n",
    "        { \"min\": 15, \"max\": 20, \"points\": 5 },\n",
    "        { \"min\": 20, \"max\": 25, \"points\": 3 },\n",
    "        { \"min\": 25, \"max\": 30, \"points\": 2 }\n",
    "    ]\n",
    "}\n",
    "```\n",
    "\n",
    "\n",
    "There is a file `maggic.json` in this directory with the contents above that you can use as a sample to start with.  Don't assume what's in the file is correct, though!\n",
    "\n",
    "\n",
    "**NOTE:** Your code should be able to handle input that comes to it in all lowercase characters.  Look in the testing cells for part 2 and 3 to see how your code will be tested."
   ]
  },
  {
   "cell_type": "code",
   "execution_count": null,
   "metadata": {
    "deletable": false,
    "nbgrader": {
     "checksum": "955bfba945c4b440210e42191be9b1cf",
     "grade": true,
     "grade_id": "q1-answer",
     "locked": false,
     "points": 15,
     "schema_version": 1,
     "solution": true
    }
   },
   "outputs": [],
   "source": [
    "# YOUR CODE HERE\n",
    "import json \n",
    "\n",
    "maggic = {\n",
    "    \"risk factors\": {\n",
    "        \"male\": 1,\n",
    "        \"smoker\": 1,\n",
    "        \"diabetic\": 3,\n",
    "        \"copd\": 2,\n",
    "        \"heart failure first diagnosed >= 18 months ago\": 2,\n",
    "        \"not on beta blocker\": 3,\n",
    "        \"not on ace-i/arb\": 1\n",
    "    },\n",
    "    \"ejection fraction\": [\n",
    "        {\"min\": 0, \"max\": 19, \"points\": 7},\n",
    "        {\"min\": 20, \"max\": 24, \"points\": 6},\n",
    "        {\"min\": 25, \"max\": 29, \"points\": 5},\n",
    "        {\"min\": 30, \"max\": 34, \"points\": 3},\n",
    "        {\"min\": 35, \"max\": 39, \"points\": 2},\n",
    "        {\"min\": 40, \"max\": 100, \"points\": 0}\n",
    "    ],\n",
    "    \"nyha class\": [\n",
    "        {\"value\": 1, \"points\": 0},\n",
    "        {\"value\": 2, \"points\": 2},\n",
    "        {\"value\": 3, \"points\": 6},\n",
    "        {\"value\": 4, \"points\": 8}\n",
    "    ],\n",
    "    \"creatinine\": [\n",
    "        {\"min\": 0, \"max\": 89, \"points\": 0},\n",
    "        {\"min\": 90, \"max\": 109, \"points\": 1},\n",
    "        {\"min\": 110, \"max\": 129, \"points\": 2},\n",
    "        {\"min\": 130, \"max\": 149, \"points\": 3},\n",
    "        {\"min\": 150, \"max\": 169, \"points\": 4},\n",
    "        {\"min\": 170, \"max\": 209, \"points\": 5},\n",
    "        {\"min\": 210, \"max\": 249, \"points\": 6},\n",
    "        {\"min\": 250, \"max\": 1000, \"points\": 8}\n",
    "    ],\n",
    "    \"bmi\": [\n",
    "        {\"min\": 0, \"max\": 14, \"points\": 6},\n",
    "        {\"min\": 15, \"max\": 19, \"points\": 5},\n",
    "        {\"min\": 20, \"max\": 24, \"points\": 3},\n",
    "        {\"min\": 25, \"max\": 29, \"points\": 2},\n",
    "        {\"min\": 30, \"max\": 1000, \"points\": 0}\n",
    "    ],\n",
    "    \"systolic bp\": {\n",
    "        \"low ef\": [\n",
    "            {\"min\": 0, \"max\": 109, \"points\": 5},\n",
    "            {\"min\": 110, \"max\": 119, \"points\": 4},\n",
    "            {\"min\": 120, \"max\": 129, \"points\": 3},\n",
    "            {\"min\": 130, \"max\": 139, \"points\": 2},\n",
    "            {\"min\": 140, \"max\": 149, \"points\": 1},\n",
    "            {\"min\": 150, \"max\": 1000, \"points\": 0},\n",
    "        ],\n",
    "        \"medium ef\": [\n",
    "            {\"min\": 0, \"max\": 109, \"points\": 3},\n",
    "            {\"min\": 110, \"max\": 119, \"points\": 2},\n",
    "            {\"min\": 120, \"max\": 139, \"points\": 1},\n",
    "            {\"min\": 140, \"max\": 1000, \"points\": 0}\n",
    "        ],\n",
    "        \"high ef\": [\n",
    "            {\"min\": 0, \"max\": 109, \"points\": 2},\n",
    "            {\"min\": 110, \"max\": 129, \"points\": 1},\n",
    "            {\"min\": 130, \"max\": 1000, \"points\": 0}\n",
    "        ]\n",
    "    },\n",
    "    \"age\": {\n",
    "        \"low ef\": [\n",
    "            {\"min\": 0, \"max\": 54, \"points\": 0},\n",
    "            {\"min\": 55, \"max\": 59, \"points\": 1},\n",
    "            {\"min\": 60, \"max\": 64, \"points\": 2},\n",
    "            {\"min\": 65, \"max\": 69, \"points\": 4},\n",
    "            {\"min\": 70, \"max\": 74, \"points\": 6},\n",
    "            {\"min\": 75, \"max\": 79, \"points\": 8},\n",
    "            {\"min\": 80, \"max\": 100, \"points\": 10}\n",
    "        ],\n",
    "        \"medium ef\": [\n",
    "            {\"min\": 0, \"max\": 54, \"points\": 0},\n",
    "            {\"min\": 55, \"max\": 59, \"points\": 2},\n",
    "            {\"min\": 60, \"max\": 64, \"points\": 4},\n",
    "            {\"min\": 65, \"max\": 69, \"points\": 6},\n",
    "            {\"min\": 70, \"max\": 74, \"points\": 8},\n",
    "            {\"min\": 75, \"max\": 79, \"points\": 10},\n",
    "            {\"min\": 80, \"max\": 100, \"points\": 13}\n",
    "        ],\n",
    "        \"high ef\": [\n",
    "            {\"min\": 0, \"max\": 54, \"points\": 0},\n",
    "            {\"min\": 55, \"max\": 59, \"points\": 3},\n",
    "            {\"min\": 60, \"max\": 64, \"points\": 5},\n",
    "            {\"min\": 65, \"max\": 69, \"points\": 7},\n",
    "            {\"min\": 70, \"max\": 74, \"points\": 9},\n",
    "            {\"min\": 75, \"max\": 79, \"points\": 12},\n",
    "            {\"min\": 80, \"max\": 100, \"points\": 15}\n",
    "        ]\n",
    "    }\n",
    "}\n",
    "\n",
    "with open('config_maggic.json', 'w') as config_maggic:  \n",
    "    json.dump(maggic, config_maggic)"
   ]
  },
  {
   "cell_type": "markdown",
   "metadata": {
    "deletable": false,
    "editable": false,
    "nbgrader": {
     "checksum": "4456cd59764aa6dd2ca26648dfa977db",
     "grade": false,
     "grade_id": "q2",
     "locked": true,
     "schema_version": 1,
     "solution": false
    }
   },
   "source": [
    "# #2 MAGGIC Scoring Functions\n",
    "\n",
    "Write individual functions for all of your rules that are encoded in the JSON from part 1.  I've created a series of tests that will verify your functions are working correctly.  In the spaces for solutions below, I've provided the function name and parameters.  Use those, but you'll need to fill in the function.\n",
    "\n",
    "**NOTE:** Your code should be able to handle input that comes to it in all lowercase characters.  Look in the testing cells below to see how your code will be tested.\n"
   ]
  },
  {
   "cell_type": "markdown",
   "metadata": {
    "deletable": false,
    "editable": false,
    "nbgrader": {
     "checksum": "bbcf3749a4a89140e5b770a29ba69b85",
     "grade": false,
     "grade_id": "q2a",
     "locked": true,
     "schema_version": 1,
     "solution": false
    }
   },
   "source": [
    "## #2A - Risk Factors"
   ]
  },
  {
   "cell_type": "code",
   "execution_count": null,
   "metadata": {
    "deletable": false,
    "nbgrader": {
     "checksum": "b26adbff52de3545712db9d958bbd61f",
     "grade": false,
     "grade_id": "q2a-solution",
     "locked": false,
     "schema_version": 1,
     "solution": true
    }
   },
   "outputs": [],
   "source": [
    "import json\n",
    "\n",
    "def risk_factors_score(risks_list, config_file):\n",
    "    \"\"\" list, str -> int\n",
    "    risk_list: A list of strings that include various risk factors this subject DOES have\n",
    "    config_file: The name of a configuration file to use for scoring these risk factors\n",
    "    \n",
    "    The function should return a score for this subject based on the risk factors in the risk_list\n",
    "    and the scoring rules in the config_file.  For instance, if the subject is Male and Diabetic,\n",
    "    the risk score would be 1 + 3 = 4, and the function should return 4.\n",
    "    \"\"\"\n",
    "    \n",
    "    rf_score = 0\n",
    "    \n",
    "    with open(config_file) as json_file:  \n",
    "        config = json.load(json_file)\n",
    "    \n",
    "    map(str.lower, risks_list)\n",
    "    risk = config.get(\"risk factors\")\n",
    "    if len(risks_list) > 0:\n",
    "        for f in risks_list:\n",
    "            rf_score += risk.get(f)\n",
    "\n",
    "    return rf_score\n"
   ]
  },
  {
   "cell_type": "code",
   "execution_count": null,
   "metadata": {},
   "outputs": [],
   "source": [
    "# Put the name of your configuration file below\n",
    "RISK_FACTORS_CONFIG_FILE = \"config_maggic.json\""
   ]
  },
  {
   "cell_type": "code",
   "execution_count": null,
   "metadata": {
    "deletable": false,
    "editable": false,
    "nbgrader": {
     "checksum": "2ba68e436e9d06f5ba4d85cb65fab5df",
     "grade": true,
     "grade_id": "q2a-test",
     "locked": true,
     "points": 15,
     "schema_version": 1,
     "solution": false
    }
   },
   "outputs": [],
   "source": [
    "assert(risk_factors_score([],RISK_FACTORS_CONFIG_FILE)) == 0\n",
    "assert(risk_factors_score(['male'],RISK_FACTORS_CONFIG_FILE)) == 1\n",
    "assert(risk_factors_score(['smoker'],RISK_FACTORS_CONFIG_FILE)) == 1\n",
    "assert(risk_factors_score(['diabetic'],RISK_FACTORS_CONFIG_FILE)) == 3\n",
    "assert(risk_factors_score(['copd'],RISK_FACTORS_CONFIG_FILE)) == 2\n",
    "assert(risk_factors_score(['heart failure first diagnosed >= 18 months ago'],RISK_FACTORS_CONFIG_FILE)) == 2\n",
    "assert(risk_factors_score(['not on beta blocker'],RISK_FACTORS_CONFIG_FILE)) == 3\n",
    "assert(risk_factors_score(['not on ace-i/arb'],RISK_FACTORS_CONFIG_FILE)) == 1\n",
    "assert(risk_factors_score(['not on ace-i/arb', 'male'],RISK_FACTORS_CONFIG_FILE)) == 2\n",
    "assert(risk_factors_score(['smoker','male','copd'],RISK_FACTORS_CONFIG_FILE)) == 4"
   ]
  },
  {
   "cell_type": "markdown",
   "metadata": {
    "deletable": false,
    "editable": false,
    "nbgrader": {
     "checksum": "e94d2cd95f0b394922712e649d414541",
     "grade": false,
     "grade_id": "q2b",
     "locked": true,
     "schema_version": 1,
     "solution": false
    }
   },
   "source": [
    "## #2B Ejection Fraction\n",
    "\n",
    "**NOTE:** The ejection fraction is a percentage that can't be greater than 100.  Your code and configuration model can assume the value will always be between 0 and 100."
   ]
  },
  {
   "cell_type": "code",
   "execution_count": null,
   "metadata": {
    "deletable": false,
    "nbgrader": {
     "checksum": "aa47af167e7553d94b160a562e63d289",
     "grade": false,
     "grade_id": "q2b-answer",
     "locked": false,
     "schema_version": 1,
     "solution": true
    }
   },
   "outputs": [],
   "source": [
    "import json\n",
    "\n",
    "def ejection_fraction_score(ef, config_file):\n",
    "    \"\"\" int, str -> int\n",
    "    ef: The ejection fraction measurement as an integer value\n",
    "    config_file: The name of a configuration file to use for scoring the ejection fraction\n",
    "    \n",
    "    The function should return a score for this subject based on where their actual ejection fraction\n",
    "    falls in the scoring rules.\n",
    "    \"\"\"\n",
    "    \n",
    "    ef_score = 0\n",
    "    \n",
    "    # YOUR CODE HERE\n",
    "    with open(config_file) as json_file:  \n",
    "        config = json.load(json_file)\n",
    "    \n",
    "    ejfr = config.get(\"ejection fraction\")\n",
    "    for f in ejfr:\n",
    "        if (f[\"min\"] <= ef <= f[\"max\"]):\n",
    "            ef_score += f[\"points\"]\n",
    "            \n",
    "    return ef_score\n"
   ]
  },
  {
   "cell_type": "code",
   "execution_count": null,
   "metadata": {},
   "outputs": [],
   "source": [
    "# Put the name of your configuration file below\n",
    "EF_CONFIG_FILE = \"config_maggic.json\""
   ]
  },
  {
   "cell_type": "code",
   "execution_count": null,
   "metadata": {
    "deletable": false,
    "editable": false,
    "nbgrader": {
     "checksum": "84b048035639d069e5d627d67ef6e0c2",
     "grade": true,
     "grade_id": "q2b-tests",
     "locked": true,
     "points": 15,
     "schema_version": 1,
     "solution": false
    }
   },
   "outputs": [],
   "source": [
    "assert(ejection_fraction_score(0,  EF_CONFIG_FILE)==7)\n",
    "assert(ejection_fraction_score(15, EF_CONFIG_FILE)==7)\n",
    "assert(ejection_fraction_score(20, EF_CONFIG_FILE)==6)\n",
    "assert(ejection_fraction_score(21, EF_CONFIG_FILE)==6)\n",
    "assert(ejection_fraction_score(25, EF_CONFIG_FILE)==5)\n",
    "assert(ejection_fraction_score(29, EF_CONFIG_FILE)==5)\n",
    "assert(ejection_fraction_score(32, EF_CONFIG_FILE)==3)\n",
    "assert(ejection_fraction_score(35, EF_CONFIG_FILE)==2)\n",
    "assert(ejection_fraction_score(36, EF_CONFIG_FILE)==2)\n",
    "assert(ejection_fraction_score(40, EF_CONFIG_FILE)==0)\n",
    "assert(ejection_fraction_score(80, EF_CONFIG_FILE)==0)\n",
    "assert(ejection_fraction_score(100,EF_CONFIG_FILE)==0)"
   ]
  },
  {
   "cell_type": "markdown",
   "metadata": {
    "deletable": false,
    "editable": false,
    "nbgrader": {
     "checksum": "a58a8479c27f324ab7ffe994a5bfc8b6",
     "grade": false,
     "grade_id": "q2c-intro",
     "locked": true,
     "schema_version": 1,
     "solution": false
    }
   },
   "source": [
    "## #2C NYHA Class\n",
    "\n",
    "**NOTE:** If your function is provided an invalid NYHA class, please return 0."
   ]
  },
  {
   "cell_type": "code",
   "execution_count": null,
   "metadata": {
    "deletable": false,
    "nbgrader": {
     "checksum": "6419b6fdb54218ebd874080c9a8a3b25",
     "grade": false,
     "grade_id": "q2c-solution",
     "locked": false,
     "schema_version": 1,
     "solution": true
    }
   },
   "outputs": [],
   "source": [
    "import json\n",
    "\n",
    "def nhya_class_score(nhya, config_file):\n",
    "    \"\"\" int, str -> int\n",
    "    nyha: The NHYA class for this subject\n",
    "    config_file: The name of a configuration file to use for scoring the NHYA class\n",
    "    \n",
    "    The function should return a score for this subject based on where their NHYA class.\n",
    "    \n",
    "    See https://www.heart.org/en/health-topics/heart-failure/what-is-heart-failure/classes-of-heart-failure \n",
    "    if you're curious about the NHYA classification system.\n",
    "    \"\"\"\n",
    "    \n",
    "    nhya_score = 0\n",
    "    \n",
    "    # YOUR CODE HERE\n",
    "    with open(config_file) as json_file:  \n",
    "        config = json.load(json_file)\n",
    "    \n",
    "    nhya_con = config.get(\"nyha class\")\n",
    "    for n in nhya_con:\n",
    "        if (1 < nhya > 4):\n",
    "            nhya_score = 0\n",
    "        elif n[\"value\"] == nhya:\n",
    "            nhya_score += n[\"points\"]\n",
    "\n",
    "\n",
    "    return nhya_score\n"
   ]
  },
  {
   "cell_type": "code",
   "execution_count": null,
   "metadata": {},
   "outputs": [],
   "source": [
    "# Put the name of your configuration file below\n",
    "NHYA_CONFIG_FILE = \"config_maggic.json\""
   ]
  },
  {
   "cell_type": "code",
   "execution_count": null,
   "metadata": {
    "deletable": false,
    "editable": false,
    "nbgrader": {
     "checksum": "4273ec78e4591f10551b398ac4f0db48",
     "grade": true,
     "grade_id": "q2c-tests",
     "locked": true,
     "points": 15,
     "schema_version": 1,
     "solution": false
    }
   },
   "outputs": [],
   "source": [
    "assert(nhya_class_score(0,NHYA_CONFIG_FILE)==0)\n",
    "assert(nhya_class_score(1,NHYA_CONFIG_FILE)==0)\n",
    "assert(nhya_class_score(2,NHYA_CONFIG_FILE)==2)\n",
    "assert(nhya_class_score(3,NHYA_CONFIG_FILE)==6)\n",
    "assert(nhya_class_score(4,NHYA_CONFIG_FILE)==8)\n",
    "assert(nhya_class_score(5,NHYA_CONFIG_FILE)==0)"
   ]
  },
  {
   "cell_type": "markdown",
   "metadata": {
    "deletable": false,
    "editable": false,
    "nbgrader": {
     "checksum": "1a0dde85aceb6501b46aea492e2d27f6",
     "grade": false,
     "grade_id": "q2d-intro",
     "locked": true,
     "schema_version": 1,
     "solution": false
    }
   },
   "source": [
    "## #2D Creatinine Level"
   ]
  },
  {
   "cell_type": "code",
   "execution_count": null,
   "metadata": {
    "deletable": false,
    "nbgrader": {
     "checksum": "d77d7d6ddb94d5ef544678ecea411736",
     "grade": false,
     "grade_id": "q2d-solution",
     "locked": false,
     "schema_version": 1,
     "solution": true
    }
   },
   "outputs": [],
   "source": [
    "import json\n",
    "\n",
    "def creatinine_level_score(creatinine, config_file):\n",
    "    \"\"\" int, str -> int\n",
    "    creatinine: The creatinine measurement as an integer value\n",
    "    config_file: The name of a configuration file to use for scoring the creatinine level\n",
    "    \n",
    "    The function should return a score for this subject based on where their creatinine level\n",
    "    falls in the scoring rules.\n",
    "    \"\"\"\n",
    "    \n",
    "    c_score = 0\n",
    "    \n",
    "    # YOUR CODE HERE\n",
    "    with open(config_file) as json_file:  \n",
    "        config = json.load(json_file)\n",
    "    \n",
    "    crea = config.get(\"creatinine\")\n",
    "    for c in crea:\n",
    "        if (c[\"min\"] <= creatinine <= c[\"max\"]):\n",
    "            c_score += c[\"points\"]\n",
    "\n",
    "    return c_score\n"
   ]
  },
  {
   "cell_type": "code",
   "execution_count": null,
   "metadata": {},
   "outputs": [],
   "source": [
    "# Put the name of your configuration file below\n",
    "CREATININE_CONFIG_FILE = \"config_maggic.json\""
   ]
  },
  {
   "cell_type": "code",
   "execution_count": null,
   "metadata": {
    "deletable": false,
    "editable": false,
    "nbgrader": {
     "checksum": "96ffe53272d3882bb985fec5db59ad49",
     "grade": true,
     "grade_id": "q2d-tests",
     "locked": true,
     "points": 15,
     "schema_version": 1,
     "solution": false
    }
   },
   "outputs": [],
   "source": [
    "assert(creatinine_level_score(0,CREATININE_CONFIG_FILE)==0)\n",
    "assert(creatinine_level_score(10,CREATININE_CONFIG_FILE)==0)\n",
    "assert(creatinine_level_score(90,CREATININE_CONFIG_FILE)==1)\n",
    "assert(creatinine_level_score(100,CREATININE_CONFIG_FILE)==1)\n",
    "assert(creatinine_level_score(115,CREATININE_CONFIG_FILE)==2)\n",
    "assert(creatinine_level_score(121,CREATININE_CONFIG_FILE)==2)\n",
    "assert(creatinine_level_score(143,CREATININE_CONFIG_FILE)==3)\n",
    "assert(creatinine_level_score(150,CREATININE_CONFIG_FILE)==4)\n",
    "assert(creatinine_level_score(174,CREATININE_CONFIG_FILE)==5)\n",
    "assert(creatinine_level_score(220,CREATININE_CONFIG_FILE)==6)\n",
    "assert(creatinine_level_score(290,CREATININE_CONFIG_FILE)==8)"
   ]
  },
  {
   "cell_type": "markdown",
   "metadata": {
    "deletable": false,
    "editable": false,
    "nbgrader": {
     "checksum": "824b78df350ff535c357f7aa396fa762",
     "grade": false,
     "grade_id": "q2e-intro",
     "locked": true,
     "schema_version": 1,
     "solution": false
    }
   },
   "source": [
    "## #2D BMI\n",
    "\n",
    "**NOTE:** You can assume that BMI will be a positive integer that is not more than 100"
   ]
  },
  {
   "cell_type": "code",
   "execution_count": null,
   "metadata": {
    "deletable": false,
    "nbgrader": {
     "checksum": "0eb99a6bcf4a45ed8d5032eb1aa4245d",
     "grade": false,
     "grade_id": "q2e-solution",
     "locked": false,
     "schema_version": 1,
     "solution": true
    }
   },
   "outputs": [],
   "source": [
    "import json\n",
    "\n",
    "def bmi_score(bmi, config_file):\n",
    "    \"\"\" int, str -> int\n",
    "    bmi: The BMI measurement as an integer value between 0 and 100\n",
    "    config_file: The name of a configuration file to use for scoring the BMI\n",
    "    \n",
    "    The function should return a score for this subject based on where their BMI\n",
    "    falls in the scoring rules.\n",
    "    \"\"\"\n",
    "    \n",
    "    b_score = 0\n",
    "    \n",
    "    # YOUR CODE HERE\n",
    "    with open(config_file) as json_file:  \n",
    "        config = json.load(json_file)\n",
    "    \n",
    "    bmass = config.get(\"bmi\")\n",
    "    for b in bmass:\n",
    "        if (b[\"min\"] <= bmi <= b[\"max\"]):\n",
    "            b_score += b[\"points\"]\n",
    "            \n",
    "            return b_score\n"
   ]
  },
  {
   "cell_type": "code",
   "execution_count": null,
   "metadata": {},
   "outputs": [],
   "source": [
    "# Put the name of your configuration file below\n",
    "BMI_CONFIG_FILE = \"config_maggic.json\""
   ]
  },
  {
   "cell_type": "code",
   "execution_count": null,
   "metadata": {
    "deletable": false,
    "editable": false,
    "nbgrader": {
     "checksum": "fab020f1b06511e7460fed8f021c1b97",
     "grade": true,
     "grade_id": "q2e-tests",
     "locked": true,
     "points": 15,
     "schema_version": 1,
     "solution": false
    }
   },
   "outputs": [],
   "source": [
    "assert(bmi_score(10,BMI_CONFIG_FILE)==6)\n",
    "assert(bmi_score(15,BMI_CONFIG_FILE)==5)\n",
    "assert(bmi_score(23,BMI_CONFIG_FILE)==3)\n",
    "assert(bmi_score(29,BMI_CONFIG_FILE)==2)\n",
    "assert(bmi_score(32,BMI_CONFIG_FILE)==0)\n",
    "assert(bmi_score(35,BMI_CONFIG_FILE)==0)"
   ]
  },
  {
   "cell_type": "markdown",
   "metadata": {
    "deletable": false,
    "editable": false,
    "nbgrader": {
     "checksum": "2d49caff4aca6956bf874d0ecfec0c25",
     "grade": false,
     "grade_id": "q2f-intro",
     "locked": true,
     "schema_version": 1,
     "solution": false
    }
   },
   "source": [
    "## #2F Ejection Fraction and Systolic"
   ]
  },
  {
   "cell_type": "code",
   "execution_count": null,
   "metadata": {
    "deletable": false,
    "nbgrader": {
     "checksum": "52e72febde51d358046856be17ea6a1d",
     "grade": false,
     "grade_id": "q2f-solution",
     "locked": false,
     "schema_version": 1,
     "solution": true
    }
   },
   "outputs": [],
   "source": [
    "import json\n",
    "\n",
    "def ef_bp(ef, bp, config_file):\n",
    "    \"\"\" int, int, str -> int\n",
    "    ef: The ejection fraction for this subject\n",
    "    bp: The systollic BP for this subject\n",
    "    config_file: The name of a configuration file to use for scoring the ef/bp combination\n",
    "\n",
    "    You'll note in the MAGGIC rules that this score depends on both the ejection fraction range\n",
    "    and the systollic BP range.  Your code will need to the combination of \n",
    "    values to find the right score.  There are three ejection fraction ranges\n",
    "    and six systollic BP ranges.\n",
    "    \"\"\"\n",
    "\n",
    "    efb_score = 0\n",
    "    efs_stat = []\n",
    "    \n",
    "    # YOUR CODE HERE\n",
    "    with open(config_file) as json_file:  \n",
    "        config = json.load(json_file)\n",
    "    \n",
    "    ef_sys = config.get(\"systolic bp\")\n",
    "    if ef < 30:\n",
    "        efs_stat = ef_sys.get(\"low ef\")\n",
    "    elif (ef >= 30 and ef <= 39):\n",
    "        efs_stat = ef_sys.get(\"medium ef\")\n",
    "    elif ef >= 40:\n",
    "        efs_stat = ef_sys.get(\"high ef\")\n",
    "    \n",
    "    for s in efs_stat:\n",
    "        if (s[\"min\"] <= bp <= s[\"max\"]):\n",
    "            efb_score += s[\"points\"]\n",
    "            \n",
    "    return efb_score\n"
   ]
  },
  {
   "cell_type": "code",
   "execution_count": null,
   "metadata": {},
   "outputs": [],
   "source": [
    "# Put the name of your configuration file below\n",
    "EF_BP_CONFIG_FILE = \"config_maggic.json\""
   ]
  },
  {
   "cell_type": "code",
   "execution_count": null,
   "metadata": {
    "deletable": false,
    "editable": false,
    "nbgrader": {
     "checksum": "3480f916bcec6c6bb6f44beb8baa7eba",
     "grade": true,
     "grade_id": "q2f-tests",
     "locked": true,
     "points": 15,
     "schema_version": 1,
     "solution": false
    }
   },
   "outputs": [],
   "source": [
    "assert(ef_bp(20,90,EF_BP_CONFIG_FILE)==5)\n",
    "assert(ef_bp(25,115,EF_BP_CONFIG_FILE)==4)\n",
    "assert(ef_bp(10,133,EF_BP_CONFIG_FILE)==2)\n",
    "assert(ef_bp(29,142,EF_BP_CONFIG_FILE)==1)\n",
    "assert(ef_bp(20,160,EF_BP_CONFIG_FILE)==0)\n",
    "assert(ef_bp(30,90,EF_BP_CONFIG_FILE)==3)\n",
    "assert(ef_bp(35,115,EF_BP_CONFIG_FILE)==2)\n",
    "assert(ef_bp(33,133,EF_BP_CONFIG_FILE)==1)\n",
    "assert(ef_bp(39,142,EF_BP_CONFIG_FILE)==0)\n",
    "assert(ef_bp(30,160,EF_BP_CONFIG_FILE)==0)\n",
    "assert(ef_bp(40,90,EF_BP_CONFIG_FILE)==2)\n",
    "assert(ef_bp(45,115,EF_BP_CONFIG_FILE)==1)\n",
    "assert(ef_bp(43,133,EF_BP_CONFIG_FILE)==0)\n",
    "assert(ef_bp(49,142,EF_BP_CONFIG_FILE)==0)\n",
    "assert(ef_bp(40,160,EF_BP_CONFIG_FILE)==0)\n"
   ]
  },
  {
   "cell_type": "markdown",
   "metadata": {
    "deletable": false,
    "editable": false,
    "nbgrader": {
     "checksum": "fbd87cc3a050c709c9b6fd46e38e783e",
     "grade": false,
     "grade_id": "q2g-intro",
     "locked": true,
     "schema_version": 1,
     "solution": false
    }
   },
   "source": [
    "## #2G Ejection Fraction and Age"
   ]
  },
  {
   "cell_type": "code",
   "execution_count": null,
   "metadata": {
    "deletable": false,
    "nbgrader": {
     "checksum": "bea2dd846a9dbcccd9931cd9b9eebc1d",
     "grade": false,
     "grade_id": "q2g-solution",
     "locked": false,
     "schema_version": 1,
     "solution": true
    }
   },
   "outputs": [],
   "source": [
    "import json\n",
    "\n",
    "def ef_age(ef, age, config_file):\n",
    "    \"\"\" int, int, str -> int\n",
    "    ef: The ejection fraction for this subject\n",
    "    age: The age for this subject\n",
    "    config_file: The name of a configuration file to use for scoring the ef/age combination\n",
    "\n",
    "    You'll note in the MAGGIC rules that this score depends on both the ejection fraction range\n",
    "    and the subject's age.  Your code will need to the combination of \n",
    "    values to find the right score.  There are three ejection fraction ranges\n",
    "    and seven age ranges.\n",
    "    \"\"\"\n",
    "    \n",
    "    efa_score = 0\n",
    "    \n",
    "    # YOUR CODE HERE\n",
    "    efs_stat = []\n",
    "    \n",
    "    # YOUR CODE HERE\n",
    "    with open(config_file) as json_file:  \n",
    "        config = json.load(json_file)\n",
    "    \n",
    "    ef_sys = config.get(\"age\")\n",
    "    if ef < 30:\n",
    "        efs_stat = ef_sys.get(\"low ef\")\n",
    "    elif (ef >= 30 and ef <= 39):\n",
    "        efs_stat = ef_sys.get(\"medium ef\")\n",
    "    elif ef >= 40:\n",
    "        efs_stat = ef_sys.get(\"high ef\")\n",
    "    \n",
    "    for s in efs_stat:\n",
    "        if (s[\"min\"] <= age <= s[\"max\"]):\n",
    "            efa_score += s[\"points\"]\n",
    "            \n",
    "    return efa_score"
   ]
  },
  {
   "cell_type": "code",
   "execution_count": null,
   "metadata": {},
   "outputs": [],
   "source": [
    "# Put the name of your configuration file below\n",
    "EF_AGE_CONFIG_FILE = \"config_maggic.json\""
   ]
  },
  {
   "cell_type": "code",
   "execution_count": null,
   "metadata": {
    "deletable": false,
    "editable": false,
    "nbgrader": {
     "checksum": "76ec5c318b97737f6e533c922bee8cad",
     "grade": true,
     "grade_id": "q2g-tests",
     "locked": true,
     "points": 15,
     "schema_version": 1,
     "solution": false
    }
   },
   "outputs": [],
   "source": [
    "assert(ef_age(20,30,EF_AGE_CONFIG_FILE)==0)\n",
    "assert(ef_age(25,45,EF_AGE_CONFIG_FILE)==0)\n",
    "assert(ef_age(21,57,EF_AGE_CONFIG_FILE)==1)\n",
    "assert(ef_age(29,62,EF_AGE_CONFIG_FILE)==2)\n",
    "assert(ef_age(20,67,EF_AGE_CONFIG_FILE)==4)\n",
    "assert(ef_age(20,73,EF_AGE_CONFIG_FILE)==6)\n",
    "assert(ef_age(20,75,EF_AGE_CONFIG_FILE)==8)\n",
    "assert(ef_age(20,80,EF_AGE_CONFIG_FILE)==10)\n",
    "\n",
    "assert(ef_age(30,30,EF_AGE_CONFIG_FILE)==0)\n",
    "assert(ef_age(35,45,EF_AGE_CONFIG_FILE)==0)\n",
    "assert(ef_age(31,57,EF_AGE_CONFIG_FILE)==2)\n",
    "assert(ef_age(39,62,EF_AGE_CONFIG_FILE)==4)\n",
    "assert(ef_age(30,67,EF_AGE_CONFIG_FILE)==6)\n",
    "assert(ef_age(30,73,EF_AGE_CONFIG_FILE)==8)\n",
    "assert(ef_age(30,75,EF_AGE_CONFIG_FILE)==10)\n",
    "assert(ef_age(30,80,EF_AGE_CONFIG_FILE)==13)\n",
    "\n",
    "assert(ef_age(40,30,EF_AGE_CONFIG_FILE)==0)\n",
    "assert(ef_age(45,45,EF_AGE_CONFIG_FILE)==0)\n",
    "assert(ef_age(41,57,EF_AGE_CONFIG_FILE)==3)\n",
    "assert(ef_age(49,62,EF_AGE_CONFIG_FILE)==5)\n",
    "assert(ef_age(40,67,EF_AGE_CONFIG_FILE)==7)\n",
    "assert(ef_age(40,73,EF_AGE_CONFIG_FILE)==9)\n",
    "assert(ef_age(40,75,EF_AGE_CONFIG_FILE)==12)\n",
    "assert(ef_age(40,80,EF_AGE_CONFIG_FILE)==15)\n"
   ]
  },
  {
   "cell_type": "markdown",
   "metadata": {
    "deletable": false,
    "editable": false,
    "nbgrader": {
     "checksum": "79b1f0ad38cf25373472eeeb53151b0c",
     "grade": false,
     "grade_id": "q3-inro",
     "locked": true,
     "schema_version": 1,
     "solution": false
    }
   },
   "source": [
    "## #3 MAGGIC_Score() Function\n",
    "\n",
    "Now, we need to write a MAGGIC Score function that can calculate the score using the JSON configured rules you built in steps 1 and 2, given values for each of the following parameters:\n",
    "* risk_factors - list of strings like \"Male\" and \"Smoker\"\n",
    "* ejection_fraction - numeric value of ejection fraction\n",
    "* nyha_class - the NYHA value\n",
    "* creatinine - the creatinine level value\n",
    "* bmi - the patient BMI\n",
    "* systolic_bp - patient's systolic blood pressure\n",
    "* age - the patient's age\n"
   ]
  },
  {
   "cell_type": "code",
   "execution_count": null,
   "metadata": {
    "deletable": false,
    "nbgrader": {
     "checksum": "6c1bdcedb039815f88a90ebd556ee845",
     "grade": false,
     "grade_id": "q3-solution",
     "locked": false,
     "schema_version": 1,
     "solution": true
    }
   },
   "outputs": [],
   "source": [
    "import json\n",
    "\n",
    "def maggic_score(risk_factors, ejection_fraction, nhya_class, creatinine, bmi, systolic_bp, age):\n",
    "    score = 0\n",
    "    \n",
    "    # NOTE: this function definition doesn't take the config_file name as one of the parameters.\n",
    "    # I left it this way because it was up to you to decide if you wanted one config file\n",
    "    # or one config file per set of rules.  Put the configuraiton file name(s) into your \n",
    "    # code below as needed.\n",
    "    \n",
    "    # YOUR CODE HERE\n",
    "    \n",
    "    score += risk_factors_score(risk_factors, \"config_maggic.json\")\n",
    "            \n",
    "    score += ejection_fraction_score(ejection_fraction, \"config_maggic.json\")       \n",
    "        \n",
    "    score += nhya_class_score(nhya_class, \"config_maggic.json\")\n",
    "\n",
    "    score += creatinine_level_score(creatinine, \"config_maggic.json\")\n",
    "\n",
    "    score += bmi_score(bmi, \"config_maggic.json\")\n",
    "            \n",
    "    score += ef_bp(ejection_fraction, systolic_bp, \"config_maggic.json\")\n",
    "    \n",
    "    score += ef_age(ejection_fraction, age, \"config_maggic.json\")\n",
    "    \n",
    "    return score"
   ]
  },
  {
   "cell_type": "code",
   "execution_count": null,
   "metadata": {
    "deletable": false,
    "editable": false,
    "nbgrader": {
     "checksum": "6b6767726b45b3a0831a3d13d668d89c",
     "grade": true,
     "grade_id": "q3-tests",
     "locked": true,
     "points": 20,
     "schema_version": 1,
     "solution": false
    }
   },
   "outputs": [],
   "source": [
    "import json\n",
    "\n",
    "# I've provided a test file called test_subjects.json\n",
    "# I'll be using the test cases in there for grading this final function\n",
    "# If your tests above all worked for the provided test cases, then this should work fine, too.\n",
    "# There's only one test case provided right now.  I'll add many more for the final scoring.\n",
    "\n",
    "subjects = json.load(open('test_subjects.json'))\n",
    "for subject in subjects:\n",
    "    rf = subject.get('risks')\n",
    "    ef = subject.get('ef')\n",
    "    nhya = subject.get('nhya')\n",
    "    creatinine = subject.get('creatinine')\n",
    "    bmi = subject.get('bmi')\n",
    "    bp = subject.get('bp')\n",
    "    age = subject.get('age')\n",
    "    maggic = subject.get('maggic')\n",
    "    score = maggic_score(rf, ef, nhya, creatinine, bmi, bp, age)\n",
    "    print(\"Got a score of {}, should have been {}\".format(score, maggic))\n",
    "    assert(score == maggic)"
   ]
  },
  {
   "cell_type": "code",
   "execution_count": null,
   "metadata": {},
   "outputs": [],
   "source": []
  }
 ],
 "metadata": {
  "kernelspec": {
   "display_name": "Python 3",
   "language": "python",
   "name": "python3"
  },
  "language_info": {
   "codemirror_mode": {
    "name": "ipython",
    "version": 3
   },
   "file_extension": ".py",
   "mimetype": "text/x-python",
   "name": "python",
   "nbconvert_exporter": "python",
   "pygments_lexer": "ipython3",
   "version": "3.7.2"
  }
 },
 "nbformat": 4,
 "nbformat_minor": 2
}
