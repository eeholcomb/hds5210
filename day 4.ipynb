{
 "cells": [
  {
   "cell_type": "code",
   "execution_count": 2,
   "metadata": {},
   "outputs": [],
   "source": [
    "hundred = []"
   ]
  },
  {
   "cell_type": "code",
   "execution_count": 3,
   "metadata": {},
   "outputs": [],
   "source": [
    "for i in range(1,101):\n",
    "    hundred.append(i)"
   ]
  },
  {
   "cell_type": "code",
   "execution_count": 12,
   "metadata": {
    "scrolled": true
   },
   "outputs": [
    {
     "data": {
      "text/plain": [
       "[1, 101]"
      ]
     },
     "execution_count": 12,
     "metadata": {},
     "output_type": "execute_result"
    }
   ],
   "source": [
    "hundred"
   ]
  },
  {
   "cell_type": "code",
   "execution_count": 39,
   "metadata": {},
   "outputs": [],
   "source": [
    "#print \"first name\" is a \"last name\"\n",
    "#print alphabetically by last name, then first name, and do the same thing\n",
    "\n",
    "names = [['Ada', 'Boal'],['Paul', 'Boal'],['Teddy','Boal'],['Daisy','Duck'],['Donald','Duck'],['Eric','Westhus']]"
   ]
  },
  {
   "cell_type": "code",
   "execution_count": 40,
   "metadata": {},
   "outputs": [
    {
     "name": "stdout",
     "output_type": "stream",
     "text": [
      "Ada is a Boal\n",
      "Paul is a Boal\n",
      "Teddy is a Boal\n",
      "Daisy is a Duck\n",
      "Donald is a Duck\n",
      "Eric is a Westhus\n"
     ]
    }
   ],
   "source": [
    "for i in names:\n",
    "    print(i[0], \"is a\", i[1])"
   ]
  },
  {
   "cell_type": "code",
   "execution_count": 43,
   "metadata": {},
   "outputs": [
    {
     "name": "stdout",
     "output_type": "stream",
     "text": [
      "Ada Boal\n",
      "Paul Boal\n",
      "Teddy Boal\n",
      "Daisy Duck\n",
      "Donald Duck\n",
      "Eric Westhus\n"
     ]
    }
   ],
   "source": [
    "full_name = []\n",
    "names_by_last = []\n",
    "\n",
    "\n",
    "for name in names:\n",
    "    names_by_last.append([name[1],name[0]])\n",
    "    \n",
    "names_by_last.sort()\n",
    "\n",
    "for name in names_by_last:\n",
    "    print(name[1] + \" \" + name[0])"
   ]
  },
  {
   "cell_type": "code",
   "execution_count": 55,
   "metadata": {},
   "outputs": [],
   "source": [
    "families = {\n",
    "    'Lester-Boal':[\n",
    "        {'last':'Boal','first':'Paul','age':41},\n",
    "        {'last':'Lester-Boal','first':'Ada','age':12}\n",
    "    ],\n",
    "    'Holcomb':[\n",
    "        {'last':'Holcomb','first':'Emily','age':26},\n",
    "        {'last':'Holcomb','first':'Erin','age':29}\n",
    "    ]\n",
    "}"
   ]
  },
  {
   "cell_type": "code",
   "execution_count": 50,
   "metadata": {},
   "outputs": [],
   "source": []
  },
  {
   "cell_type": "code",
   "execution_count": 56,
   "metadata": {},
   "outputs": [],
   "source": [
    "average_ages = {}\n",
    "\n",
    "for last_name, family in families.items():\n",
    "    total_age = 0\n",
    "    count = 0\n",
    "    for member in family:\n",
    "        total_age += member['age']\n",
    "        count += 1\n",
    "    average_ages[last_name] = (total_age/count)"
   ]
  },
  {
   "cell_type": "code",
   "execution_count": 57,
   "metadata": {},
   "outputs": [
    {
     "data": {
      "text/plain": [
       "{'Lester-Boal': 26.5, 'Holcomb': 27.5}"
      ]
     },
     "execution_count": 57,
     "metadata": {},
     "output_type": "execute_result"
    }
   ],
   "source": [
    "average_ages"
   ]
  },
  {
   "cell_type": "code",
   "execution_count": null,
   "metadata": {},
   "outputs": [],
   "source": []
  }
 ],
 "metadata": {
  "kernelspec": {
   "display_name": "Python 3",
   "language": "python",
   "name": "python3"
  },
  "language_info": {
   "codemirror_mode": {
    "name": "ipython",
    "version": 3
   },
   "file_extension": ".py",
   "mimetype": "text/x-python",
   "name": "python",
   "nbconvert_exporter": "python",
   "pygments_lexer": "ipython3",
   "version": "3.7.1"
  }
 },
 "nbformat": 4,
 "nbformat_minor": 2
}
