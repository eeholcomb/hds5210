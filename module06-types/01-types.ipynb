{
 "cells": [
  {
   "cell_type": "markdown",
   "metadata": {},
   "source": [
    "Before you turn this problem in, make sure everything runs as expected. First, **restart the kernel** (in the menubar, select Kernel$\\rightarrow$Restart) and then **run all cells** (in the menubar, select Cell$\\rightarrow$Run All).\n",
    "\n",
    "Make sure you fill in any place that says `YOUR CODE HERE` or \"YOUR ANSWER HERE\", as well as your name and collaborators below:"
   ]
  },
  {
   "cell_type": "code",
   "execution_count": null,
   "metadata": {},
   "outputs": [],
   "source": [
    "NAME = \"Emily Holcomb\"\n",
    "COLLABORATORS = \"\""
   ]
  },
  {
   "cell_type": "markdown",
   "metadata": {},
   "source": [
    "---"
   ]
  },
  {
   "cell_type": "markdown",
   "metadata": {
    "deletable": false,
    "editable": false,
    "nbgrader": {
     "checksum": "ff4a7a98d2b74d3925144a0d19594ac6",
     "grade": false,
     "grade_id": "cell-487d4b5c3baf5811",
     "locked": true,
     "schema_version": 1,
     "solution": false
    }
   },
   "source": [
    "# Instructions\n",
    "\n",
    "In the answer section below, select your answer to the following multiple choice questions by typing `answer = \"X\"` where `X` is the letter for the correct multiple choice answer."
   ]
  },
  {
   "cell_type": "markdown",
   "metadata": {
    "deletable": false,
    "editable": false,
    "nbgrader": {
     "checksum": "ee9ced831d913cc01b21665484eb5368",
     "grade": false,
     "grade_id": "cell-b1d2d11ce9c37979",
     "locked": true,
     "schema_version": 1,
     "solution": false
    }
   },
   "source": [
    "## #1 Built-in Types\n",
    "\n",
    "Which of the following are NOT standard built-in data types in Python.  Put your answer inside brackets as shown here: `answer = [\"X\", \"Y\", \"Z\"]` \n",
    "\n",
    "> A) bool\n",
    ">\n",
    "> B) datetime\n",
    ">\n",
    "> C) decimal\n",
    ">\n",
    "> D) float\n",
    ">\n",
    "> E) int\n",
    ">\n",
    "> F) timestamp\n",
    ">\n",
    "> G) None\n"
   ]
  },
  {
   "cell_type": "code",
   "execution_count": null,
   "metadata": {
    "deletable": false,
    "nbgrader": {
     "checksum": "3a95eccc2c187d3d3931ed352644a186",
     "grade": false,
     "grade_id": "cell-80dc9ca5c675bbde",
     "locked": false,
     "schema_version": 1,
     "solution": true
    }
   },
   "outputs": [],
   "source": [
    "def q01():\n",
    "    \n",
    "    # answer = [\"X\",\"Y\",\"Z\"]\n",
    "    # YOUR CODE HERE\n",
    "    answer = [\"B\",\"C\",\"F\"]\n",
    "    \n",
    "    return answer"
   ]
  },
  {
   "cell_type": "code",
   "execution_count": null,
   "metadata": {
    "deletable": false,
    "editable": false,
    "nbgrader": {
     "checksum": "bdd1412f2d538bfeee686698afac2aa9",
     "grade": true,
     "grade_id": "cell-a08ca8cf94a4e835",
     "locked": true,
     "points": 1,
     "schema_version": 1,
     "solution": false
    }
   },
   "outputs": [],
   "source": [
    "assert type(q01()) == list"
   ]
  },
  {
   "cell_type": "markdown",
   "metadata": {
    "deletable": false,
    "editable": false,
    "nbgrader": {
     "checksum": "0ac11219d0acf3953c03d21795244325",
     "grade": false,
     "grade_id": "cell-6d48f42b55b1971f",
     "locked": true,
     "schema_version": 1,
     "solution": false
    }
   },
   "source": [
    "## #2 Strings\n",
    "\n",
    "Which is the proper way to create a multi-line string in a Python program?\n",
    "\n",
    "> A) Place `#` characters at the beginning of each line of the string\n",
    ">\n",
    "> B) Start the string with a `'` or `\"` and then indent all of the subsquent lines until you place a `'` or `\"` at the end of the multi-line string\n",
    ">\n",
    "> C) Place triple-quotes (`'''` or `\"\"\"`) on the first line and last line of the multi-line string\n",
    ">\n",
    "> D) You can't create multi-line strings in Python\n"
   ]
  },
  {
   "cell_type": "code",
   "execution_count": null,
   "metadata": {
    "deletable": false,
    "nbgrader": {
     "checksum": "c5be632d5271636dc505902a644e8a6d",
     "grade": false,
     "grade_id": "cell-2946b0bb4ae276e6",
     "locked": false,
     "schema_version": 1,
     "solution": true
    }
   },
   "outputs": [],
   "source": [
    "def q02():\n",
    "    \n",
    "    # Use the format answer = \"X\" again\n",
    "    # YOUR CODE HERE\n",
    "    answer = \"A\"\n",
    "    \n",
    "    return answer"
   ]
  },
  {
   "cell_type": "code",
   "execution_count": null,
   "metadata": {
    "deletable": false,
    "editable": false,
    "nbgrader": {
     "checksum": "28594f7a40bbf154e907e98fc7912c7c",
     "grade": true,
     "grade_id": "cell-250a2cc17824ea0c",
     "locked": true,
     "points": 1,
     "schema_version": 1,
     "solution": false
    }
   },
   "outputs": [],
   "source": [
    "assert type(q02()) == str"
   ]
  },
  {
   "cell_type": "markdown",
   "metadata": {
    "deletable": false,
    "editable": false,
    "nbgrader": {
     "checksum": "cf696705ec11707862974c968052788b",
     "grade": false,
     "grade_id": "cell-8024bf75c90ba037",
     "locked": true,
     "schema_version": 1,
     "solution": false
    }
   },
   "source": [
    "## #3 Variable Types\n",
    "\n",
    "Which statement is **not** true about the following segment of code:\n",
    "```\n",
    "var = \"My first program\"\n",
    "var = 3.14\n",
    "var = var + \" is pi\"\n",
    "```\n",
    "\n",
    "> A) `var` is a very bad name for a variable\n",
    ">\n",
    "> B) The code will fail on the second line because `var` is already a string and can't be changed to a number\n",
    ">\n",
    "> C) The code will fail on the last line because `var` is a number and you can't add numbers and strings\n",
    ">\n",
    "> D) `3.14` has the type of `float`\n"
   ]
  },
  {
   "cell_type": "code",
   "execution_count": null,
   "metadata": {
    "deletable": false,
    "nbgrader": {
     "checksum": "9dd6f32feb60846b45d703da1b6bd1ca",
     "grade": false,
     "grade_id": "cell-b2a1d9e47b8fb90c",
     "locked": false,
     "schema_version": 1,
     "solution": true
    }
   },
   "outputs": [],
   "source": [
    "def q03():\n",
    "    \n",
    "    # YOUR CODE HERE\n",
    "    answer = \"B\"\n",
    "    \n",
    "    return answer"
   ]
  },
  {
   "cell_type": "code",
   "execution_count": null,
   "metadata": {
    "deletable": false,
    "editable": false,
    "nbgrader": {
     "checksum": "273b6b543650512882c54a863aed0d5e",
     "grade": true,
     "grade_id": "cell-fac4de98eef8e85b",
     "locked": true,
     "points": 1,
     "schema_version": 1,
     "solution": false
    }
   },
   "outputs": [],
   "source": [
    "assert type(q03()) == str"
   ]
  }
 ],
 "metadata": {
  "kernelspec": {
   "display_name": "Python 3",
   "language": "python",
   "name": "python3"
  },
  "language_info": {
   "codemirror_mode": {
    "name": "ipython",
    "version": 3
   },
   "file_extension": ".py",
   "mimetype": "text/x-python",
   "name": "python",
   "nbconvert_exporter": "python",
   "pygments_lexer": "ipython3",
   "version": "3.7.1"
  }
 },
 "nbformat": 4,
 "nbformat_minor": 2
}
