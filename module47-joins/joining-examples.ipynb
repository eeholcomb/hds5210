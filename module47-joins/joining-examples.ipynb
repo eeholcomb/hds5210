{
 "cells": [
  {
   "cell_type": "markdown",
   "metadata": {},
   "source": [
    "Before you turn this problem in, make sure everything runs as expected. First, **restart the kernel** (in the menubar, select Kernel$\\rightarrow$Restart) and then **run all cells** (in the menubar, select Cell$\\rightarrow$Run All).\n",
    "\n",
    "Make sure you fill in any place that says `YOUR CODE HERE` or \"YOUR ANSWER HERE\", as well as your name and collaborators below:"
   ]
  },
  {
   "cell_type": "code",
   "execution_count": null,
   "metadata": {},
   "outputs": [],
   "source": [
    "NAME = \"\"\n",
    "COLLABORATORS = \"\""
   ]
  },
  {
   "cell_type": "markdown",
   "metadata": {},
   "source": [
    "---"
   ]
  },
  {
   "cell_type": "markdown",
   "metadata": {},
   "source": [
    "# Relational Algebra (joins)\n",
    "\n",
    "There are a few different kinds of joins in relational algebra:\n",
    "* Inner\n",
    "* (Left / Right / Full) Outer\n",
    "* Cross Join"
   ]
  },
  {
   "cell_type": "code",
   "execution_count": null,
   "metadata": {},
   "outputs": [],
   "source": [
    "import pandas as pd"
   ]
  },
  {
   "cell_type": "code",
   "execution_count": null,
   "metadata": {},
   "outputs": [],
   "source": [
    "employees = pd.read_csv('/data/employees.csv')"
   ]
  },
  {
   "cell_type": "code",
   "execution_count": null,
   "metadata": {},
   "outputs": [],
   "source": [
    "employees"
   ]
  },
  {
   "cell_type": "code",
   "execution_count": null,
   "metadata": {},
   "outputs": [],
   "source": [
    "departments = pd.read_csv('/data/departments.csv')"
   ]
  },
  {
   "cell_type": "code",
   "execution_count": null,
   "metadata": {},
   "outputs": [],
   "source": [
    "departments"
   ]
  },
  {
   "cell_type": "markdown",
   "metadata": {},
   "source": [
    "## Join Departments and Employees\n",
    "\n",
    "Keeping all the Department names that show up in either set of data"
   ]
  },
  {
   "cell_type": "code",
   "execution_count": null,
   "metadata": {},
   "outputs": [],
   "source": [
    "total = departments.merge(employees, how='outer')"
   ]
  },
  {
   "cell_type": "code",
   "execution_count": null,
   "metadata": {},
   "outputs": [],
   "source": [
    "total"
   ]
  },
  {
   "cell_type": "code",
   "execution_count": null,
   "metadata": {},
   "outputs": [],
   "source": [
    "by_dept = total.groupby('Department')['Budget','ID'].agg({'ID':'count','Budget':'last'})"
   ]
  },
  {
   "cell_type": "code",
   "execution_count": null,
   "metadata": {},
   "outputs": [],
   "source": [
    "by_dept"
   ]
  },
  {
   "cell_type": "code",
   "execution_count": null,
   "metadata": {},
   "outputs": [],
   "source": [
    "by_dept['PerPerson'] = by_dept['Budget'] / by_dept['ID'] "
   ]
  },
  {
   "cell_type": "code",
   "execution_count": null,
   "metadata": {},
   "outputs": [],
   "source": [
    "by_dept"
   ]
  },
  {
   "cell_type": "markdown",
   "metadata": {},
   "source": [
    "## Different than Left Outer Join\n",
    "\n",
    "With `left` and `right` joins, the meaning of those words is based on which side of the `merge()` function they are on.  In the examples below, `departments` is on the left and `employees` is on the right.\n",
    "\n",
    "Note that there is no `None` department in the departments file!  So, it doesn't show up in this version of the join."
   ]
  },
  {
   "cell_type": "code",
   "execution_count": null,
   "metadata": {},
   "outputs": [],
   "source": [
    "departments.merge(employees, how='left')"
   ]
  },
  {
   "cell_type": "markdown",
   "metadata": {},
   "source": [
    "Note that there is noone in the `Facilities` department, so it won't show up in a right join."
   ]
  },
  {
   "cell_type": "code",
   "execution_count": null,
   "metadata": {},
   "outputs": [],
   "source": [
    "departments.merge(employees, how='right')"
   ]
  },
  {
   "cell_type": "markdown",
   "metadata": {},
   "source": [
    "# Getting the Supervisor\n",
    "\n",
    "We can actually join a data frame back to itself"
   ]
  },
  {
   "cell_type": "code",
   "execution_count": null,
   "metadata": {},
   "outputs": [],
   "source": [
    "employees[['ID','Name','Title']].rename(index=str, columns={'ID': 'SupervisorID', 'Name': 'SupervisorName', 'Title':'SupervisorTitle'})"
   ]
  },
  {
   "cell_type": "code",
   "execution_count": null,
   "metadata": {},
   "outputs": [],
   "source": [
    "supervisors=employees[['ID','Name','Title']].rename(\n",
    "    index=str, \n",
    "    columns={'ID': 'SupervisorID', 'Name': 'SupervisorName', 'Title':'SupervisorTitle'})\n",
    "\n",
    "reports = employees.merge(\n",
    "    supervisors,\n",
    "    how='left',\n",
    "    left_on='SupervisorID',\n",
    "    right_on='SupervisorID')\n",
    "\n",
    "reports"
   ]
  },
  {
   "cell_type": "code",
   "execution_count": null,
   "metadata": {},
   "outputs": [],
   "source": [
    "reports.groupby('SupervisorName')['ID'].count()"
   ]
  },
  {
   "cell_type": "markdown",
   "metadata": {},
   "source": [
    "## Recursion\n",
    "\n",
    "We can actually do this recursively if we want to!"
   ]
  },
  {
   "cell_type": "code",
   "execution_count": null,
   "metadata": {},
   "outputs": [],
   "source": [
    "def get_all_reports(df, supervisor_id, level=1):\n",
    "    direct = df[df['SupervisorID'] == supervisor_id]\n",
    "    direct = direct.assign(Level=level)\n",
    "    \n",
    "    if len(direct) == 0:\n",
    "        return direct\n",
    "    else:\n",
    "        subs = direct['ID']\n",
    "        for s in subs:\n",
    "            direct=pd.concat([direct,get_all_reports(df, s, level+1)])\n",
    "        return direct\n",
    "            "
   ]
  },
  {
   "cell_type": "code",
   "execution_count": null,
   "metadata": {},
   "outputs": [],
   "source": [
    "get_all_reports(employees, 18374)"
   ]
  },
  {
   "cell_type": "code",
   "execution_count": null,
   "metadata": {},
   "outputs": [],
   "source": [
    "get_all_reports(employees, 8232)"
   ]
  },
  {
   "cell_type": "markdown",
   "metadata": {},
   "source": [
    "# Cross Join or Cartesian Product\n",
    "\n",
    "The idea here it to create all possible combinations of rows from the two data frames.  There is no **key** to join on per se."
   ]
  },
  {
   "cell_type": "code",
   "execution_count": null,
   "metadata": {},
   "outputs": [],
   "source": [
    "genders = ['M','F','O','U']\n",
    "age_ranges = ['0-18', '19-64', '65-84', '85+']\n",
    "\n",
    "index = pd.MultiIndex.from_product([genders, age_ranges], names = [\"gender\", \"age_range\"])\n",
    "\n",
    "combinations = pd.DataFrame(index = index).reset_index()"
   ]
  },
  {
   "cell_type": "code",
   "execution_count": null,
   "metadata": {},
   "outputs": [],
   "source": [
    "combinations"
   ]
  },
  {
   "cell_type": "code",
   "execution_count": null,
   "metadata": {},
   "outputs": [],
   "source": []
  }
 ],
 "metadata": {
  "kernelspec": {
   "display_name": "Python 3",
   "language": "python",
   "name": "python3"
  },
  "language_info": {
   "codemirror_mode": {
    "name": "ipython",
    "version": 3
   },
   "file_extension": ".py",
   "mimetype": "text/x-python",
   "name": "python",
   "nbconvert_exporter": "python",
   "pygments_lexer": "ipython3",
   "version": "3.7.2"
  }
 },
 "nbformat": 4,
 "nbformat_minor": 2
}
