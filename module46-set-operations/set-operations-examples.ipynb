{
 "cells": [
  {
   "cell_type": "markdown",
   "metadata": {},
   "source": [
    "Before you turn this problem in, make sure everything runs as expected. First, **restart the kernel** (in the menubar, select Kernel$\\rightarrow$Restart) and then **run all cells** (in the menubar, select Cell$\\rightarrow$Run All).\n",
    "\n",
    "Make sure you fill in any place that says `YOUR CODE HERE` or \"YOUR ANSWER HERE\", as well as your name and collaborators below:"
   ]
  },
  {
   "cell_type": "code",
   "execution_count": null,
   "metadata": {},
   "outputs": [],
   "source": [
    "NAME = \"\"\n",
    "COLLABORATORS = \"\""
   ]
  },
  {
   "cell_type": "markdown",
   "metadata": {},
   "source": [
    "---"
   ]
  },
  {
   "cell_type": "markdown",
   "metadata": {},
   "source": [
    "# Set Operations on DataFrames\n",
    "\n",
    "To start with, let's explain what \"set\" operations are.  When we say \"set\" here, we aren't talking about the `set` data type in Python.  We're talking about **set algebra**.  https://en.wikipedia.org/wiki/Algebra_of_sets\n",
    "\n",
    "**Operations**\n",
    "* UNION\n",
    "* INTERSECTION\n",
    "* MINUS / EXCEPT\n",
    "* COMPLIMENT\n",
    "\n",
    "**Relations**\n",
    "* EQUALITY\n",
    "* INCLUSION"
   ]
  },
  {
   "cell_type": "markdown",
   "metadata": {},
   "source": [
    "## OPERATIONS"
   ]
  },
  {
   "cell_type": "code",
   "execution_count": null,
   "metadata": {},
   "outputs": [],
   "source": [
    "import pandas as pd\n",
    "family = pd.DataFrame([['Paul','M'],['Anny','F'],['Sarahlynn','F'],['Jim','M']], columns=['Name','Gender'])\n",
    "kirkwood = pd.DataFrame([['Paul','M'],['Anny','F'],['Sarahlynn','F'],['Rob','M']], columns=['Name','Gender'])\n",
    "\n",
    "family.set_index('Name', inplace=True)\n",
    "kirkwood.set_index('Name', inplace=True)"
   ]
  },
  {
   "cell_type": "code",
   "execution_count": null,
   "metadata": {},
   "outputs": [],
   "source": [
    "# UNION\n",
    "pd.concat([family, kirkwood], join='outer', axis=1, sort=False)"
   ]
  },
  {
   "cell_type": "code",
   "execution_count": null,
   "metadata": {},
   "outputs": [],
   "source": [
    "# INTERSECTION\n",
    "pd.concat([family, kirkwood], join='inner', axis=1, sort=False)"
   ]
  },
  {
   "cell_type": "code",
   "execution_count": null,
   "metadata": {},
   "outputs": [],
   "source": [
    "# MINUS\n",
    "family.index.difference(kirkwood.index)"
   ]
  },
  {
   "cell_type": "code",
   "execution_count": null,
   "metadata": {},
   "outputs": [],
   "source": [
    "family.loc[family.index.difference(kirkwood.index)]"
   ]
  },
  {
   "cell_type": "markdown",
   "metadata": {},
   "source": [
    "**COMPLIMENT** isn't really a valuable concept with data frames because there isn't the idea of an \"entire universe of possible values\"\n"
   ]
  },
  {
   "cell_type": "markdown",
   "metadata": {},
   "source": [
    "## RELATIONS"
   ]
  },
  {
   "cell_type": "code",
   "execution_count": null,
   "metadata": {},
   "outputs": [],
   "source": [
    "import pandas as pd\n",
    "family = pd.DataFrame([['Paul','M'],['Anny','F'],['Sarahlynn','F']], columns=['Name','Gender'])\n",
    "kirkwood_family = pd.DataFrame([['Paul','M'],['Anny','F'],['Sarahlynn','F']], columns=['Name','Gender'])\n",
    "\n",
    "family.set_index('Name', inplace=True)\n",
    "kirkwood_family.set_index('Name', inplace=True)"
   ]
  },
  {
   "cell_type": "code",
   "execution_count": null,
   "metadata": {},
   "outputs": [],
   "source": [
    "# Test for equality\n",
    "family.index.equals(kirkwood_family.index)"
   ]
  },
  {
   "cell_type": "code",
   "execution_count": null,
   "metadata": {},
   "outputs": [],
   "source": [
    "# Test for inclusion\n",
    "len(kirkwood_family.index.difference(family.index)) == 0"
   ]
  },
  {
   "cell_type": "code",
   "execution_count": null,
   "metadata": {},
   "outputs": [],
   "source": []
  },
  {
   "cell_type": "markdown",
   "metadata": {},
   "source": [
    "# Example Application\n",
    "\n",
    "Get a list of all the hospitals that are in NM from one data frame\n",
    "\n",
    "Get a list of all the hospital that have stroke specialists from another data frame\n",
    "\n",
    "Then get HCAPS scores from another data frame for all the hospitals in NM that have stroke specialists"
   ]
  },
  {
   "cell_type": "code",
   "execution_count": null,
   "metadata": {},
   "outputs": [],
   "source": []
  }
 ],
 "metadata": {
  "kernelspec": {
   "display_name": "Python 3",
   "language": "python",
   "name": "python3"
  },
  "language_info": {
   "codemirror_mode": {
    "name": "ipython",
    "version": 3
   },
   "file_extension": ".py",
   "mimetype": "text/x-python",
   "name": "python",
   "nbconvert_exporter": "python",
   "pygments_lexer": "ipython3",
   "version": "3.7.2"
  }
 },
 "nbformat": 4,
 "nbformat_minor": 2
}
