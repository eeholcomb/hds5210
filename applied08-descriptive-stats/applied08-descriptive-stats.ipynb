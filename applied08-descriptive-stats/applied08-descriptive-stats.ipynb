{
 "cells": [
  {
   "cell_type": "markdown",
   "metadata": {},
   "source": [
    "Before you turn this problem in, make sure everything runs as expected. First, **restart the kernel** (in the menubar, select Kernel$\\rightarrow$Restart) and then **run all cells** (in the menubar, select Cell$\\rightarrow$Run All).\n",
    "\n",
    "Make sure you fill in any place that says `YOUR CODE HERE` or \"YOUR ANSWER HERE\", as well as your name and collaborators below:"
   ]
  },
  {
   "cell_type": "code",
   "execution_count": null,
   "metadata": {},
   "outputs": [],
   "source": [
    "NAME = \"Emily Holcomb\"\n",
    "COLLABORATORS = \"\""
   ]
  },
  {
   "cell_type": "markdown",
   "metadata": {},
   "source": [
    "---"
   ]
  },
  {
   "cell_type": "markdown",
   "metadata": {
    "deletable": false,
    "editable": false,
    "nbgrader": {
     "checksum": "4ec20674bf52dd632b502d6665c06601",
     "grade": false,
     "grade_id": "cell-fc1c39d0d6f8b82a",
     "locked": true,
     "schema_version": 1,
     "solution": false
    }
   },
   "source": [
    "# Descriptive Stats\n",
    "\n",
    "For the questions below, we're going to refer exclusively to an HHCAPS survey data set that is available in `/data/hhcaps.csv`.  Use whatever commands you want to calculate the information required to get to the answer.\n",
    "\n",
    "\n",
    "Put your solution as the last line right before the test cell, using the form shown below:\n",
    "\n",
    "```\n",
    "answer = ...\n",
    "```\n",
    "\n"
   ]
  },
  {
   "cell_type": "code",
   "execution_count": 1,
   "metadata": {
    "deletable": false,
    "editable": false,
    "nbgrader": {
     "checksum": "6e37b71c21e9bac94c9862756841d930",
     "grade": false,
     "grade_id": "intro",
     "locked": true,
     "schema_version": 1,
     "solution": false
    }
   },
   "outputs": [],
   "source": [
    "%matplotlib inline\n",
    "import pandas as pd\n",
    "\n",
    "hhcaps = pd.read_csv('/data/hhcaps.csv')"
   ]
  },
  {
   "cell_type": "code",
   "execution_count": 2,
   "metadata": {},
   "outputs": [
    {
     "data": {
      "text/html": [
       "<div>\n",
       "<style scoped>\n",
       "    .dataframe tbody tr th:only-of-type {\n",
       "        vertical-align: middle;\n",
       "    }\n",
       "\n",
       "    .dataframe tbody tr th {\n",
       "        vertical-align: top;\n",
       "    }\n",
       "\n",
       "    .dataframe thead th {\n",
       "        text-align: right;\n",
       "    }\n",
       "</style>\n",
       "<table border=\"1\" class=\"dataframe\">\n",
       "  <thead>\n",
       "    <tr style=\"text-align: right;\">\n",
       "      <th></th>\n",
       "      <th>State</th>\n",
       "      <th>CMS Certification Number (CCN)*</th>\n",
       "      <th>Provider Name</th>\n",
       "      <th>Address</th>\n",
       "      <th>City</th>\n",
       "      <th>Zip</th>\n",
       "      <th>Phone</th>\n",
       "      <th>Type of Ownership</th>\n",
       "      <th>Offers Nursing Care Services</th>\n",
       "      <th>Offers Physical Therapy Services</th>\n",
       "      <th>...</th>\n",
       "      <th>Star Rating for how patients rated overall care from agency</th>\n",
       "      <th>Footnote for Star Rating for overall care from agency</th>\n",
       "      <th>Percent of patients who gave their home health agency a rating of 9 or 10 on a scale from 0 (lowest) to 10 (highest)</th>\n",
       "      <th>Footnote for percent of patients who gave their home health agency a rating of 9 or 10 on a scale from 0 (lowest) to 10 (highest)</th>\n",
       "      <th>Percent of patients who reported YES, they would definitely recommend the home health agency to friends and family</th>\n",
       "      <th>Footnote for percent of patients who reported YES, they would definitely recommend the home health agency to friends and family</th>\n",
       "      <th>Number of completed Surveys</th>\n",
       "      <th>Footnote for number of completed surveys</th>\n",
       "      <th>Response rate</th>\n",
       "      <th>Footnote for response rate</th>\n",
       "    </tr>\n",
       "  </thead>\n",
       "  <tbody>\n",
       "    <tr>\n",
       "      <th>0</th>\n",
       "      <td>AL</td>\n",
       "      <td>17000</td>\n",
       "      <td>BUREAU OF HOME &amp; COMMUNITY SERVICES           ...</td>\n",
       "      <td>201 MONROE STREET, THE RSA TOWER,  SUITE 1200 ...</td>\n",
       "      <td>MONTGOMERY</td>\n",
       "      <td>36104</td>\n",
       "      <td>3342065341</td>\n",
       "      <td>Official Health Agency</td>\n",
       "      <td>True</td>\n",
       "      <td>True</td>\n",
       "      <td>...</td>\n",
       "      <td>NaN</td>\n",
       "      <td>No survey results are available for this period.</td>\n",
       "      <td>Not Available</td>\n",
       "      <td>No survey results are available for this period.</td>\n",
       "      <td>Not Available</td>\n",
       "      <td>No survey results are available for this period.</td>\n",
       "      <td>Not Available</td>\n",
       "      <td>No survey results are available for this period.</td>\n",
       "      <td>Not Available</td>\n",
       "      <td>No survey results are available for this period.</td>\n",
       "    </tr>\n",
       "    <tr>\n",
       "      <th>1</th>\n",
       "      <td>AL</td>\n",
       "      <td>17008</td>\n",
       "      <td>JEFFERSON COUNTY HOME CARE                    ...</td>\n",
       "      <td>2201 ARLINGTON AVENUE                         ...</td>\n",
       "      <td>BESSEMER</td>\n",
       "      <td>35020</td>\n",
       "      <td>2059169500</td>\n",
       "      <td>Official Health Agency</td>\n",
       "      <td>True</td>\n",
       "      <td>True</td>\n",
       "      <td>...</td>\n",
       "      <td>4.0</td>\n",
       "      <td>Fewer than 100 patients completed the survey. ...</td>\n",
       "      <td>91</td>\n",
       "      <td>Fewer than 100 patients completed the survey. ...</td>\n",
       "      <td>77</td>\n",
       "      <td>Fewer than 100 patients completed the survey. ...</td>\n",
       "      <td>55</td>\n",
       "      <td>Fewer than 100 patients completed the survey. ...</td>\n",
       "      <td>23</td>\n",
       "      <td>Fewer than 100 patients completed the survey. ...</td>\n",
       "    </tr>\n",
       "    <tr>\n",
       "      <th>2</th>\n",
       "      <td>AL</td>\n",
       "      <td>17009</td>\n",
       "      <td>ALACARE HOME HEALTH &amp; HOSPICE                 ...</td>\n",
       "      <td>2970 LORNA ROAD                               ...</td>\n",
       "      <td>BIRMINGHAM</td>\n",
       "      <td>35216</td>\n",
       "      <td>2058242680</td>\n",
       "      <td>Local</td>\n",
       "      <td>True</td>\n",
       "      <td>True</td>\n",
       "      <td>...</td>\n",
       "      <td>4.0</td>\n",
       "      <td>NaN</td>\n",
       "      <td>88</td>\n",
       "      <td>NaN</td>\n",
       "      <td>81</td>\n",
       "      <td>NaN</td>\n",
       "      <td>327</td>\n",
       "      <td>NaN</td>\n",
       "      <td>32</td>\n",
       "      <td>NaN</td>\n",
       "    </tr>\n",
       "    <tr>\n",
       "      <th>3</th>\n",
       "      <td>AL</td>\n",
       "      <td>17013</td>\n",
       "      <td>GENTIVA HEALTH SERVICES                       ...</td>\n",
       "      <td>1239 RUCKER BLVD                              ...</td>\n",
       "      <td>ENTERPRISE</td>\n",
       "      <td>36330</td>\n",
       "      <td>3343470234</td>\n",
       "      <td>Official Health Agency</td>\n",
       "      <td>True</td>\n",
       "      <td>True</td>\n",
       "      <td>...</td>\n",
       "      <td>4.0</td>\n",
       "      <td>NaN</td>\n",
       "      <td>91</td>\n",
       "      <td>NaN</td>\n",
       "      <td>91</td>\n",
       "      <td>NaN</td>\n",
       "      <td>252</td>\n",
       "      <td>NaN</td>\n",
       "      <td>34</td>\n",
       "      <td>NaN</td>\n",
       "    </tr>\n",
       "    <tr>\n",
       "      <th>4</th>\n",
       "      <td>AL</td>\n",
       "      <td>17014</td>\n",
       "      <td>AMEDISYS HOME HEALTH                          ...</td>\n",
       "      <td>68278 MAIN STREET                             ...</td>\n",
       "      <td>BLOUNTSVILLE</td>\n",
       "      <td>35031</td>\n",
       "      <td>2054294919</td>\n",
       "      <td>Local</td>\n",
       "      <td>True</td>\n",
       "      <td>True</td>\n",
       "      <td>...</td>\n",
       "      <td>4.0</td>\n",
       "      <td>NaN</td>\n",
       "      <td>88</td>\n",
       "      <td>NaN</td>\n",
       "      <td>79</td>\n",
       "      <td>NaN</td>\n",
       "      <td>205</td>\n",
       "      <td>NaN</td>\n",
       "      <td>34</td>\n",
       "      <td>NaN</td>\n",
       "    </tr>\n",
       "  </tbody>\n",
       "</table>\n",
       "<p>5 rows × 39 columns</p>\n",
       "</div>"
      ],
      "text/plain": [
       "  State  CMS Certification Number (CCN)*  \\\n",
       "0    AL                            17000   \n",
       "1    AL                            17008   \n",
       "2    AL                            17009   \n",
       "3    AL                            17013   \n",
       "4    AL                            17014   \n",
       "\n",
       "                                       Provider Name  \\\n",
       "0  BUREAU OF HOME & COMMUNITY SERVICES           ...   \n",
       "1  JEFFERSON COUNTY HOME CARE                    ...   \n",
       "2  ALACARE HOME HEALTH & HOSPICE                 ...   \n",
       "3  GENTIVA HEALTH SERVICES                       ...   \n",
       "4  AMEDISYS HOME HEALTH                          ...   \n",
       "\n",
       "                                             Address                  City  \\\n",
       "0  201 MONROE STREET, THE RSA TOWER,  SUITE 1200 ...  MONTGOMERY             \n",
       "1  2201 ARLINGTON AVENUE                         ...  BESSEMER               \n",
       "2  2970 LORNA ROAD                               ...  BIRMINGHAM             \n",
       "3  1239 RUCKER BLVD                              ...  ENTERPRISE             \n",
       "4  68278 MAIN STREET                             ...  BLOUNTSVILLE           \n",
       "\n",
       "     Zip       Phone       Type of Ownership  Offers Nursing Care Services  \\\n",
       "0  36104  3342065341  Official Health Agency                          True   \n",
       "1  35020  2059169500  Official Health Agency                          True   \n",
       "2  35216  2058242680                   Local                          True   \n",
       "3  36330  3343470234  Official Health Agency                          True   \n",
       "4  35031  2054294919                   Local                          True   \n",
       "\n",
       "   Offers Physical Therapy Services  ...  \\\n",
       "0                              True  ...   \n",
       "1                              True  ...   \n",
       "2                              True  ...   \n",
       "3                              True  ...   \n",
       "4                              True  ...   \n",
       "\n",
       "   Star Rating for how patients rated overall care from agency  \\\n",
       "0                                                NaN             \n",
       "1                                                4.0             \n",
       "2                                                4.0             \n",
       "3                                                4.0             \n",
       "4                                                4.0             \n",
       "\n",
       "   Footnote for Star Rating for overall care from agency  \\\n",
       "0   No survey results are available for this period.       \n",
       "1  Fewer than 100 patients completed the survey. ...       \n",
       "2                                                NaN       \n",
       "3                                                NaN       \n",
       "4                                                NaN       \n",
       "\n",
       "   Percent of patients who gave their home health agency a rating of 9 or 10 on a scale from 0 (lowest) to 10 (highest)  \\\n",
       "0                                      Not Available                                                                      \n",
       "1                                                 91                                                                      \n",
       "2                                                 88                                                                      \n",
       "3                                                 91                                                                      \n",
       "4                                                 88                                                                      \n",
       "\n",
       "   Footnote for percent of patients who gave their home health agency a rating of 9 or 10 on a scale from 0 (lowest) to 10 (highest)  \\\n",
       "0   No survey results are available for this period.                                                                                   \n",
       "1  Fewer than 100 patients completed the survey. ...                                                                                   \n",
       "2                                                NaN                                                                                   \n",
       "3                                                NaN                                                                                   \n",
       "4                                                NaN                                                                                   \n",
       "\n",
       "  Percent of patients who reported YES, they would definitely recommend the home health agency to friends and family  \\\n",
       "0                                      Not Available                                                                   \n",
       "1                                                 77                                                                   \n",
       "2                                                 81                                                                   \n",
       "3                                                 91                                                                   \n",
       "4                                                 79                                                                   \n",
       "\n",
       "   Footnote for percent of patients who reported YES, they would definitely recommend the home health agency to friends and family  \\\n",
       "0   No survey results are available for this period.                                                                                 \n",
       "1  Fewer than 100 patients completed the survey. ...                                                                                 \n",
       "2                                                NaN                                                                                 \n",
       "3                                                NaN                                                                                 \n",
       "4                                                NaN                                                                                 \n",
       "\n",
       "  Number of completed Surveys  \\\n",
       "0               Not Available   \n",
       "1                          55   \n",
       "2                         327   \n",
       "3                         252   \n",
       "4                         205   \n",
       "\n",
       "            Footnote for number of completed surveys  Response rate  \\\n",
       "0   No survey results are available for this period.  Not Available   \n",
       "1  Fewer than 100 patients completed the survey. ...             23   \n",
       "2                                                NaN             32   \n",
       "3                                                NaN             34   \n",
       "4                                                NaN             34   \n",
       "\n",
       "                          Footnote for response rate  \n",
       "0   No survey results are available for this period.  \n",
       "1  Fewer than 100 patients completed the survey. ...  \n",
       "2                                                NaN  \n",
       "3                                                NaN  \n",
       "4                                                NaN  \n",
       "\n",
       "[5 rows x 39 columns]"
      ]
     },
     "execution_count": 2,
     "metadata": {},
     "output_type": "execute_result"
    }
   ],
   "source": [
    "hhcaps.head()"
   ]
  },
  {
   "cell_type": "markdown",
   "metadata": {
    "deletable": false,
    "editable": false,
    "nbgrader": {
     "checksum": "ce5e966c57eef4ebd8b1704e89794b19",
     "grade": false,
     "grade_id": "q01-intro",
     "locked": true,
     "schema_version": 1,
     "solution": false
    }
   },
   "source": [
    "## #01 - \n",
    "\n",
    "How many columns does this file contain?"
   ]
  },
  {
   "cell_type": "code",
   "execution_count": 3,
   "metadata": {
    "deletable": false,
    "nbgrader": {
     "checksum": "7a29a93c72c860b5135ef8e0cebcc4fe",
     "grade": false,
     "grade_id": "q01-solution",
     "locked": false,
     "schema_version": 1,
     "solution": true
    }
   },
   "outputs": [],
   "source": [
    "answer = 0\n",
    "\n",
    "# YOUR CODE HERE\n",
    "answer = len(hhcaps.columns)"
   ]
  },
  {
   "cell_type": "code",
   "execution_count": 4,
   "metadata": {
    "deletable": false,
    "editable": false,
    "nbgrader": {
     "checksum": "f06f2e86b089ac8e6266328c2ce45424",
     "grade": true,
     "grade_id": "q01-test",
     "locked": true,
     "points": 2,
     "schema_version": 1,
     "solution": false
    }
   },
   "outputs": [],
   "source": [
    "assert(type(answer) == int)\n",
    "\n"
   ]
  },
  {
   "cell_type": "code",
   "execution_count": 5,
   "metadata": {},
   "outputs": [
    {
     "data": {
      "text/plain": [
       "39"
      ]
     },
     "execution_count": 5,
     "metadata": {},
     "output_type": "execute_result"
    }
   ],
   "source": [
    "answer"
   ]
  },
  {
   "cell_type": "markdown",
   "metadata": {
    "deletable": false,
    "editable": false,
    "nbgrader": {
     "checksum": "ad85d041d7fd8012303fa01f5ec39d92",
     "grade": false,
     "grade_id": "q02-intro",
     "locked": true,
     "schema_version": 1,
     "solution": false
    }
   },
   "source": [
    "## #02 - \n",
    "\n",
    "How many different values for State are there in this file?"
   ]
  },
  {
   "cell_type": "code",
   "execution_count": 6,
   "metadata": {
    "deletable": false,
    "nbgrader": {
     "checksum": "4ec42401ceb8cef17ce9db500d7cb966",
     "grade": false,
     "grade_id": "q02-solution",
     "locked": false,
     "schema_version": 1,
     "solution": true
    }
   },
   "outputs": [],
   "source": [
    "answer = 0\n",
    "\n",
    "# YOUR CODE HERE\n",
    "answer = hhcaps['State'].nunique()"
   ]
  },
  {
   "cell_type": "code",
   "execution_count": 7,
   "metadata": {
    "deletable": false,
    "editable": false,
    "nbgrader": {
     "checksum": "c95f2bb7a8f6ca8e611116cf7352316a",
     "grade": true,
     "grade_id": "q02-test",
     "locked": true,
     "points": 2,
     "schema_version": 1,
     "solution": false
    }
   },
   "outputs": [],
   "source": [
    "assert(type(answer) == int)"
   ]
  },
  {
   "cell_type": "code",
   "execution_count": 8,
   "metadata": {},
   "outputs": [
    {
     "data": {
      "text/plain": [
       "55"
      ]
     },
     "execution_count": 8,
     "metadata": {},
     "output_type": "execute_result"
    }
   ],
   "source": [
    "answer"
   ]
  },
  {
   "cell_type": "markdown",
   "metadata": {
    "deletable": false,
    "editable": false,
    "nbgrader": {
     "checksum": "1a0c027e0da8aacfb1016c88e0179f28",
     "grade": false,
     "grade_id": "q03-intro",
     "locked": true,
     "schema_version": 1,
     "solution": false
    }
   },
   "source": [
    "## #03 - \n",
    "\n",
    "Which of those State values has the highest frequency of occurence?"
   ]
  },
  {
   "cell_type": "code",
   "execution_count": 9,
   "metadata": {
    "deletable": false,
    "nbgrader": {
     "checksum": "bb4f40c9c2882e84dbda12feb13505a1",
     "grade": false,
     "grade_id": "q03-solution",
     "locked": false,
     "schema_version": 1,
     "solution": true
    }
   },
   "outputs": [],
   "source": [
    "answer = ''\n",
    "\n",
    "# YOUR CODE HERE\n",
    "answer = hhcaps.groupby('State').size().idxmax()"
   ]
  },
  {
   "cell_type": "code",
   "execution_count": 10,
   "metadata": {
    "deletable": false,
    "editable": false,
    "nbgrader": {
     "checksum": "ea2973d86bf31c0fb96cfff82bc93d39",
     "grade": true,
     "grade_id": "q03-test",
     "locked": true,
     "points": 2,
     "schema_version": 1,
     "solution": false
    }
   },
   "outputs": [],
   "source": [
    "assert(type(answer) == str)"
   ]
  },
  {
   "cell_type": "code",
   "execution_count": 11,
   "metadata": {},
   "outputs": [
    {
     "data": {
      "text/plain": [
       "'TX'"
      ]
     },
     "execution_count": 11,
     "metadata": {},
     "output_type": "execute_result"
    }
   ],
   "source": [
    "answer"
   ]
  },
  {
   "cell_type": "markdown",
   "metadata": {
    "deletable": false,
    "editable": false,
    "nbgrader": {
     "checksum": "258ad4eda1e897114760b039f23f121c",
     "grade": false,
     "grade_id": "q04-intro",
     "locked": true,
     "schema_version": 1,
     "solution": false
    }
   },
   "source": [
    "## #04 - \n",
    "\n",
    "Which of those State values has the best average performance on the `Star Rating for health team communicated well with them` score?"
   ]
  },
  {
   "cell_type": "code",
   "execution_count": 12,
   "metadata": {
    "deletable": false,
    "nbgrader": {
     "checksum": "4f0c3ad1bacf37f8548ea4635214d958",
     "grade": false,
     "grade_id": "q04-solution",
     "locked": false,
     "schema_version": 1,
     "solution": true
    }
   },
   "outputs": [],
   "source": [
    "answer = ''\n",
    "\n",
    "# YOUR CODE HERE\n",
    "answer = hhcaps.groupby('State').mean()['Star Rating for health team communicated well with them'].idxmax()"
   ]
  },
  {
   "cell_type": "code",
   "execution_count": 13,
   "metadata": {
    "deletable": false,
    "editable": false,
    "nbgrader": {
     "checksum": "4b4aeb22665b1cd7121f0806addaa8bd",
     "grade": true,
     "grade_id": "q04-test",
     "locked": true,
     "points": 2,
     "schema_version": 1,
     "solution": false
    }
   },
   "outputs": [],
   "source": [
    "assert(type(answer) == str)"
   ]
  },
  {
   "cell_type": "code",
   "execution_count": 14,
   "metadata": {},
   "outputs": [
    {
     "data": {
      "text/plain": [
       "'ME'"
      ]
     },
     "execution_count": 14,
     "metadata": {},
     "output_type": "execute_result"
    }
   ],
   "source": [
    "answer"
   ]
  },
  {
   "cell_type": "markdown",
   "metadata": {
    "deletable": false,
    "editable": false,
    "nbgrader": {
     "checksum": "665f6bbea13faf7867f605fb682e52d2",
     "grade": false,
     "grade_id": "q05-intro",
     "locked": true,
     "schema_version": 1,
     "solution": false
    }
   },
   "source": [
    "## #05 - \n",
    "\n",
    "What was the average score on `Star Rating for how patients rated overall care from agency` for providers listed as having a `Type of Ownership` of `Hospital Based Program`"
   ]
  },
  {
   "cell_type": "code",
   "execution_count": 15,
   "metadata": {
    "deletable": false,
    "nbgrader": {
     "checksum": "3b9eda593fbe980cf5148995ed5dd32d",
     "grade": false,
     "grade_id": "q05-solution",
     "locked": false,
     "schema_version": 1,
     "solution": true
    }
   },
   "outputs": [],
   "source": [
    "answer = 0.0\n",
    "\n",
    "# YOUR CODE HERE\n",
    "answer = hhcaps[hhcaps['Type of Ownership'] == 'Hospital Based Program']['Star Rating for how patients rated overall care from agency'].mean()"
   ]
  },
  {
   "cell_type": "code",
   "execution_count": 16,
   "metadata": {
    "deletable": false,
    "editable": false,
    "nbgrader": {
     "checksum": "12e52a43efa23e8d1936c6cc7fe464fa",
     "grade": true,
     "grade_id": "q05-test",
     "locked": true,
     "points": 2,
     "schema_version": 1,
     "solution": false
    }
   },
   "outputs": [],
   "source": [
    "import numpy\n",
    "assert(type(answer) == float or type(answer) == numpy.float64)"
   ]
  },
  {
   "cell_type": "code",
   "execution_count": 17,
   "metadata": {},
   "outputs": [
    {
     "data": {
      "text/plain": [
       "3.6925207756232687"
      ]
     },
     "execution_count": 17,
     "metadata": {},
     "output_type": "execute_result"
    }
   ],
   "source": [
    "answer"
   ]
  },
  {
   "cell_type": "markdown",
   "metadata": {
    "deletable": false,
    "editable": false,
    "nbgrader": {
     "checksum": "7e2d62328d4125fcac44cdb005115a38",
     "grade": false,
     "grade_id": "q06-intro",
     "locked": true,
     "schema_version": 1,
     "solution": false
    }
   },
   "source": [
    "## #06 - \n",
    "\n",
    "There is one column in the file that has the same value on every row.  What is the name of that column?"
   ]
  },
  {
   "cell_type": "code",
   "execution_count": 18,
   "metadata": {
    "deletable": false,
    "nbgrader": {
     "checksum": "e90dddddb6aef7481f8a7a3fab6e1ad0",
     "grade": false,
     "grade_id": "q06-solution",
     "locked": false,
     "schema_version": 1,
     "solution": true
    }
   },
   "outputs": [],
   "source": [
    "answer = ''\n",
    "\n",
    "# YOUR CODE HERE\n",
    "answer = hhcaps.apply(lambda x: x.nunique()).idxmin()"
   ]
  },
  {
   "cell_type": "code",
   "execution_count": 19,
   "metadata": {
    "deletable": false,
    "editable": false,
    "nbgrader": {
     "checksum": "7bb9ee7fbc0b347bb520408abc12610f",
     "grade": true,
     "grade_id": "q06-test",
     "locked": true,
     "points": 2,
     "schema_version": 1,
     "solution": false
    }
   },
   "outputs": [],
   "source": [
    "assert(type(answer) == str)"
   ]
  },
  {
   "cell_type": "code",
   "execution_count": 20,
   "metadata": {},
   "outputs": [
    {
     "data": {
      "text/plain": [
       "'Offers Nursing Care Services'"
      ]
     },
     "execution_count": 20,
     "metadata": {},
     "output_type": "execute_result"
    }
   ],
   "source": [
    "answer"
   ]
  },
  {
   "cell_type": "markdown",
   "metadata": {
    "deletable": false,
    "editable": false,
    "nbgrader": {
     "checksum": "6d8a3434e5a79cd8640ed47493cb8d0d",
     "grade": false,
     "grade_id": "q07-intro",
     "locked": true,
     "schema_version": 1,
     "solution": false
    }
   },
   "source": [
    "## #07 - \n",
    "\n",
    "There are six (6) columns in the file that indicate (True or False) if the provider offers certain services.  Those column names all start with `Offers...`.  How many facilities offer **everything** that the survey was interested in asking about?  That is, how many rows have True in all six of those columns?"
   ]
  },
  {
   "cell_type": "code",
   "execution_count": 21,
   "metadata": {
    "deletable": false,
    "nbgrader": {
     "checksum": "32cdf7aba64192e45476f2afacc894db",
     "grade": false,
     "grade_id": "q07-solution",
     "locked": false,
     "schema_version": 1,
     "solution": true
    }
   },
   "outputs": [],
   "source": [
    "answer = 0\n",
    "\n",
    "# YOUR CODE HERE\n",
    "answer = hhcaps[hhcaps[hhcaps.columns[hhcaps.columns.str.match('Offers')]].all(axis='columns')].shape[0]"
   ]
  },
  {
   "cell_type": "code",
   "execution_count": 22,
   "metadata": {
    "deletable": false,
    "editable": false,
    "nbgrader": {
     "checksum": "4d1dd2c08ba9b6623397f7c898b632b3",
     "grade": true,
     "grade_id": "q07-test",
     "locked": true,
     "points": 2,
     "schema_version": 1,
     "solution": false
    }
   },
   "outputs": [],
   "source": [
    "assert(type(answer) == int)"
   ]
  },
  {
   "cell_type": "code",
   "execution_count": 23,
   "metadata": {},
   "outputs": [
    {
     "data": {
      "text/plain": [
       "9029"
      ]
     },
     "execution_count": 23,
     "metadata": {},
     "output_type": "execute_result"
    }
   ],
   "source": [
    "answer"
   ]
  },
  {
   "cell_type": "markdown",
   "metadata": {
    "deletable": false,
    "editable": false,
    "nbgrader": {
     "checksum": "1c29500ea8b3a87cbb30cd4d4d745c35",
     "grade": false,
     "grade_id": "q08-intro",
     "locked": true,
     "schema_version": 1,
     "solution": false
    }
   },
   "source": [
    "## #08 - \n",
    "\n",
    "The survey results report `Number of completed Surveys` as one of the metrics.  What is the `median` of the number of completed surveys per facility?\n",
    "\n",
    "Note that some rows don't have a valid number in them for the number of completed surveys.\n"
   ]
  },
  {
   "cell_type": "code",
   "execution_count": 24,
   "metadata": {
    "deletable": false,
    "nbgrader": {
     "checksum": "25ae4ad943d0c36fad7a8fce702bbc54",
     "grade": false,
     "grade_id": "q08-solution",
     "locked": false,
     "schema_version": 1,
     "solution": true
    }
   },
   "outputs": [],
   "source": [
    "answer = 0\n",
    "\n",
    "# YOUR CODE HERE\n",
    "answer = hhcaps[hhcaps['Number of completed Surveys'].apply(lambda x: x.isnumeric())]['Number of completed Surveys'].median()"
   ]
  },
  {
   "cell_type": "code",
   "execution_count": 25,
   "metadata": {
    "deletable": false,
    "editable": false,
    "nbgrader": {
     "checksum": "a2fd2fb3b01f86e7baa91ac5e32bff9b",
     "grade": true,
     "grade_id": "q08-test",
     "locked": true,
     "points": 2,
     "schema_version": 1,
     "solution": false
    }
   },
   "outputs": [],
   "source": [
    "assert(type(answer) == float or type(answer) == numpy.float64\n",
    ")"
   ]
  },
  {
   "cell_type": "code",
   "execution_count": 26,
   "metadata": {},
   "outputs": [
    {
     "data": {
      "text/plain": [
       "84.0"
      ]
     },
     "execution_count": 26,
     "metadata": {},
     "output_type": "execute_result"
    }
   ],
   "source": [
    "answer"
   ]
  },
  {
   "cell_type": "markdown",
   "metadata": {
    "deletable": false,
    "editable": false,
    "nbgrader": {
     "checksum": "1bfa5d9be2164bbe91ab432b82492eeb",
     "grade": false,
     "grade_id": "q09-intro",
     "locked": true,
     "schema_version": 1,
     "solution": false
    }
   },
   "source": [
    "## #09 - \n",
    "\n",
    "How many providers are there from St. Louis, Missouri?\n",
    "\n",
    "*Note that the City columnd may have trailing spaces that need to be accomodated or cleaned up*"
   ]
  },
  {
   "cell_type": "code",
   "execution_count": 27,
   "metadata": {
    "deletable": false,
    "nbgrader": {
     "checksum": "df86dff393badafb9a49a237e77f2b97",
     "grade": false,
     "grade_id": "q09-solution",
     "locked": false,
     "schema_version": 1,
     "solution": true
    }
   },
   "outputs": [],
   "source": [
    "answer = 0\n",
    "\n",
    "# YOUR CODE HERE\n",
    "hhcaps['City'] = hhcaps['City'].str.strip()\n",
    "\n",
    "answer = hhcaps[hhcaps['City'] == 'SAINT LOUIS']['Provider Name'].nunique()"
   ]
  },
  {
   "cell_type": "code",
   "execution_count": 28,
   "metadata": {
    "deletable": false,
    "editable": false,
    "nbgrader": {
     "checksum": "be84ae740b94114c3f9fff1f759800b3",
     "grade": true,
     "grade_id": "q09-test",
     "locked": true,
     "points": 2,
     "schema_version": 1,
     "solution": false
    }
   },
   "outputs": [],
   "source": [
    "assert(type(answer) == int)"
   ]
  },
  {
   "cell_type": "code",
   "execution_count": 29,
   "metadata": {},
   "outputs": [
    {
     "data": {
      "text/plain": [
       "23"
      ]
     },
     "execution_count": 29,
     "metadata": {},
     "output_type": "execute_result"
    }
   ],
   "source": [
    "answer"
   ]
  },
  {
   "cell_type": "markdown",
   "metadata": {
    "deletable": false,
    "editable": false,
    "nbgrader": {
     "checksum": "55f806579f4e7366a39dce4d4c5fc4ee",
     "grade": false,
     "grade_id": "q10-intro",
     "locked": true,
     "schema_version": 1,
     "solution": false
    }
   },
   "source": [
    "# #10 - \n",
    "\n",
    "Which state got the highest percentage of 'top box' scorings, using the `Percent of patients who gave their home health agency a rating of 9 or 10 on a scale from 0 (lowest) to 10 (highest)` field.\n",
    "\n",
    "Ignore those rows where the data is **Not Available**"
   ]
  },
  {
   "cell_type": "code",
   "execution_count": null,
   "metadata": {},
   "outputs": [],
   "source": []
  },
  {
   "cell_type": "code",
   "execution_count": 30,
   "metadata": {
    "deletable": false,
    "nbgrader": {
     "checksum": "82a3300249d3a0f9000cdb6a4f994365",
     "grade": false,
     "grade_id": "q10-solution",
     "locked": false,
     "schema_version": 1,
     "solution": true
    }
   },
   "outputs": [],
   "source": [
    "answer = 0\n",
    "field = 'Percent of patients who gave their home health agency a rating of 9 or 10 on a scale from 0 (lowest) to 10 (highest)'\n",
    "\n",
    "# YOUR CODE HERE\n",
    "rating_hhcaps = hhcaps[hhcaps[field].apply(lambda x: x.isnumeric())]\n",
    "rating_hhcaps = rating_hhcaps[rating_hhcaps['Number of completed Surveys'].apply(lambda x: x.isnumeric())]\n",
    "rating_hhcaps['calc'] = rating_hhcaps[field].astype('int') * rating_hhcaps['Number of completed Surveys'].astype('int')\n",
    "rating_hhcaps['Number of completed Surveys'] = rating_hhcaps['Number of completed Surveys'].astype('int')\n",
    "\n",
    "rating = rating_hhcaps.groupby(['State']).agg({'Number of completed Surveys':'sum','calc':'sum'})\n",
    "\n",
    "answer = (rating['calc'] / rating['Number of completed Surveys']).idxmax()"
   ]
  },
  {
   "cell_type": "code",
   "execution_count": 31,
   "metadata": {
    "deletable": false,
    "editable": false,
    "nbgrader": {
     "checksum": "891b700d31491b70481738796003476f",
     "grade": true,
     "grade_id": "q10-test",
     "locked": true,
     "points": 2,
     "schema_version": 1,
     "solution": false
    }
   },
   "outputs": [],
   "source": [
    "assert(type(answer) == str)"
   ]
  },
  {
   "cell_type": "code",
   "execution_count": 32,
   "metadata": {},
   "outputs": [
    {
     "data": {
      "text/plain": [
       "'MS'"
      ]
     },
     "execution_count": 32,
     "metadata": {},
     "output_type": "execute_result"
    }
   ],
   "source": [
    "answer"
   ]
  },
  {
   "cell_type": "code",
   "execution_count": null,
   "metadata": {},
   "outputs": [],
   "source": []
  }
 ],
 "metadata": {
  "kernelspec": {
   "display_name": "Python 3",
   "language": "python",
   "name": "python3"
  },
  "language_info": {
   "codemirror_mode": {
    "name": "ipython",
    "version": 3
   },
   "file_extension": ".py",
   "mimetype": "text/x-python",
   "name": "python",
   "nbconvert_exporter": "python",
   "pygments_lexer": "ipython3",
   "version": "3.7.2"
  }
 },
 "nbformat": 4,
 "nbformat_minor": 2
}
