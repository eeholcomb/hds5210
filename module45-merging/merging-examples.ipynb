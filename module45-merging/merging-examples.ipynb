{
 "cells": [
  {
   "cell_type": "markdown",
   "metadata": {},
   "source": [
    "Before you turn this problem in, make sure everything runs as expected. First, **restart the kernel** (in the menubar, select Kernel$\\rightarrow$Restart) and then **run all cells** (in the menubar, select Cell$\\rightarrow$Run All).\n",
    "\n",
    "Make sure you fill in any place that says `YOUR CODE HERE` or \"YOUR ANSWER HERE\", as well as your name and collaborators below:"
   ]
  },
  {
   "cell_type": "code",
   "execution_count": null,
   "metadata": {},
   "outputs": [],
   "source": [
    "NAME = \"\"\n",
    "COLLABORATORS = \"\""
   ]
  },
  {
   "cell_type": "markdown",
   "metadata": {},
   "source": [
    "---"
   ]
  },
  {
   "cell_type": "markdown",
   "metadata": {},
   "source": [
    "# Merging DataFrames Together\n",
    "\n",
    "In this module, we're going to talk about two different types of merging: concatenation and masking"
   ]
  },
  {
   "cell_type": "code",
   "execution_count": 4,
   "metadata": {},
   "outputs": [],
   "source": [
    "import pandas as pd"
   ]
  },
  {
   "cell_type": "markdown",
   "metadata": {},
   "source": [
    "## Concatenation\n",
    "\n",
    "To \"concatenate\" means to combine things end-to-end.  That is, we're going to merge together multiple data sets in a way that we just keep appending more rows end-on-end.\n",
    "\n",
    "In `/data/drinking/` there are a whole list of files that we want to merge together into a single data frame.  They all have the same format, but the are from different cities."
   ]
  },
  {
   "cell_type": "code",
   "execution_count": 1,
   "metadata": {},
   "outputs": [],
   "source": [
    "# First, we can get a list of the files that are in a particular directory using the os package\n",
    "import os\n",
    "files = os.listdir('/data/drinking/')"
   ]
  },
  {
   "cell_type": "code",
   "execution_count": 2,
   "metadata": {},
   "outputs": [],
   "source": [
    "# Then, let's read each of those files into their own df and store that in a list of dfs\n",
    "dataframes = []"
   ]
  },
  {
   "cell_type": "code",
   "execution_count": 5,
   "metadata": {},
   "outputs": [],
   "source": [
    "for f in files:\n",
    "    df = pd.read_csv('/data/drinking/'+f)\n",
    "    dataframes.append(df)"
   ]
  },
  {
   "cell_type": "code",
   "execution_count": 6,
   "metadata": {},
   "outputs": [],
   "source": [
    "# Then we can concatenate them together with pd.concat\n",
    "drinking = pd.concat(dataframes)"
   ]
  },
  {
   "cell_type": "markdown",
   "metadata": {},
   "source": [
    "Let's check to make sure the counts match up...\n",
    "\n",
    "Length of combined dataframe == Sum of the length of the individual dataframes?"
   ]
  },
  {
   "cell_type": "code",
   "execution_count": 7,
   "metadata": {},
   "outputs": [
    {
     "data": {
      "text/plain": [
       "599"
      ]
     },
     "execution_count": 7,
     "metadata": {},
     "output_type": "execute_result"
    }
   ],
   "source": [
    "len(drinking)"
   ]
  },
  {
   "cell_type": "code",
   "execution_count": 8,
   "metadata": {},
   "outputs": [
    {
     "data": {
      "text/plain": [
       "599"
      ]
     },
     "execution_count": 8,
     "metadata": {},
     "output_type": "execute_result"
    }
   ],
   "source": [
    "sum([len(x) for x in dataframes])"
   ]
  },
  {
   "cell_type": "markdown",
   "metadata": {},
   "source": [
    "It's also possible to label the rows as they get concatenated together.  That can be handy if you want to keep track of which input file each row came from."
   ]
  },
  {
   "cell_type": "code",
   "execution_count": 9,
   "metadata": {},
   "outputs": [],
   "source": [
    "drinking2 = pd.concat(dataframes, keys=files)"
   ]
  },
  {
   "cell_type": "code",
   "execution_count": 10,
   "metadata": {},
   "outputs": [
    {
     "data": {
      "text/html": [
       "<div>\n",
       "<style scoped>\n",
       "    .dataframe tbody tr th:only-of-type {\n",
       "        vertical-align: middle;\n",
       "    }\n",
       "\n",
       "    .dataframe tbody tr th {\n",
       "        vertical-align: top;\n",
       "    }\n",
       "\n",
       "    .dataframe thead th {\n",
       "        text-align: right;\n",
       "    }\n",
       "</style>\n",
       "<table border=\"1\" class=\"dataframe\">\n",
       "  <thead>\n",
       "    <tr style=\"text-align: right;\">\n",
       "      <th></th>\n",
       "      <th></th>\n",
       "      <th>Unnamed: 0</th>\n",
       "      <th>Indicator Category</th>\n",
       "      <th>Indicator</th>\n",
       "      <th>Year</th>\n",
       "      <th>Sex</th>\n",
       "      <th>Race/Ethnicity</th>\n",
       "      <th>Value</th>\n",
       "      <th>Place</th>\n",
       "      <th>BCHC Requested Methodology</th>\n",
       "      <th>Source</th>\n",
       "      <th>Methods</th>\n",
       "      <th>Notes</th>\n",
       "      <th>90% Confidence Level - Low</th>\n",
       "      <th>90% Confidence Level - High</th>\n",
       "      <th>95% Confidence Level - Low</th>\n",
       "      <th>95% Confidence Level - High</th>\n",
       "    </tr>\n",
       "  </thead>\n",
       "  <tbody>\n",
       "    <tr>\n",
       "      <th rowspan=\"5\" valign=\"top\">Baltimore_MD.csv</th>\n",
       "      <th>0</th>\n",
       "      <td>21</td>\n",
       "      <td>Behavioral Health/Substance Abuse</td>\n",
       "      <td>Percent of Adults Who Binge Drank</td>\n",
       "      <td>2010</td>\n",
       "      <td>Both</td>\n",
       "      <td>All</td>\n",
       "      <td>14.5</td>\n",
       "      <td>Baltimore, MD</td>\n",
       "      <td>BRFSS (or similar) How many times during the p...</td>\n",
       "      <td>CDC BRFSS</td>\n",
       "      <td>The three most recent years of available data ...</td>\n",
       "      <td>Due to changes in BRFSS sampling methodology, ...</td>\n",
       "      <td>NaN</td>\n",
       "      <td>NaN</td>\n",
       "      <td>NaN</td>\n",
       "      <td>NaN</td>\n",
       "    </tr>\n",
       "    <tr>\n",
       "      <th>1</th>\n",
       "      <td>22</td>\n",
       "      <td>Behavioral Health/Substance Abuse</td>\n",
       "      <td>Percent of Adults Who Binge Drank</td>\n",
       "      <td>2010</td>\n",
       "      <td>Both</td>\n",
       "      <td>Black</td>\n",
       "      <td>9.5</td>\n",
       "      <td>Baltimore, MD</td>\n",
       "      <td>BRFSS (or similar) How many times during the p...</td>\n",
       "      <td>CDC BRFSS</td>\n",
       "      <td>The three most recent years of available data ...</td>\n",
       "      <td>Due to changes in BRFSS sampling methodology, ...</td>\n",
       "      <td>NaN</td>\n",
       "      <td>NaN</td>\n",
       "      <td>NaN</td>\n",
       "      <td>NaN</td>\n",
       "    </tr>\n",
       "    <tr>\n",
       "      <th>2</th>\n",
       "      <td>29</td>\n",
       "      <td>Behavioral Health/Substance Abuse</td>\n",
       "      <td>Percent of Adults Who Binge Drank</td>\n",
       "      <td>2010</td>\n",
       "      <td>Both</td>\n",
       "      <td>White</td>\n",
       "      <td>21.1</td>\n",
       "      <td>Baltimore, MD</td>\n",
       "      <td>BRFSS (or similar) How many times during the p...</td>\n",
       "      <td>CDC BRFSS</td>\n",
       "      <td>The three most recent years of available data ...</td>\n",
       "      <td>Due to changes in BRFSS sampling methodology, ...</td>\n",
       "      <td>NaN</td>\n",
       "      <td>NaN</td>\n",
       "      <td>NaN</td>\n",
       "      <td>NaN</td>\n",
       "    </tr>\n",
       "    <tr>\n",
       "      <th>3</th>\n",
       "      <td>30</td>\n",
       "      <td>Behavioral Health/Substance Abuse</td>\n",
       "      <td>Percent of Adults Who Binge Drank</td>\n",
       "      <td>2010</td>\n",
       "      <td>Female</td>\n",
       "      <td>All</td>\n",
       "      <td>9.7</td>\n",
       "      <td>Baltimore, MD</td>\n",
       "      <td>BRFSS (or similar) How many times during the p...</td>\n",
       "      <td>CDC BRFSS</td>\n",
       "      <td>The three most recent years of available data ...</td>\n",
       "      <td>Due to changes in BRFSS sampling methodology, ...</td>\n",
       "      <td>NaN</td>\n",
       "      <td>NaN</td>\n",
       "      <td>NaN</td>\n",
       "      <td>NaN</td>\n",
       "    </tr>\n",
       "    <tr>\n",
       "      <th>4</th>\n",
       "      <td>31</td>\n",
       "      <td>Behavioral Health/Substance Abuse</td>\n",
       "      <td>Percent of Adults Who Binge Drank</td>\n",
       "      <td>2010</td>\n",
       "      <td>Male</td>\n",
       "      <td>All</td>\n",
       "      <td>20.3</td>\n",
       "      <td>Baltimore, MD</td>\n",
       "      <td>BRFSS (or similar) How many times during the p...</td>\n",
       "      <td>CDC BRFSS</td>\n",
       "      <td>The three most recent years of available data ...</td>\n",
       "      <td>Due to changes in BRFSS sampling methodology, ...</td>\n",
       "      <td>NaN</td>\n",
       "      <td>NaN</td>\n",
       "      <td>NaN</td>\n",
       "      <td>NaN</td>\n",
       "    </tr>\n",
       "  </tbody>\n",
       "</table>\n",
       "</div>"
      ],
      "text/plain": [
       "                    Unnamed: 0                 Indicator Category  \\\n",
       "Baltimore_MD.csv 0          21  Behavioral Health/Substance Abuse   \n",
       "                 1          22  Behavioral Health/Substance Abuse   \n",
       "                 2          29  Behavioral Health/Substance Abuse   \n",
       "                 3          30  Behavioral Health/Substance Abuse   \n",
       "                 4          31  Behavioral Health/Substance Abuse   \n",
       "\n",
       "                                            Indicator  Year     Sex  \\\n",
       "Baltimore_MD.csv 0  Percent of Adults Who Binge Drank  2010    Both   \n",
       "                 1  Percent of Adults Who Binge Drank  2010    Both   \n",
       "                 2  Percent of Adults Who Binge Drank  2010    Both   \n",
       "                 3  Percent of Adults Who Binge Drank  2010  Female   \n",
       "                 4  Percent of Adults Who Binge Drank  2010    Male   \n",
       "\n",
       "                   Race/Ethnicity  Value          Place  \\\n",
       "Baltimore_MD.csv 0            All   14.5  Baltimore, MD   \n",
       "                 1          Black    9.5  Baltimore, MD   \n",
       "                 2          White   21.1  Baltimore, MD   \n",
       "                 3            All    9.7  Baltimore, MD   \n",
       "                 4            All   20.3  Baltimore, MD   \n",
       "\n",
       "                                           BCHC Requested Methodology  \\\n",
       "Baltimore_MD.csv 0  BRFSS (or similar) How many times during the p...   \n",
       "                 1  BRFSS (or similar) How many times during the p...   \n",
       "                 2  BRFSS (or similar) How many times during the p...   \n",
       "                 3  BRFSS (or similar) How many times during the p...   \n",
       "                 4  BRFSS (or similar) How many times during the p...   \n",
       "\n",
       "                       Source  \\\n",
       "Baltimore_MD.csv 0  CDC BRFSS   \n",
       "                 1  CDC BRFSS   \n",
       "                 2  CDC BRFSS   \n",
       "                 3  CDC BRFSS   \n",
       "                 4  CDC BRFSS   \n",
       "\n",
       "                                                              Methods  \\\n",
       "Baltimore_MD.csv 0  The three most recent years of available data ...   \n",
       "                 1  The three most recent years of available data ...   \n",
       "                 2  The three most recent years of available data ...   \n",
       "                 3  The three most recent years of available data ...   \n",
       "                 4  The three most recent years of available data ...   \n",
       "\n",
       "                                                                Notes  \\\n",
       "Baltimore_MD.csv 0  Due to changes in BRFSS sampling methodology, ...   \n",
       "                 1  Due to changes in BRFSS sampling methodology, ...   \n",
       "                 2  Due to changes in BRFSS sampling methodology, ...   \n",
       "                 3  Due to changes in BRFSS sampling methodology, ...   \n",
       "                 4  Due to changes in BRFSS sampling methodology, ...   \n",
       "\n",
       "                    90% Confidence Level - Low  90% Confidence Level - High  \\\n",
       "Baltimore_MD.csv 0                         NaN                          NaN   \n",
       "                 1                         NaN                          NaN   \n",
       "                 2                         NaN                          NaN   \n",
       "                 3                         NaN                          NaN   \n",
       "                 4                         NaN                          NaN   \n",
       "\n",
       "                    95% Confidence Level - Low  95% Confidence Level - High  \n",
       "Baltimore_MD.csv 0                         NaN                          NaN  \n",
       "                 1                         NaN                          NaN  \n",
       "                 2                         NaN                          NaN  \n",
       "                 3                         NaN                          NaN  \n",
       "                 4                         NaN                          NaN  "
      ]
     },
     "execution_count": 10,
     "metadata": {},
     "output_type": "execute_result"
    }
   ],
   "source": [
    "drinking2.head()"
   ]
  },
  {
   "cell_type": "code",
   "execution_count": null,
   "metadata": {},
   "outputs": [],
   "source": [
    "drinking2.index.levels[0]"
   ]
  },
  {
   "cell_type": "markdown",
   "metadata": {},
   "source": [
    "## Concatenating Side-by-Side\n",
    "\n",
    "The stacking example above is more common, but it might be interesting to concatenate data side-by-side. "
   ]
  },
  {
   "cell_type": "code",
   "execution_count": null,
   "metadata": {},
   "outputs": [],
   "source": [
    "names1=[['Paul','Boal'],['Anny', 'Monroe'],['Eric','Westhus']]\n",
    "names2=[['Paul Boal'],['Anny Monroe'],['Eric Westhus']]\n",
    "n1 = pd.DataFrame(names1, columns=['First','Last'])\n",
    "n2 = pd.DataFrame(names2, columns=['Full Name'])"
   ]
  },
  {
   "cell_type": "code",
   "execution_count": null,
   "metadata": {},
   "outputs": [],
   "source": [
    "pd.concat([n1,n2], axis=1)"
   ]
  },
  {
   "cell_type": "markdown",
   "metadata": {},
   "source": [
    "## Masking\n",
    "\n",
    "With \"masking\", we are taking two data sets and overlaying one ontop of the other.  If the first has values, then those will be kept.  If the first has a blank (NaN), then the underlying value from the next data set will be shown."
   ]
  },
  {
   "cell_type": "code",
   "execution_count": null,
   "metadata": {},
   "outputs": [],
   "source": [
    "nppes1 = pd.read_csv('/data/nppes1.csv')\n",
    "nppes2 = pd.read_csv('/data/nppes2.csv')\n",
    "nppes1.set_index('NPI', inplace=True)\n",
    "nppes2.set_index('NPI', inplace=True)"
   ]
  },
  {
   "cell_type": "code",
   "execution_count": null,
   "metadata": {},
   "outputs": [],
   "source": [
    "nppes1['State'].count()"
   ]
  },
  {
   "cell_type": "code",
   "execution_count": null,
   "metadata": {},
   "outputs": [],
   "source": [
    "len(nppes1)"
   ]
  },
  {
   "cell_type": "code",
   "execution_count": null,
   "metadata": {},
   "outputs": [],
   "source": [
    "len(nppes2)"
   ]
  },
  {
   "cell_type": "code",
   "execution_count": null,
   "metadata": {},
   "outputs": [],
   "source": [
    "nppes1[pd.isnull(nppes1['State'])]"
   ]
  },
  {
   "cell_type": "code",
   "execution_count": null,
   "metadata": {},
   "outputs": [],
   "source": [
    "combined = nppes1.combine_first(nppes2)"
   ]
  },
  {
   "cell_type": "code",
   "execution_count": null,
   "metadata": {},
   "outputs": [],
   "source": [
    "combined['State'].count()"
   ]
  },
  {
   "cell_type": "code",
   "execution_count": null,
   "metadata": {},
   "outputs": [],
   "source": [
    "combined.loc[1225590060]"
   ]
  },
  {
   "cell_type": "code",
   "execution_count": null,
   "metadata": {},
   "outputs": [],
   "source": [
    "nppes1.loc[1225590060]"
   ]
  },
  {
   "cell_type": "code",
   "execution_count": null,
   "metadata": {},
   "outputs": [],
   "source": []
  }
 ],
 "metadata": {
  "kernelspec": {
   "display_name": "Python 3",
   "language": "python",
   "name": "python3"
  },
  "language_info": {
   "codemirror_mode": {
    "name": "ipython",
    "version": 3
   },
   "file_extension": ".py",
   "mimetype": "text/x-python",
   "name": "python",
   "nbconvert_exporter": "python",
   "pygments_lexer": "ipython3",
   "version": "3.7.2"
  }
 },
 "nbformat": 4,
 "nbformat_minor": 2
}
