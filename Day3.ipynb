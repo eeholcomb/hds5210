{
 "cells": [
  {
   "cell_type": "code",
   "execution_count": 9,
   "metadata": {},
   "outputs": [
    {
     "name": "stdout",
     "output_type": "stream",
     "text": [
      "Neither huge nor tiny\n"
     ]
    }
   ],
   "source": [
    "height = 6.5\n",
    "weight = 250\n",
    "\n",
    "if height > 6 and weight > 250:\n",
    "    print(\"Huge\")\n",
    "elif height < 5 and weight < 90:\n",
    "    print(\"Tiny\")\n",
    "else:\n",
    "    print(\"Neither huge nor tiny\")"
   ]
  },
  {
   "cell_type": "code",
   "execution_count": 10,
   "metadata": {},
   "outputs": [
    {
     "name": "stdout",
     "output_type": "stream",
     "text": [
      "1\n",
      "2\n",
      "3\n",
      "4\n",
      "5\n",
      "6\n",
      "7\n",
      "8\n",
      "9\n",
      "10\n",
      "11\n",
      "12\n",
      "13\n",
      "14\n",
      "15\n",
      "16\n",
      "17\n",
      "18\n",
      "19\n",
      "20\n"
     ]
    }
   ],
   "source": [
    "for VALUE in range(1,21):\n",
    "    print(VALUE)"
   ]
  },
  {
   "cell_type": "code",
   "execution_count": 11,
   "metadata": {},
   "outputs": [
    {
     "name": "stdout",
     "output_type": "stream",
     "text": [
      "3\n",
      "6\n",
      "9\n",
      "12\n",
      "15\n",
      "18\n",
      "21\n",
      "24\n",
      "27\n",
      "30\n",
      "33\n",
      "36\n",
      "39\n"
     ]
    }
   ],
   "source": [
    "for number in range(1,40):\n",
    "    if number % 3 == 0:\n",
    "        print(number)"
   ]
  },
  {
   "cell_type": "code",
   "execution_count": 12,
   "metadata": {},
   "outputs": [
    {
     "name": "stdout",
     "output_type": "stream",
     "text": [
      "3\n",
      "6\n",
      "9\n",
      "12\n",
      "15\n",
      "18\n",
      "21\n",
      "24\n",
      "27\n",
      "30\n",
      "33\n",
      "36\n",
      "39\n"
     ]
    }
   ],
   "source": [
    "for number in range(3,40,3):\n",
    "    print(number)"
   ]
  },
  {
   "cell_type": "code",
   "execution_count": 18,
   "metadata": {},
   "outputs": [
    {
     "name": "stdout",
     "output_type": "stream",
     "text": [
      "69\n",
      "138\n",
      "207\n",
      "276\n",
      "345\n",
      "414\n",
      "483\n",
      "552\n",
      "621\n"
     ]
    }
   ],
   "source": [
    "weights = [100, 89, 234, 76, 100, 87, 104, 80, 69, 110]\n",
    "\n",
    "weights.sort()\n",
    "\n",
    "index = 0\n",
    "total = 0\n",
    "\n",
    "while (total < 600):\n",
    "    total += weights[index]\n",
    "    print(total)"
   ]
  },
  {
   "cell_type": "code",
   "execution_count": 22,
   "metadata": {},
   "outputs": [
    {
     "name": "stdout",
     "output_type": "stream",
     "text": [
      "6\n",
      "501\n"
     ]
    }
   ],
   "source": [
    "index = 0\n",
    "total = 0\n",
    "\n",
    "while (total + weights[index] < 600):\n",
    "    total += weights[index]\n",
    "    index += 1\n",
    "        \n",
    "print(index)\n",
    "print(total)"
   ]
  },
  {
   "cell_type": "code",
   "execution_count": 32,
   "metadata": {},
   "outputs": [
    {
     "name": "stdout",
     "output_type": "stream",
     "text": [
      "6\n",
      "501\n"
     ]
    }
   ],
   "source": [
    "index = 0\n",
    "total_weight = 0\n",
    "total_items = 0\n",
    "max_weight = 600\n",
    "max_items = len(weights)\n",
    "\n",
    "# While I have not used all of the items, if the total weight plus the new thing is greater than 600, it will stop.\n",
    "# If not, add next thing.\n",
    "# += adds a value to an object that already exists.\n",
    "# x = 3 as opposed to x += 3\n",
    "\n",
    "while (total_items+1 <= max_items):\n",
    "    if total_weight + weights[index] > max_weight:\n",
    "        break\n",
    "    total_weight += weights[index]\n",
    "    total_items += 1\n",
    "    index += 1\n",
    "    \n",
    "print(index)\n",
    "print(total_weight)"
   ]
  },
  {
   "cell_type": "code",
   "execution_count": 40,
   "metadata": {},
   "outputs": [
    {
     "name": "stdout",
     "output_type": "stream",
     "text": [
      "7 501\n"
     ]
    }
   ],
   "source": [
    "weights.sort()\n",
    "i = 1\n",
    "\n",
    "while (sum(weights[0:i]) <= 600):\n",
    "    "
   ]
  },
  {
   "cell_type": "code",
   "execution_count": 1,
   "metadata": {},
   "outputs": [
    {
     "name": "stdout",
     "output_type": "stream",
     "text": [
      "Object `testmod` not found.\n"
     ]
    }
   ],
   "source": [
    "testmod?\n"
   ]
  },
  {
   "cell_type": "code",
   "execution_count": 3,
   "metadata": {},
   "outputs": [
    {
     "data": {
      "text/plain": [
       "False"
      ]
     },
     "execution_count": 3,
     "metadata": {},
     "output_type": "execute_result"
    }
   ],
   "source": [
    "not True and False"
   ]
  },
  {
   "cell_type": "code",
   "execution_count": null,
   "metadata": {},
   "outputs": [],
   "source": []
  }
 ],
 "metadata": {
  "kernelspec": {
   "display_name": "Python 3",
   "language": "python",
   "name": "python3"
  },
  "language_info": {
   "codemirror_mode": {
    "name": "ipython",
    "version": 3
   },
   "file_extension": ".py",
   "mimetype": "text/x-python",
   "name": "python",
   "nbconvert_exporter": "python",
   "pygments_lexer": "ipython3",
   "version": "3.7.1"
  }
 },
 "nbformat": 4,
 "nbformat_minor": 2
}
