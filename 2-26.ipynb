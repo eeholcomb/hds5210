{
 "cells": [
  {
   "cell_type": "code",
   "execution_count": 1,
   "metadata": {},
   "outputs": [
    {
     "data": {
      "text/plain": [
       "[{'City': 'St. Louis',\n",
       "  'Hospitals': [{'System': 'BJC', 'Hospital': 'BJH', 'Beds': 1432},\n",
       "   {'System': 'SSM', 'Hospital': 'SLUH', 'Beds': 965}]},\n",
       " {'City': 'Creve Coeur',\n",
       "  'Hospitals': [{'System': 'BJC', 'Hospital': 'MOBap', 'Beds': 1107},\n",
       "   {'System': 'Mercy', 'Hospital': 'Mercy STL', 'Beds': 983}]}]"
      ]
     },
     "execution_count": 1,
     "metadata": {},
     "output_type": "execute_result"
    }
   ],
   "source": [
    "[ \n",
    "    {\n",
    "        \"City\": \"St. Louis\",\n",
    "        \"Hospitals\": [\n",
    "         {\n",
    "            \"System\": \"BJC\",\n",
    "            \"Hospital\": \"BJH\",\n",
    "            \"Beds\": 1432\n",
    "         },\n",
    "         {\n",
    "             \"System\": \"SSM\",\n",
    "             \"Hospital\": \"SLUH\",\n",
    "             \"Beds\": 965\n",
    "         }\n",
    "     ]\n",
    "    },\n",
    "    {\n",
    "        \"City\": \"Creve Coeur\",\n",
    "        \"Hospitals\": [\n",
    "         {\n",
    "             \"System\": \"BJC\",\n",
    "             \"Hospital\": \"MOBap\",\n",
    "             \"Beds\": 1107\n",
    "         },\n",
    "         {\n",
    "             \"System\": \"Mercy\",\n",
    "             \"Hospital\": \"Mercy STL\",\n",
    "             \"Beds\": 983\n",
    "         }\n",
    "        ]\n",
    "    }\n",
    "]"
   ]
  },
  {
   "cell_type": "code",
   "execution_count": 3,
   "metadata": {},
   "outputs": [],
   "source": [
    "rulesjson ={\n",
    "        \"los_rule\": [\n",
    "            {\"min\": 1, \"max\": 1, \"score\" :1 },\n",
    "            {\"min\": 2, \"max\": 2, \"score\" :2 },\n",
    "            {\"min\": 3, \"max\": 3, \"score\" :3 },\n",
    "            {\"min\": 4, \"max\": 6, \"score\" :4 },\n",
    "            {\"min\": 7, \"max\": 13, \"score\" :5 },\n",
    "            {\"min\": 14, \"max\": None, \"score\" :7 }\n",
    "        ]\n",
    "    }\n",
    "    \n",
    "#If formatting this in json, don't use None. Just delete the parameter."
   ]
  },
  {
   "cell_type": "code",
   "execution_count": 4,
   "metadata": {},
   "outputs": [],
   "source": [
    "import json\n",
    "\n",
    "def lace_los_score(los, config):\n",
    "    \"\"\"\n",
    "    Compute the los score using the lace rules in the\n",
    "    config file.\n",
    "    \"\"\"\n",
    "    \n",
    "    score = 0\n",
    "    \n",
    "    los_rule = rulesjson\n",
    "    for condition in los_rule:\n",
    "        if (condition.get(\"min\") <= los and\n",
    "            (condition.get(\"max\") >= los or condition.get(\"max\") is None)):\n",
    "                score = condition.get(\"score\")\n",
    "    \n",
    "    return score"
   ]
  },
  {
   "cell_type": "code",
   "execution_count": 5,
   "metadata": {},
   "outputs": [
    {
     "ename": "AttributeError",
     "evalue": "'str' object has no attribute 'get'",
     "output_type": "error",
     "traceback": [
      "\u001b[0;31m---------------------------------------------------------------------------\u001b[0m",
      "\u001b[0;31mAttributeError\u001b[0m                            Traceback (most recent call last)",
      "\u001b[0;32m<ipython-input-5-2ca1e65d16d6>\u001b[0m in \u001b[0;36m<module>\u001b[0;34m\u001b[0m\n\u001b[1;32m      1\u001b[0m \u001b[0;32mfor\u001b[0m \u001b[0mi\u001b[0m \u001b[0;32min\u001b[0m \u001b[0mrange\u001b[0m\u001b[0;34m(\u001b[0m\u001b[0;36m21\u001b[0m\u001b[0;34m)\u001b[0m\u001b[0;34m:\u001b[0m\u001b[0;34m\u001b[0m\u001b[0;34m\u001b[0m\u001b[0m\n\u001b[0;32m----> 2\u001b[0;31m     \u001b[0mprint\u001b[0m\u001b[0;34m(\u001b[0m\u001b[0mi\u001b[0m\u001b[0;34m,\u001b[0m \u001b[0mlace_los_score\u001b[0m\u001b[0;34m(\u001b[0m\u001b[0mi\u001b[0m\u001b[0;34m,\u001b[0m\u001b[0;34m'rulesjson'\u001b[0m\u001b[0;34m)\u001b[0m\u001b[0;34m)\u001b[0m\u001b[0;34m\u001b[0m\u001b[0;34m\u001b[0m\u001b[0m\n\u001b[0m",
      "\u001b[0;32m<ipython-input-4-0353afe2d86c>\u001b[0m in \u001b[0;36mlace_los_score\u001b[0;34m(los, config)\u001b[0m\n\u001b[1;32m     11\u001b[0m     \u001b[0mlos_rule\u001b[0m \u001b[0;34m=\u001b[0m \u001b[0mrulesjson\u001b[0m\u001b[0;34m\u001b[0m\u001b[0;34m\u001b[0m\u001b[0m\n\u001b[1;32m     12\u001b[0m     \u001b[0;32mfor\u001b[0m \u001b[0mcondition\u001b[0m \u001b[0;32min\u001b[0m \u001b[0mlos_rule\u001b[0m\u001b[0;34m:\u001b[0m\u001b[0;34m\u001b[0m\u001b[0;34m\u001b[0m\u001b[0m\n\u001b[0;32m---> 13\u001b[0;31m         if (condition.get(\"min\") <= los and\n\u001b[0m\u001b[1;32m     14\u001b[0m             (condition.get(\"max\") >= los or condition.get(\"max\") is None)):\n\u001b[1;32m     15\u001b[0m                 \u001b[0mscore\u001b[0m \u001b[0;34m=\u001b[0m \u001b[0mcondition\u001b[0m\u001b[0;34m.\u001b[0m\u001b[0mget\u001b[0m\u001b[0;34m(\u001b[0m\u001b[0;34m\"score\"\u001b[0m\u001b[0;34m)\u001b[0m\u001b[0;34m\u001b[0m\u001b[0;34m\u001b[0m\u001b[0m\n",
      "\u001b[0;31mAttributeError\u001b[0m: 'str' object has no attribute 'get'"
     ]
    }
   ],
   "source": [
    "for i in range(21):\n",
    "    print(i, lace_los_score(i,'rulesjson'))"
   ]
  },
  {
   "cell_type": "code",
   "execution_count": null,
   "metadata": {},
   "outputs": [],
   "source": []
  }
 ],
 "metadata": {
  "kernelspec": {
   "display_name": "Python 3",
   "language": "python",
   "name": "python3"
  },
  "language_info": {
   "codemirror_mode": {
    "name": "ipython",
    "version": 3
   },
   "file_extension": ".py",
   "mimetype": "text/x-python",
   "name": "python",
   "nbconvert_exporter": "python",
   "pygments_lexer": "ipython3",
   "version": "3.7.1"
  }
 },
 "nbformat": 4,
 "nbformat_minor": 2
}
