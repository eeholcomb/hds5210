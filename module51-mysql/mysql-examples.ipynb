{
 "cells": [
  {
   "cell_type": "markdown",
   "metadata": {},
   "source": [
    "Before you turn this problem in, make sure everything runs as expected. First, **restart the kernel** (in the menubar, select Kernel$\\rightarrow$Restart) and then **run all cells** (in the menubar, select Cell$\\rightarrow$Run All).\n",
    "\n",
    "Make sure you fill in any place that says `YOUR CODE HERE` or \"YOUR ANSWER HERE\", as well as your name and collaborators below:"
   ]
  },
  {
   "cell_type": "code",
   "execution_count": null,
   "metadata": {},
   "outputs": [],
   "source": [
    "NAME = \"\"\n",
    "COLLABORATORS = \"\""
   ]
  },
  {
   "cell_type": "markdown",
   "metadata": {},
   "source": [
    "---"
   ]
  },
  {
   "cell_type": "markdown",
   "metadata": {},
   "source": [
    "# MySQL Relational Database\n",
    "\n",
    "\n",
    "<img src=\"datamodel.png\" alt=\"Data Model\" style=\"width: 300px; float: right; margin-left: 20px; border: 1px solid\">\n",
    "\n",
    "This sample database has the hospitals, systems, services, and visits information we talked about in the slides.  The model (table names, columns, and relationships) is show to the right.\n",
    "\n",
    "In this model, there are four tables:\n",
    "* System Affiliations\n",
    "* Hospitals\n",
    "* ED Visits\n",
    "* Hospital Services\n",
    "\n",
    "In these examples, we're going to ask a few questions and answer them with both SQL and Python Pandas data processes.\n"
   ]
  },
  {
   "cell_type": "markdown",
   "metadata": {},
   "source": [
    "## Setup\n",
    "\n",
    "Create a connection to the MySQL database"
   ]
  },
  {
   "cell_type": "code",
   "execution_count": 1,
   "metadata": {},
   "outputs": [],
   "source": [
    "import os\n",
    "import pymysql\n",
    "from sqlalchemy import create_engine\n",
    "import pandas as pd\n",
    "\n",
    "host = 'slucor2019.cgdcoitnku0k.us-east-1.rds.amazonaws.com'\n",
    "port = '3306'\n",
    "user = 'slucor2019'\n",
    "password = 'SLUcor2019'\n",
    "database = 'slucor2019'\n",
    "\n",
    "conn = create_engine('mysql://' + \n",
    "                     user + ':' + \n",
    "                     password + '@' + \n",
    "                     host + ':' + \n",
    "                     str(port) + '/' + \n",
    "                     database)"
   ]
  },
  {
   "cell_type": "markdown",
   "metadata": {},
   "source": [
    "## Give me a list of hospitals"
   ]
  },
  {
   "cell_type": "code",
   "execution_count": 2,
   "metadata": {},
   "outputs": [
    {
     "data": {
      "text/html": [
       "<div>\n",
       "<style scoped>\n",
       "    .dataframe tbody tr th:only-of-type {\n",
       "        vertical-align: middle;\n",
       "    }\n",
       "\n",
       "    .dataframe tbody tr th {\n",
       "        vertical-align: top;\n",
       "    }\n",
       "\n",
       "    .dataframe thead th {\n",
       "        text-align: right;\n",
       "    }\n",
       "</style>\n",
       "<table border=\"1\" class=\"dataframe\">\n",
       "  <thead>\n",
       "    <tr style=\"text-align: right;\">\n",
       "      <th></th>\n",
       "      <th>hospital_name</th>\n",
       "      <th>city</th>\n",
       "      <th>system_name</th>\n",
       "      <th>beds</th>\n",
       "    </tr>\n",
       "  </thead>\n",
       "  <tbody>\n",
       "    <tr>\n",
       "      <th>0</th>\n",
       "      <td>BJH</td>\n",
       "      <td>St. Louis</td>\n",
       "      <td>BJC</td>\n",
       "      <td>1243</td>\n",
       "    </tr>\n",
       "    <tr>\n",
       "      <th>1</th>\n",
       "      <td>Mercy STL</td>\n",
       "      <td>Ladue</td>\n",
       "      <td>Mercy</td>\n",
       "      <td>1120</td>\n",
       "    </tr>\n",
       "    <tr>\n",
       "      <th>2</th>\n",
       "      <td>MoBap</td>\n",
       "      <td>Ladue</td>\n",
       "      <td>BJC</td>\n",
       "      <td>443</td>\n",
       "    </tr>\n",
       "  </tbody>\n",
       "</table>\n",
       "</div>"
      ],
      "text/plain": [
       "  hospital_name       city system_name  beds\n",
       "0           BJH  St. Louis         BJC  1243\n",
       "1     Mercy STL      Ladue       Mercy  1120\n",
       "2         MoBap      Ladue         BJC   443"
      ]
     },
     "execution_count": 2,
     "metadata": {},
     "output_type": "execute_result"
    }
   ],
   "source": [
    "pd.read_sql_query(\"SELECT * FROM hospitals\", conn)"
   ]
  },
  {
   "cell_type": "markdown",
   "metadata": {},
   "source": [
    "# All the hospitals that are not affiliated with the Catholic church\n",
    "\n",
    "Using SQL, we join the hospitals with system_affiliations tables to get a list of hospitals."
   ]
  },
  {
   "cell_type": "code",
   "execution_count": null,
   "metadata": {},
   "outputs": [],
   "source": [
    "pd.read_sql_query(\"\"\"\n",
    "  SELECT h.*, s.affiliation\n",
    "  FROM \n",
    "    hospitals h JOIN\n",
    "    system_affiliations s ON h.system_name = s.system_name\n",
    "  WHERE\n",
    "    affiliation != 'Catholic'\n",
    "\"\"\", conn)"
   ]
  },
  {
   "cell_type": "markdown",
   "metadata": {},
   "source": [
    "## Read in all the DB tables into an array of Dataframes\n",
    "\n",
    "1. Get a list of all of the tables\n",
    "2. Read each table into a dataframe; and\n",
    "3. Store that in a dictionary of dataframes"
   ]
  },
  {
   "cell_type": "code",
   "execution_count": null,
   "metadata": {},
   "outputs": [],
   "source": [
    "tables = {}\n",
    "\n",
    "for n,t in pd.read_sql_query(\"SHOW TABLES\", conn).iterrows():\n",
    "    name = t.item()\n",
    "    print(name)\n",
    "    tables[name] = pd.read_sql(\"SELECT * FROM \"+name,conn)"
   ]
  },
  {
   "cell_type": "markdown",
   "metadata": {},
   "source": [
    "# All the hospitals that are not affiliated with the Catholic church\n",
    "\n",
    "This time, using Pandas"
   ]
  },
  {
   "cell_type": "code",
   "execution_count": null,
   "metadata": {},
   "outputs": [],
   "source": [
    "hospitals = tables['hospitals'].merge(tables['system_affiliations'])"
   ]
  },
  {
   "cell_type": "code",
   "execution_count": null,
   "metadata": {},
   "outputs": [],
   "source": [
    "hospitals[hospitals['affiliation'] != 'Catholic']"
   ]
  },
  {
   "cell_type": "markdown",
   "metadata": {},
   "source": [
    "## Hospitals with more than 43,000 ED visits each year\n",
    "\n",
    "First in SQL"
   ]
  },
  {
   "cell_type": "code",
   "execution_count": null,
   "metadata": {},
   "outputs": [],
   "source": [
    "pd.read_sql_query(\"\"\"\n",
    "  SELECT h.*, v.*\n",
    "  FROM \n",
    "    hospitals h JOIN\n",
    "    ed_visits v ON h.hospital_name = v.hospital_name\n",
    "  WHERE\n",
    "    v.ed_visits > 43000\n",
    "\"\"\", conn)"
   ]
  },
  {
   "cell_type": "markdown",
   "metadata": {},
   "source": [
    "Now, let's use SQL to pivot that so that we can see 2016 and 2017 in two separate columns..."
   ]
  },
  {
   "cell_type": "markdown",
   "metadata": {},
   "source": [
    "# ..."
   ]
  },
  {
   "cell_type": "markdown",
   "metadata": {},
   "source": [
    "Come on.  Let's do it?"
   ]
  },
  {
   "cell_type": "markdown",
   "metadata": {},
   "source": [
    "# ..."
   ]
  },
  {
   "cell_type": "markdown",
   "metadata": {},
   "source": [
    "Oh.  That isn't supported.  :("
   ]
  },
  {
   "cell_type": "markdown",
   "metadata": {},
   "source": [
    "## Let's try with Pandas"
   ]
  },
  {
   "cell_type": "code",
   "execution_count": null,
   "metadata": {},
   "outputs": [],
   "source": [
    "visits = tables['hospitals'].merge(tables['ed_visits'])"
   ]
  },
  {
   "cell_type": "code",
   "execution_count": null,
   "metadata": {},
   "outputs": [],
   "source": [
    "visits"
   ]
  },
  {
   "cell_type": "code",
   "execution_count": null,
   "metadata": {},
   "outputs": [],
   "source": [
    "visits = visits[visits['ed_visits'] > 43000]"
   ]
  },
  {
   "cell_type": "code",
   "execution_count": null,
   "metadata": {},
   "outputs": [],
   "source": [
    "pd.pivot_table(visits, \n",
    "               index=['hospital_name','city','system_name','beds'], \n",
    "               columns='year', \n",
    "               values='ed_visits').reset_index()"
   ]
  },
  {
   "cell_type": "markdown",
   "metadata": {},
   "source": [
    "## OK.  We can do it in SQL...\n",
    "\n",
    "But can you figure out why this is a bad idea?"
   ]
  },
  {
   "cell_type": "code",
   "execution_count": null,
   "metadata": {},
   "outputs": [],
   "source": [
    "pd.read_sql_query(\"\"\"\n",
    "  SELECT \n",
    "    h.*, \n",
    "    MIN(CASE WHEN v.year = 2016 THEN v.ed_visits ELSE NULL END) as visits_2016,\n",
    "    MIN(CASE WHEN v.year = 2017 THEN v.ed_visits ELSE NULL END) as visits_2017\n",
    "  FROM \n",
    "    hospitals h JOIN\n",
    "    ed_visits v ON h.hospital_name = v.hospital_name\n",
    "  WHERE\n",
    "    v.ed_visits > 43000\n",
    "  GROUP BY \n",
    "    h.hospital_name, h.city, h.system_name, h.beds\n",
    "\"\"\", conn)"
   ]
  },
  {
   "cell_type": "markdown",
   "metadata": {},
   "source": [
    "## Now, let's create some new data from scratch\n",
    "\n",
    "1. Create a dataframe\n",
    "2. Use a name that includes your username so that it's unique\n",
    "3. Write the df to a new table\n",
    "4. Query your data back out\n",
    "\n",
    "See https://pandas.pydata.org/pandas-docs/stable/reference/api/pandas.DataFrame.to_sql.html"
   ]
  },
  {
   "cell_type": "code",
   "execution_count": null,
   "metadata": {},
   "outputs": [],
   "source": [
    "columns = ['hospital_name','year','ip_visits']\n",
    "data = [\n",
    "    ['BJH',2016,3124],\n",
    "    ['Mercy STL',2016,4321],\n",
    "    ['MoBap',2016,2783]\n",
    "]\n",
    "df = pd.DataFrame(data, columns=columns)"
   ]
  },
  {
   "cell_type": "code",
   "execution_count": null,
   "metadata": {},
   "outputs": [],
   "source": [
    "df"
   ]
  },
  {
   "cell_type": "code",
   "execution_count": null,
   "metadata": {},
   "outputs": [],
   "source": [
    "import getpass\n",
    "myname = getpass.getuser()\n",
    "myname"
   ]
  },
  {
   "cell_type": "code",
   "execution_count": null,
   "metadata": {},
   "outputs": [],
   "source": [
    "df.to_sql(myname + '_ip_visits', conn)"
   ]
  },
  {
   "cell_type": "code",
   "execution_count": null,
   "metadata": {},
   "outputs": [],
   "source": [
    "ip_visits = pd.read_sql_query('SELECT * FROM ' + myname + '_ip_visits', conn)"
   ]
  },
  {
   "cell_type": "code",
   "execution_count": null,
   "metadata": {},
   "outputs": [],
   "source": [
    "ip_visits"
   ]
  },
  {
   "cell_type": "code",
   "execution_count": null,
   "metadata": {},
   "outputs": [],
   "source": [
    "pd.read_sql_query('SHOW TABLES', conn)"
   ]
  },
  {
   "cell_type": "markdown",
   "metadata": {},
   "source": [
    "## And we need to clean up after ourselves by dropping our table"
   ]
  },
  {
   "cell_type": "code",
   "execution_count": null,
   "metadata": {},
   "outputs": [],
   "source": [
    "with conn.connect() as c:\n",
    "    c.execute('DROP TABLE IF EXISTS ' + myname + '_ip_visits')"
   ]
  },
  {
   "cell_type": "code",
   "execution_count": null,
   "metadata": {},
   "outputs": [],
   "source": []
  }
 ],
 "metadata": {
  "kernelspec": {
   "display_name": "Python 3",
   "language": "python",
   "name": "python3"
  },
  "language_info": {
   "codemirror_mode": {
    "name": "ipython",
    "version": 3
   },
   "file_extension": ".py",
   "mimetype": "text/x-python",
   "name": "python",
   "nbconvert_exporter": "python",
   "pygments_lexer": "ipython3",
   "version": "3.7.2"
  }
 },
 "nbformat": 4,
 "nbformat_minor": 2
}
