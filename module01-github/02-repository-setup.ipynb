{
 "cells": [
  {
   "cell_type": "markdown",
   "metadata": {},
   "source": [
    "Before you turn this problem in, make sure everything runs as expected. First, **restart the kernel** (in the menubar, select Kernel$\\rightarrow$Restart) and then **run all cells** (in the menubar, select Cell$\\rightarrow$Run All).\n",
    "\n",
    "Make sure you fill in any place that says `YOUR CODE HERE` or \"YOUR ANSWER HERE\", as well as your name and collaborators below:"
   ]
  },
  {
   "cell_type": "code",
   "execution_count": null,
   "metadata": {},
   "outputs": [],
   "source": [
    "NAME = \"Emily Holcomb\"\n",
    "COLLABORATORS = \"\""
   ]
  },
  {
   "cell_type": "markdown",
   "metadata": {},
   "source": [
    "---"
   ]
  },
  {
   "cell_type": "markdown",
   "metadata": {
    "deletable": false,
    "editable": false,
    "nbgrader": {
     "checksum": "9a7e10df119b0a3d5afc3d0f621278df",
     "grade": false,
     "grade_id": "intro",
     "locked": true,
     "schema_version": 1,
     "solution": false
    }
   },
   "source": [
    "# Create a new GitHub.com project for class\n",
    "\n",
    "Using source code control is an important best practice for any kind of software development, be it Python or R or any other programming language.  In fact, you can use GitHub.com to manage revisions of any kinds of files.\n",
    "\n",
    "In any source code control tool, the top-level _thing_ is usually referred to as a **project** or **repository**.  So, you'll need to create a new project called `hds5210` using GitLab.com, and then follow the instructions later below to link that new project up with the Jupyter files for this class."
   ]
  },
  {
   "cell_type": "markdown",
   "metadata": {
    "deletable": false,
    "editable": false,
    "nbgrader": {
     "checksum": "6203f8c0d487185167522e0df75b40b7",
     "grade": false,
     "grade_id": "create-project",
     "locked": true,
     "schema_version": 1,
     "solution": false
    }
   },
   "source": [
    "## 1. Create a new project in GitHub.com\n",
    "\n",
    "Browse to https://github.com and make sure that you are logged into your account.\n",
    "\n",
    "Click the **'+'** button in the upper right-hand corner and choose `New Repository`\n",
    "\n",
    "Name your new project / repository `hds5210`\n",
    "\n",
    "Click the option to make your project / repository **Private** instead of Public\n",
    "\n",
    "Leave the other options as is and click **Create repository**\n",
    "\n",
    "On the next screen, don't do anything"
   ]
  },
  {
   "cell_type": "markdown",
   "metadata": {
    "deletable": false,
    "editable": false,
    "nbgrader": {
     "checksum": "3cbb2c9ef0ff8b0fe7eb001e8bc132de",
     "grade": false,
     "grade_id": "setup-project",
     "locked": true,
     "schema_version": 1,
     "solution": false
    }
   },
   "source": [
    "## 2. Link that new project to these files in Jupyter\n",
    "\n",
    "As long as you've setup your project correctly and made it through the previous setup steps, then the command below will automatically link these files in Jupyter to your `hds5210` project in GitHub.com.  When you use git commands like `commit` and `push`, they will track all of your changes in GitHub.com.\n",
    "\n",
    "Now, run the cell below."
   ]
  },
  {
   "cell_type": "code",
   "execution_count": 1,
   "metadata": {},
   "outputs": [
    {
     "name": "stdout",
     "output_type": "stream",
     "text": [
      "Initialized empty Git repository in /home/eeholcomb/.git/\n",
      "[master (root-commit) efe8101] first commit\n",
      " 8 files changed, 684 insertions(+)\n",
      " create mode 100644 module01-github/00-github-signin.ipynb\n",
      " create mode 100644 module01-github/01-github-setup.ipynb\n",
      " create mode 100644 module01-github/02-repository-setup.ipynb\n",
      " create mode 100644 module01-github/screenshots/github-authorization.png\n",
      " create mode 100644 module01-github/screenshots/login-to-github.png\n",
      " create mode 100644 module01-github/screenshots/login-with-github.png\n",
      " create mode 100644 module02-computing/01-computing.ipynb\n",
      " create mode 100644 module03-jupyter/01-hello-world.ipynb\n",
      "Branch 'master' set up to track remote branch 'master' from 'origin'.\n"
     ]
    },
    {
     "name": "stderr",
     "output_type": "stream",
     "text": [
      "Warning: Permanently added 'github.com,192.30.253.112' (RSA) to the list of known hosts.\r\n",
      "To github.com:eeholcomb/hds5210.git\n",
      " * [new branch]      master -> master\n"
     ]
    }
   ],
   "source": [
    "%%bash\n",
    "\n",
    "# Make sure you put your information on the lines below for your email address, name, and GitHub user name.\n",
    "# Here are my sample responses:\n",
    "#  GIT_EMAIL=\"boalpe@slu.edu\"\n",
    "#  GIT_NAME=\"Paul Boal\"\n",
    "#  GIT_USER=\"paulboal\"\n",
    "GIT_EMAIL=\"emilyeholcomb@gmail.com\"\n",
    "GIT_NAME=\"Emily Holcomb\"\n",
    "GIT_USER=\"eeholcomb\"\n",
    "\n",
    "if [ -z ${GIT_EMAIL+x} ]; then\n",
    "  echo \"You need to enter your email and name above.\" 1>&2\n",
    "else\n",
    "  git config --global user.email ${GIT_EMAIL}\n",
    "  git config --global user.name \"${GIT_NAME}\"\n",
    "  git config --global core.excludesfile ~/.gitignore_global\n",
    "fi\n",
    "\n",
    "cp /etc/jupyterhub/gitignore ~/.gitignore_global\n",
    "\n",
    "touch ~/.ssh/config\n",
    "grep \"StrictHost\" ~/.ssh/config || echo -e \"Host github.com\\n\\tStrictHostKeyChecking no\\n\" >> ~/.ssh/config\n",
    "\n",
    "cd ../\n",
    "if test -e ~/.git; then\n",
    "  echo \"Skipped git init since there's already a .git directory here.\" 1>&2\n",
    "else\n",
    "  git init\n",
    "  git add .\n",
    "  git commit -m \"first commit\"\n",
    "  git remote add origin git@github.com:${GIT_USER}/hds5210.git\n",
    "  git push -u origin master\n",
    "fi\n"
   ]
  },
  {
   "cell_type": "code",
   "execution_count": 2,
   "metadata": {
    "deletable": false,
    "editable": false,
    "nbgrader": {
     "checksum": "a430b3525d95ea04dd56a8ea3420174f",
     "grade": true,
     "grade_id": "cell-59197745b7685f50",
     "locked": true,
     "points": 1,
     "schema_version": 1,
     "solution": false
    }
   },
   "outputs": [],
   "source": [
    "%%bash\n",
    "\n",
    "cd ..\n",
    "test -e ~/.git\n"
   ]
  }
 ],
 "metadata": {
  "kernelspec": {
   "display_name": "Python 3",
   "language": "python",
   "name": "python3"
  },
  "language_info": {
   "codemirror_mode": {
    "name": "ipython",
    "version": 3
   },
   "file_extension": ".py",
   "mimetype": "text/x-python",
   "name": "python",
   "nbconvert_exporter": "python",
   "pygments_lexer": "ipython3",
   "version": "3.7.1"
  }
 },
 "nbformat": 4,
 "nbformat_minor": 2
}
