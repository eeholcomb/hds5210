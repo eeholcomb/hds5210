{
 "cells": [
  {
   "cell_type": "markdown",
   "metadata": {},
   "source": [
    "Before you turn this problem in, make sure everything runs as expected. First, **restart the kernel** (in the menubar, select Kernel$\\rightarrow$Restart) and then **run all cells** (in the menubar, select Cell$\\rightarrow$Run All).\n",
    "\n",
    "Make sure you fill in any place that says `YOUR CODE HERE` or \"YOUR ANSWER HERE\", as well as your name and collaborators below:"
   ]
  },
  {
   "cell_type": "code",
   "execution_count": null,
   "metadata": {},
   "outputs": [],
   "source": [
    "NAME = \"Emily Holcomb\"\n",
    "COLLABORATORS = \"\""
   ]
  },
  {
   "cell_type": "markdown",
   "metadata": {},
   "source": [
    "---"
   ]
  },
  {
   "cell_type": "markdown",
   "metadata": {
    "deletable": false,
    "editable": false,
    "nbgrader": {
     "checksum": "7100c009b495e95ab74f9a845061fe49",
     "grade": false,
     "grade_id": "intro",
     "locked": true,
     "schema_version": 1,
     "solution": false
    }
   },
   "source": [
    "# Setup Jupyter to talk to Github.com\n",
    "\n",
    "Now that you've gotten signed into Jupyter, we're going to have to get let them talk in the background without prompting you for your password over and over.  To so this, we use something called a private/public key pair.  This series of instructions will effectively created a lock and key pair and let you install the lock (public key) on your Github.com account.  Then anyone with the key (private key) can access your Github.com account using it - and you'll simply keep this key stashed privately on the https://jupyter.slucor.net.\n",
    "\n",
    "## Step 1: Creating the keys"
   ]
  },
  {
   "cell_type": "code",
   "execution_count": 1,
   "metadata": {
    "deletable": false,
    "editable": false,
    "nbgrader": {
     "checksum": "22c506e20b141086a21698c5c2372529",
     "grade": false,
     "grade_id": "create-ssh-key",
     "locked": true,
     "schema_version": 1,
     "solution": false
    }
   },
   "outputs": [
    {
     "name": "stdout",
     "output_type": "stream",
     "text": [
      "ssh-rsa AAAAB3NzaC1yc2EAAAADAQABAAABAQCvKQMZjsnliEa26UG3aaiNo8gZzqE58C0nW52FMliJWzKv9L1cwQQpt1JXcuWsPB1e3NlgFMENhgLGZKqtBtHAHMzRAtsWgcaBefarUZS/SatsiFpznYhMrYWKPYGTE3lZmmlHyVGwiMxisaPUZ5UzHVSoJwklWcGw7MT9zrPlb1GIce8CsPQDdvgF8LBo4KKl1vQCXW18rJ+TtJzjWW/hPj0v6vsFPU0s/Hek5fTNFjZaHOD913SmmE0PxgGrXM7DxYMp3vIQIGX6UiUycfjwQQhTr/59gwH7dmDesUx14DpVDk0OUqKYeFJnwXJwLStxs8GYrmk2HbEe/B9KzfVn eeholcomb@ip-172-31-48-250.ec2.internal\n"
     ]
    },
    {
     "name": "stderr",
     "output_type": "stream",
     "text": [
      "Generating a new SSH key pair to use with github.com\n"
     ]
    }
   ],
   "source": [
    "%%bash\n",
    "cd ~\n",
    "\n",
    "if test -e ~/.ssh/id_rsa; then\n",
    "  echo \"Skipped ssh-keygen since you already have a key pair created.\" 1>&2\n",
    "else\n",
    "  ssh-keygen -t rsa -N \"\" -f ~/.ssh/id_rsa -q\n",
    "  echo \"Generating a new SSH key pair to use with github.com\" 1>&2\n",
    "fi\n",
    "\n",
    "cat ~/.ssh/id_rsa.pub"
   ]
  },
  {
   "cell_type": "code",
   "execution_count": 2,
   "metadata": {
    "deletable": false,
    "editable": false,
    "nbgrader": {
     "checksum": "2ec0275384d45e5dbf4799ff2d661aa4",
     "grade": true,
     "grade_id": "verify-keys-match",
     "locked": true,
     "points": 1,
     "schema_version": 1,
     "solution": false
    }
   },
   "outputs": [],
   "source": [
    "from Crypto.PublicKey import RSA\n",
    "import os\n",
    "\n",
    "with open(os.path.expanduser('~/.ssh/id_rsa')) as f:\n",
    "    private = RSA.import_key(f.read())\n",
    "\n",
    "with open(os.path.expanduser('~/.ssh/id_rsa.pub')) as f:\n",
    "    public = f.read()\n",
    "    \n",
    "public1 = public[0:public.find(' ',10)]\n",
    "public2 = private.export_key('OpenSSH').decode('ASCII')\n",
    "\n",
    "assert(public1 == public2)\n"
   ]
  },
  {
   "cell_type": "markdown",
   "metadata": {
    "deletable": false,
    "editable": false,
    "nbgrader": {
     "checksum": "82a6681128346aac13409eafdfb36f5d",
     "grade": false,
     "grade_id": "github-ssh",
     "locked": true,
     "schema_version": 1,
     "solution": false
    }
   },
   "source": [
    "## Step 2: Put the public key in github\n",
    "\n",
    "Copy to your clipboard he text that you have above, with the public key.\n",
    "\n",
    "1. Go login to https://github.com\n",
    "2. Click on your profile icon in the upper right corner of the window.\n",
    "3. Choose **Settings**\n",
    "4. Choose **SSH and GPG keys** on the right-hand navigation area\n",
    "5. Click the **New SSH key** button\n",
    "6. Put `HDS5210 Jupyter` in the **Title** and the information you copied from above into the **Key** field.\n",
    "7. Click the **Add SSH key** button\n",
    "\n",
    "\n"
   ]
  }
 ],
 "metadata": {
  "kernelspec": {
   "display_name": "Python 3",
   "language": "python",
   "name": "python3"
  },
  "language_info": {
   "codemirror_mode": {
    "name": "ipython",
    "version": 3
   },
   "file_extension": ".py",
   "mimetype": "text/x-python",
   "name": "python",
   "nbconvert_exporter": "python",
   "pygments_lexer": "ipython3",
   "version": "3.7.1"
  }
 },
 "nbformat": 4,
 "nbformat_minor": 2
}
