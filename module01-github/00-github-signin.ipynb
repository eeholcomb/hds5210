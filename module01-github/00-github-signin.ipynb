{
 "cells": [
  {
   "cell_type": "markdown",
   "metadata": {},
   "source": [
    "Before you turn this problem in, make sure everything runs as expected. First, **restart the kernel** (in the menubar, select Kernel$\\rightarrow$Restart) and then **run all cells** (in the menubar, select Cell$\\rightarrow$Run All).\n",
    "\n",
    "Make sure you fill in any place that says `YOUR CODE HERE` or \"YOUR ANSWER HERE\", as well as your name and collaborators below:"
   ]
  },
  {
   "cell_type": "code",
   "execution_count": null,
   "metadata": {},
   "outputs": [],
   "source": [
    "NAME = \"Emily Holcomb\"\n",
    "COLLABORATORS = \"\""
   ]
  },
  {
   "cell_type": "markdown",
   "metadata": {},
   "source": [
    "---"
   ]
  },
  {
   "cell_type": "markdown",
   "metadata": {
    "deletable": false,
    "editable": false,
    "nbgrader": {
     "checksum": "f9b477100e5dce1a589f0e909d983e93",
     "grade": false,
     "grade_id": "github-setup",
     "locked": true,
     "schema_version": 1,
     "solution": false
    }
   },
   "source": [
    "# Introduction\n",
    "\n",
    "For HDS5210 Python Programming for Health Data Science, we'll be using a Python programming environment called Jupyter.  Jupyter is a web based, notebook style programming environment that has become very common in data science circles.  It gives you an instantly available Python programming environment without having to download and install any software on your local machine.  (Jupyter can also be run and installed on your local machine as well, but for class, we'll be using the class server.)\n",
    "\n",
    "## GitHub\n",
    "\n",
    "In addition to Python programming for data science applications, we'll also be working to develop good programming practices in this class.  One of the most fundamental programming practices is source code control, and the most common source code control system right now is something called Git.\n",
    "\n",
    "There are many ways to use Git, but we'll be using an online service called GitHub.com.  This is available free to any developers who want to share their work publicly, as a paid service for developers who want to maintain private access to their work, and free for students to keep work private as part of a class <-- you.\n",
    "\n",
    "In addition to using GitHub to manage your class work, you will also use your GitHub.com account to login to our Python Jupyter server.\n",
    "\n",
    "### Setup Instructions\n",
    "\n",
    "We'll walk through \n",
    "\n",
    "\n",
    "####  1 - Create your GitHub student account\n",
    "\n",
    "Note that if you already have a paid GitHub account, you don't need to do any of this step.  If you already have a gree GitHub account, but you have not certified your student status, you can do so by adding your slu.edu email address similar to the instructions below.\n",
    "\n",
    "If you are creating a GitHub account for the first time, use the link below to join using your slu.edu email address.\n",
    "https://education.github.com/pack/join\n",
    "\n",
    "#### 2 - Login to your GitHub account\n",
    "\n",
    "Goto https://github.com and login if you aren't already signed in.\n",
    "\n",
    "#### 3 - Login to the SLUCOR Jupyter server\n",
    "\n",
    "Goto https://jupyter.slucor.net and click the \"Signin with GitHub\" button.\n",
    "\n",
    "![Signin Button](screenshots/login-with-github.png)\n",
    "\n",
    "If you weren't still logged into GitHub, you'll be prompted to login.  Enter your username and password and click SignIn.\n",
    "\n",
    "![Login Screen](screenshots/login-to-github.png)\n",
    "\n",
    "GitHub will ask if you want to allow jupyter to connect to your GitHub account. Click the Authorize button and you're in!\n",
    "\n",
    "![GitHub Authorization](screenshots/github-authorization.png)\n",
    "\n",
    "\n",
    "### Accessing Python with Jupyter\n",
    "\n",
    "When you login for the first time, you'll get a \"Start My Server\" button.  Click that to get going.\n",
    "\n",
    "From then on, unless you manually stop your server, going to https://jupyter.slucor.net will take you directly to your notebooks.\n"
   ]
  },
  {
   "cell_type": "code",
   "execution_count": null,
   "metadata": {},
   "outputs": [],
   "source": []
  }
 ],
 "metadata": {
  "kernelspec": {
   "display_name": "Python 3",
   "language": "python",
   "name": "python3"
  },
  "language_info": {
   "codemirror_mode": {
    "name": "ipython",
    "version": 3
   },
   "file_extension": ".py",
   "mimetype": "text/x-python",
   "name": "python",
   "nbconvert_exporter": "python",
   "pygments_lexer": "ipython3",
   "version": "3.7.1"
  }
 },
 "nbformat": 4,
 "nbformat_minor": 2
}
