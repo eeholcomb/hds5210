{
 "cells": [
  {
   "cell_type": "markdown",
   "metadata": {},
   "source": [
    "Before you turn this problem in, make sure everything runs as expected. First, **restart the kernel** (in the menubar, select Kernel$\\rightarrow$Restart) and then **run all cells** (in the menubar, select Cell$\\rightarrow$Run All).\n",
    "\n",
    "Make sure you fill in any place that says `YOUR CODE HERE` or \"YOUR ANSWER HERE\", as well as your name and collaborators below:"
   ]
  },
  {
   "cell_type": "code",
   "execution_count": null,
   "metadata": {},
   "outputs": [],
   "source": [
    "NAME = \"Emily Holcomb\"\n",
    "COLLABORATORS = \"\""
   ]
  },
  {
   "cell_type": "markdown",
   "metadata": {},
   "source": [
    "---"
   ]
  },
  {
   "cell_type": "markdown",
   "metadata": {
    "deletable": false,
    "editable": false,
    "nbgrader": {
     "checksum": "d06c568af6830637ce4c743fa8803d31",
     "grade": false,
     "grade_id": "cell-2482ba8015fbcd85",
     "locked": true,
     "schema_version": 1,
     "solution": false
    }
   },
   "source": [
    "# Instructions\n",
    "\n",
    "In the answer section below, select your answer to the following multiple choice questions by typing `answer = \"X\"` where `X` is the letter for the correct multiple choice answer."
   ]
  },
  {
   "cell_type": "markdown",
   "metadata": {
    "deletable": false,
    "editable": false,
    "nbgrader": {
     "checksum": "372f337e04fa97914a97e6f4b8ceb61f",
     "grade": false,
     "grade_id": "cell-e3ea9ad6ee10a7fc",
     "locked": true,
     "schema_version": 1,
     "solution": false
    }
   },
   "source": [
    "## #1 Code Blocks\n",
    "\n",
    "Why is some code in Python indented from other lines of code?\n",
    "> A) To specify that line of code should only be executed if the previous line is True\n",
    ">\n",
    "> B) The programmer can choose when to indent code to make it easier to read\n",
    ">\n",
    "> C) To block code apart to designate it should only be executed at certain times\n",
    ">\n",
    "> D) Indented lines are treated like comments and not executed"
   ]
  },
  {
   "cell_type": "code",
   "execution_count": null,
   "metadata": {
    "deletable": false,
    "nbgrader": {
     "checksum": "0d9482ce20b5c713e61dd3099f5cac25",
     "grade": false,
     "grade_id": "cell-e3bfb833d65e06cf",
     "locked": false,
     "schema_version": 1,
     "solution": true
    }
   },
   "outputs": [],
   "source": [
    "def q01():\n",
    "    \n",
    "    # YOUR CODE HERE\n",
    "    answer = \"C\"\n",
    "    \n",
    "    return answer"
   ]
  },
  {
   "cell_type": "code",
   "execution_count": null,
   "metadata": {
    "deletable": false,
    "editable": false,
    "nbgrader": {
     "checksum": "8a36200ec73fe93d0ead333f4a57b56e",
     "grade": true,
     "grade_id": "cell-97b796d3d10e8bc9",
     "locked": true,
     "points": 1,
     "schema_version": 1,
     "solution": false
    }
   },
   "outputs": [],
   "source": [
    "assert type(q01()) == str"
   ]
  },
  {
   "cell_type": "markdown",
   "metadata": {
    "deletable": false,
    "editable": false,
    "nbgrader": {
     "checksum": "1beac4efd44b9fb323902108213bc44a",
     "grade": false,
     "grade_id": "cell-886ddab8c7453bd2",
     "locked": true,
     "schema_version": 1,
     "solution": false
    }
   },
   "source": [
    "## #2 Python Versions\n",
    "\n",
    "Which statements about Python 2 and Python 3 are true?\n",
    "> A) Python version 2 and version 3 have completely compatible syntax\n",
    ">\n",
    "> B) Any code that runs in Python version 3 will run in version 2\n",
    "> \n",
    "> C) Python version 3 and version 2 packages are compatible\n",
    "> \n",
    "> D) Python version 2 and version 3 have some differences, but are mostly the same"
   ]
  },
  {
   "cell_type": "code",
   "execution_count": null,
   "metadata": {
    "deletable": false,
    "nbgrader": {
     "checksum": "58bef65f900f8e0c04b275690f86cd94",
     "grade": false,
     "grade_id": "cell-4343e4e3597378de",
     "locked": false,
     "schema_version": 1,
     "solution": true
    }
   },
   "outputs": [],
   "source": [
    "def q02():\n",
    "    \n",
    "    # YOUR CODE HERE\n",
    "    answer = \"D\"\n",
    "    \n",
    "    return answer"
   ]
  },
  {
   "cell_type": "code",
   "execution_count": null,
   "metadata": {
    "deletable": false,
    "editable": false,
    "nbgrader": {
     "checksum": "689e46d33746ce6ec972969d0b4dbaf2",
     "grade": true,
     "grade_id": "cell-c44c3d14e219403e",
     "locked": true,
     "points": 1,
     "schema_version": 1,
     "solution": false
    }
   },
   "outputs": [],
   "source": [
    "assert type(q02()) == str"
   ]
  },
  {
   "cell_type": "markdown",
   "metadata": {
    "deletable": false,
    "editable": false,
    "nbgrader": {
     "checksum": "e0c9a1820f4f4e2af946d022d35053b3",
     "grade": false,
     "grade_id": "cell-b9d4dd30520cc292",
     "locked": true,
     "schema_version": 1,
     "solution": false
    }
   },
   "source": [
    "## #3 Python Syntax\n",
    "\n",
    "Which other common programming languages does Python look like?\n",
    "> A) C++\n",
    ">\n",
    "> B) Java\n",
    "> \n",
    "> C) JavaScript\n",
    ">\n",
    "> D) None of these"
   ]
  },
  {
   "cell_type": "code",
   "execution_count": null,
   "metadata": {
    "deletable": false,
    "nbgrader": {
     "checksum": "72d217158355bf54dc064db8c01cf335",
     "grade": false,
     "grade_id": "cell-77203bf463dcb9cb",
     "locked": false,
     "schema_version": 1,
     "solution": true
    }
   },
   "outputs": [],
   "source": [
    "def q03():\n",
    "    \n",
    "    # YOUR CODE HERE\n",
    "    answer = \"D\"\n",
    "    \n",
    "    return answer"
   ]
  },
  {
   "cell_type": "code",
   "execution_count": null,
   "metadata": {
    "deletable": false,
    "editable": false,
    "nbgrader": {
     "checksum": "5ad106e5281e8e7801defe4f0456f641",
     "grade": true,
     "grade_id": "cell-719b9ddb4e7b8277",
     "locked": true,
     "points": 1,
     "schema_version": 1,
     "solution": false
    }
   },
   "outputs": [],
   "source": [
    "assert type(q03()) == str"
   ]
  }
 ],
 "metadata": {
  "kernelspec": {
   "display_name": "Python 3",
   "language": "python",
   "name": "python3"
  },
  "language_info": {
   "codemirror_mode": {
    "name": "ipython",
    "version": 3
   },
   "file_extension": ".py",
   "mimetype": "text/x-python",
   "name": "python",
   "nbconvert_exporter": "python",
   "pygments_lexer": "ipython3",
   "version": "3.7.1"
  }
 },
 "nbformat": 4,
 "nbformat_minor": 2
}
