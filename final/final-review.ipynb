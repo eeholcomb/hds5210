{
 "cells": [
  {
   "cell_type": "markdown",
   "metadata": {},
   "source": [
    "Before you turn this problem in, make sure everything runs as expected. First, **restart the kernel** (in the menubar, select Kernel$\\rightarrow$Restart) and then **run all cells** (in the menubar, select Cell$\\rightarrow$Run All).\n",
    "\n",
    "Make sure you fill in any place that says `YOUR CODE HERE` or \"YOUR ANSWER HERE\", as well as your name and collaborators below:"
   ]
  },
  {
   "cell_type": "code",
   "execution_count": null,
   "metadata": {},
   "outputs": [],
   "source": [
    "NAME = \"\"\n",
    "COLLABORATORS = \"\""
   ]
  },
  {
   "cell_type": "markdown",
   "metadata": {},
   "source": [
    "---"
   ]
  },
  {
   "cell_type": "markdown",
   "metadata": {},
   "source": [
    "# HDS5210 Final - Review\n",
    "\n",
    "The final exam pulls together aspects of several things that we've done.  For your reference, I've pulled together a list of key elements that are important to the final.\n",
    "\n",
    "* Reading from a MySQL database - [module51](../module51-mysql)\n",
    "* Reading from a DocumentDB database - [module50](../module50-mongodb)\n",
    "* Aggregating a dataframe (groupby) - [module42](../module42-aggregation), [module43](../module43-grouping)\n",
    "* Joining dataframes (merge) - [module47](../module47-joins)\n",
    "* Working with dictionaries - [module15](../module15-dictionary)\n",
    "* Plotting with Seaborn and Pandas - [module30](../module30-pandas)\n",
    "* Using the dataframe `apply` function - [module37](../module37-derived)"
   ]
  }
 ],
 "metadata": {
  "kernelspec": {
   "display_name": "Python 3",
   "language": "python",
   "name": "python3"
  },
  "language_info": {
   "codemirror_mode": {
    "name": "ipython",
    "version": 3
   },
   "file_extension": ".py",
   "mimetype": "text/x-python",
   "name": "python",
   "nbconvert_exporter": "python",
   "pygments_lexer": "ipython3",
   "version": "3.7.2"
  }
 },
 "nbformat": 4,
 "nbformat_minor": 2
}
