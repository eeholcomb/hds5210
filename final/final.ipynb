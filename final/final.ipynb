{
 "cells": [
  {
   "cell_type": "markdown",
   "metadata": {},
   "source": [
    "Before you turn this problem in, make sure everything runs as expected. First, **restart the kernel** (in the menubar, select Kernel$\\rightarrow$Restart) and then **run all cells** (in the menubar, select Cell$\\rightarrow$Run All).\n",
    "\n",
    "Make sure you fill in any place that says `YOUR CODE HERE` or \"YOUR ANSWER HERE\", as well as your name and collaborators below:"
   ]
  },
  {
   "cell_type": "code",
   "execution_count": null,
   "metadata": {},
   "outputs": [],
   "source": [
    "NAME = \"Emily Holcomb\"\n",
    "COLLABORATORS = \"\""
   ]
  },
  {
   "cell_type": "markdown",
   "metadata": {},
   "source": [
    "---"
   ]
  },
  {
   "cell_type": "markdown",
   "metadata": {
    "deletable": false,
    "editable": false,
    "nbgrader": {
     "checksum": "b947f70d6575f2b73fe6b2673dc50ac5",
     "grade": false,
     "grade_id": "introduction",
     "locked": true,
     "schema_version": 1,
     "solution": false
    }
   },
   "source": [
    "# HDS5210 Final\n",
    "\n",
    "This final examination is similar in scale to the midterm from several weeks ago, but covers the scope of the entire semester.  The final also attempts to create a real-world scenario that you might encounter as a data scientist is the field.\n",
    "\n",
    "<img src='final_datamodel.png' style=\"float:right; width:300px\"/>\n",
    "\n",
    "The data you need for the final includes the following:\n",
    "* **rx_claims** - A relational database table that has a set of claims we will be calculating prices on.\n",
    "* **drug_usage** - A relational database table that has a list of drug identifiers (NDC) and a category of disagnoses for which the drug is used.\n",
    "* **npidata** - A relational database table that has a list of doctors and some information about them.\n",
    "* **rx_rules** - A document collection in AWS DocumentDB that has a set of calculation rules that you will need to read and use in calculating prices.\n",
    "\n",
    "*Note that ALL of the claim and drug data above is made up.  Those drugs aren't really used for those categories of usage and don't cost those amounts.*\n",
    "\n",
    "As a form of shortcut, when the instructions say **cost** that means the **ingredient_cost** column in the rx_claims table.  When the instructions say **days** that refers to the **days_supply** column.\n",
    "\n",
    "\n",
    "You will be asked to solve a number of different problems using this data.  As we've done in previous assignmnets, put `answer = <something>` at the end of each problem cell.  That will be used for autograding."
   ]
  },
  {
   "cell_type": "markdown",
   "metadata": {
    "deletable": false,
    "editable": false,
    "nbgrader": {
     "checksum": "fb2faf138ae70a18763b69327067d19b",
     "grade": false,
     "grade_id": "00-setup-intro",
     "locked": true,
     "schema_version": 1,
     "solution": false
    }
   },
   "source": [
    "## Setup\n",
    "\n",
    "The code below provides you with connections to both the MySQL database containing the relational tables for **rx_claims**, **npidata**, and **drug_usage**.  You can refer to that connection throughout your code with the variable `DB_CONN`.\n",
    "\n",
    "The code also creates a connection to the AWS DocumentDB (e.g. MongoDB) that contains the rules for how rx_claims prices are calculated.  The variable `RX_RULES` contains a document collection that has two documents.  One with an `_id = 'N'` for rules for *new* prescriptions.  Another with an `_id = 'R'` for rules for *refill* prescriptions."
   ]
  },
  {
   "cell_type": "code",
   "execution_count": 172,
   "metadata": {
    "deletable": false,
    "editable": false,
    "nbgrader": {
     "checksum": "019b1aa7c804c54d23889ab523f3bb8c",
     "grade": false,
     "grade_id": "00-setup",
     "locked": true,
     "schema_version": 1,
     "solution": false
    }
   },
   "outputs": [
    {
     "name": "stderr",
     "output_type": "stream",
     "text": [
      "/usr/local/lib64/python3.7/site-packages/pymongo/common.py:635: UserWarning: Unknown option sslAllowInvalidHostnames\n",
      "  warnings.warn(str(exc))\n"
     ]
    }
   ],
   "source": [
    "# Below are database connections and imports that you can use for the final.\n",
    "\n",
    "import pandas as pd\n",
    "import pymongo\n",
    "import sys\n",
    "\n",
    "# DocumentDB setup.  At the end of this, you'll a variable RX_RULES refering to a collection of rules that you can query\n",
    "user = 'slucor2019'\n",
    "password = 'SLUcor2019'\n",
    "client = pymongo.MongoClient('mongodb://' + \n",
    "     user + ':' + \n",
    "     password + \n",
    "     '@slucor-2019.cgdcoitnku0k.us-east-1.docdb.amazonaws.com:27017/?ssl=true&sslAllowInvalidHostnames=true&ssl_ca_certs=/pem/rds-combined-ca-bundle.pem'\n",
    ")\n",
    "\n",
    "db = client.test\n",
    "RX_RULES = db['rx_rules']\n",
    "\n",
    "# MySQL Database Connection.  At the end of this, you'll have a connection in a variable called DB_CONN\n",
    "# Then, this code will automatically setup your \n",
    "from sqlalchemy import create_engine\n",
    "import pandas as pd\n",
    "\n",
    "host = 'slucor2019.cgdcoitnku0k.us-east-1.rds.amazonaws.com'\n",
    "port = '3306'\n",
    "user = 'slucor2019'\n",
    "password = 'SLUcor2019'\n",
    "database = 'slucor2019'\n",
    "\n",
    "DB_CONN = create_engine('mysql://' + \n",
    "                     user + ':' + \n",
    "                     password + '@' + \n",
    "                     host + ':' + \n",
    "                     str(port) + '/' + \n",
    "                     database)\n"
   ]
  },
  {
   "cell_type": "markdown",
   "metadata": {
    "deletable": false,
    "editable": false,
    "nbgrader": {
     "checksum": "b23ecf11bceeaa884119f1809d9b7be6",
     "grade": false,
     "grade_id": "01-intro",
     "locked": true,
     "schema_version": 1,
     "solution": false
    }
   },
   "source": [
    "## PART 1 - Average Daily Cost by Month\n",
    "\n",
    "Each claim in **rx_claims** contains an **ingredient cost** and a **days supply**.  The **days supply** tells us how many days worth of medication this one prescription contains.  For this part, we are going to calculate the ingredient cost per day, meaning how much a single days supply costs.\n",
    "\n",
    "Calculate the drug **ingredient cost** per **days supply** for each claim and then aggregate that by month and compute the average over a month.  Your result should be a data frame that has two columns: `month` and `avg_daily_cost`.\n",
    "\n",
    "Provide your `avg_daily_cost` to the nearest 3 decimal places using code something like this:\n",
    "```python\n",
    "answer['avg_daily_cost'] = round(answer['avg_daily_cost'],3)\n",
    "```"
   ]
  },
  {
   "cell_type": "code",
   "execution_count": 173,
   "metadata": {
    "deletable": false,
    "nbgrader": {
     "checksum": "6eac4af3a42aac6c667cdfd930de42d2",
     "grade": false,
     "grade_id": "01-solution",
     "locked": false,
     "schema_version": 1,
     "solution": true
    }
   },
   "outputs": [],
   "source": [
    "# YOUR CODE HERE\n",
    "rx_claims = pd.read_sql_query(\"SELECT * FROM rx_claims\", DB_CONN)\n",
    "drug_usage = pd.read_sql_query(\"SELECT * FROM drug_usage\", DB_CONN)\n",
    "npidata = pd.read_sql_query(\"SELECT * FROM npidata\", DB_CONN)"
   ]
  },
  {
   "cell_type": "code",
   "execution_count": 174,
   "metadata": {},
   "outputs": [],
   "source": [
    "rx_claims['avg_daily_cost'] = rx_claims['ingredient_cost']/rx_claims['days_supply']"
   ]
  },
  {
   "cell_type": "code",
   "execution_count": 175,
   "metadata": {},
   "outputs": [],
   "source": [
    "rx_claims['month'] = rx_claims['clndr_date'].str[0:7]"
   ]
  },
  {
   "cell_type": "code",
   "execution_count": 176,
   "metadata": {},
   "outputs": [],
   "source": [
    "answer = round(rx_claims.groupby('month',as_index=False).aggregate({'avg_daily_cost':'mean'}),3)"
   ]
  },
  {
   "cell_type": "code",
   "execution_count": 177,
   "metadata": {},
   "outputs": [
    {
     "data": {
      "text/html": [
       "<div>\n",
       "<style scoped>\n",
       "    .dataframe tbody tr th:only-of-type {\n",
       "        vertical-align: middle;\n",
       "    }\n",
       "\n",
       "    .dataframe tbody tr th {\n",
       "        vertical-align: top;\n",
       "    }\n",
       "\n",
       "    .dataframe thead th {\n",
       "        text-align: right;\n",
       "    }\n",
       "</style>\n",
       "<table border=\"1\" class=\"dataframe\">\n",
       "  <thead>\n",
       "    <tr style=\"text-align: right;\">\n",
       "      <th></th>\n",
       "      <th>month</th>\n",
       "      <th>avg_daily_cost</th>\n",
       "    </tr>\n",
       "  </thead>\n",
       "  <tbody>\n",
       "    <tr>\n",
       "      <th>0</th>\n",
       "      <td>2018-01</td>\n",
       "      <td>1.977</td>\n",
       "    </tr>\n",
       "    <tr>\n",
       "      <th>1</th>\n",
       "      <td>2018-02</td>\n",
       "      <td>1.733</td>\n",
       "    </tr>\n",
       "  </tbody>\n",
       "</table>\n",
       "</div>"
      ],
      "text/plain": [
       "     month  avg_daily_cost\n",
       "0  2018-01           1.977\n",
       "1  2018-02           1.733"
      ]
     },
     "execution_count": 177,
     "metadata": {},
     "output_type": "execute_result"
    }
   ],
   "source": [
    "answer"
   ]
  },
  {
   "cell_type": "code",
   "execution_count": 178,
   "metadata": {},
   "outputs": [
    {
     "data": {
      "text/html": [
       "<div>\n",
       "<style scoped>\n",
       "    .dataframe tbody tr th:only-of-type {\n",
       "        vertical-align: middle;\n",
       "    }\n",
       "\n",
       "    .dataframe tbody tr th {\n",
       "        vertical-align: top;\n",
       "    }\n",
       "\n",
       "    .dataframe thead th {\n",
       "        text-align: right;\n",
       "    }\n",
       "</style>\n",
       "<table border=\"1\" class=\"dataframe\">\n",
       "  <thead>\n",
       "    <tr style=\"text-align: right;\">\n",
       "      <th></th>\n",
       "      <th>rx_claim_number</th>\n",
       "      <th>npd_prescr_npi</th>\n",
       "      <th>ndc</th>\n",
       "      <th>prescription_count</th>\n",
       "      <th>clndr_date</th>\n",
       "      <th>new_or_refill_code</th>\n",
       "      <th>ingredient_cost</th>\n",
       "      <th>days_supply</th>\n",
       "      <th>avg_daily_cost</th>\n",
       "      <th>month</th>\n",
       "    </tr>\n",
       "  </thead>\n",
       "  <tbody>\n",
       "    <tr>\n",
       "      <th>0</th>\n",
       "      <td>180583562701165999</td>\n",
       "      <td>1205839354</td>\n",
       "      <td>69097084805</td>\n",
       "      <td>1.0</td>\n",
       "      <td>2018-02-27 00:00:00.000000</td>\n",
       "      <td>N</td>\n",
       "      <td>9.10</td>\n",
       "      <td>30.0</td>\n",
       "      <td>0.303333</td>\n",
       "      <td>2018-02</td>\n",
       "    </tr>\n",
       "    <tr>\n",
       "      <th>1</th>\n",
       "      <td>180465734611159998</td>\n",
       "      <td>1023011079</td>\n",
       "      <td>68382013616</td>\n",
       "      <td>1.0</td>\n",
       "      <td>2018-02-15 00:00:00.000000</td>\n",
       "      <td>N</td>\n",
       "      <td>10.13</td>\n",
       "      <td>30.0</td>\n",
       "      <td>0.337667</td>\n",
       "      <td>2018-02</td>\n",
       "    </tr>\n",
       "    <tr>\n",
       "      <th>2</th>\n",
       "      <td>180360835202183999</td>\n",
       "      <td>1932102969</td>\n",
       "      <td>16729018317</td>\n",
       "      <td>1.0</td>\n",
       "      <td>2018-02-05 00:00:00.000000</td>\n",
       "      <td>N</td>\n",
       "      <td>1.79</td>\n",
       "      <td>30.0</td>\n",
       "      <td>0.059667</td>\n",
       "      <td>2018-02</td>\n",
       "    </tr>\n",
       "    <tr>\n",
       "      <th>3</th>\n",
       "      <td>180464433509107999</td>\n",
       "      <td>1932102969</td>\n",
       "      <td>00093001298</td>\n",
       "      <td>1.0</td>\n",
       "      <td>2018-02-15 00:00:00.000000</td>\n",
       "      <td>R</td>\n",
       "      <td>5.74</td>\n",
       "      <td>30.0</td>\n",
       "      <td>0.191333</td>\n",
       "      <td>2018-02</td>\n",
       "    </tr>\n",
       "    <tr>\n",
       "      <th>4</th>\n",
       "      <td>180375050284140999</td>\n",
       "      <td>1932102969</td>\n",
       "      <td>37205024897</td>\n",
       "      <td>1.0</td>\n",
       "      <td>2018-02-06 00:00:00.000000</td>\n",
       "      <td>R</td>\n",
       "      <td>0.59</td>\n",
       "      <td>30.0</td>\n",
       "      <td>0.019667</td>\n",
       "      <td>2018-02</td>\n",
       "    </tr>\n",
       "  </tbody>\n",
       "</table>\n",
       "</div>"
      ],
      "text/plain": [
       "      rx_claim_number npd_prescr_npi          ndc  prescription_count  \\\n",
       "0  180583562701165999     1205839354  69097084805                 1.0   \n",
       "1  180465734611159998     1023011079  68382013616                 1.0   \n",
       "2  180360835202183999     1932102969  16729018317                 1.0   \n",
       "3  180464433509107999     1932102969  00093001298                 1.0   \n",
       "4  180375050284140999     1932102969  37205024897                 1.0   \n",
       "\n",
       "                   clndr_date new_or_refill_code  ingredient_cost  \\\n",
       "0  2018-02-27 00:00:00.000000                  N             9.10   \n",
       "1  2018-02-15 00:00:00.000000                  N            10.13   \n",
       "2  2018-02-05 00:00:00.000000                  N             1.79   \n",
       "3  2018-02-15 00:00:00.000000                  R             5.74   \n",
       "4  2018-02-06 00:00:00.000000                  R             0.59   \n",
       "\n",
       "   days_supply  avg_daily_cost    month  \n",
       "0         30.0        0.303333  2018-02  \n",
       "1         30.0        0.337667  2018-02  \n",
       "2         30.0        0.059667  2018-02  \n",
       "3         30.0        0.191333  2018-02  \n",
       "4         30.0        0.019667  2018-02  "
      ]
     },
     "execution_count": 178,
     "metadata": {},
     "output_type": "execute_result"
    }
   ],
   "source": [
    "rx_claims.head()"
   ]
  },
  {
   "cell_type": "code",
   "execution_count": 179,
   "metadata": {
    "deletable": false,
    "editable": false,
    "nbgrader": {
     "checksum": "eb20f75977ffbb96f445d410a917881c",
     "grade": true,
     "grade_id": "01-tests",
     "locked": true,
     "points": 20,
     "schema_version": 1,
     "solution": false
    }
   },
   "outputs": [],
   "source": [
    "assert(answer.shape == (2,2))\n",
    "assert(answer[answer['month'] == '2018-01']['avg_daily_cost'].item() == 1.977)\n"
   ]
  },
  {
   "cell_type": "markdown",
   "metadata": {
    "deletable": false,
    "editable": false,
    "nbgrader": {
     "checksum": "7da7af4a7c628a3b8ce18c17ae5d4f01",
     "grade": false,
     "grade_id": "02-intro",
     "locked": true,
     "schema_version": 1,
     "solution": false
    }
   },
   "source": [
    "## PART 2 - Average Daily Cost by Drug Usage Category\n",
    "\n",
    "Using the same definition of cost as in part 1, now we're going to calculate the average daily cost within drug usage category.  There is a table in the relational database called **drug_usage** that contains an **ndc** (National Drug Code) and **category**.\n",
    "\n",
    "For this part, create a data frame that contains two columns: **drug_usage** and **avg_daily_cost**.  Again, round the average daily cost to 3 decimal places."
   ]
  },
  {
   "cell_type": "code",
   "execution_count": 180,
   "metadata": {
    "deletable": false,
    "nbgrader": {
     "checksum": "b5c4af0f3a2edc025e33d182f04124bb",
     "grade": false,
     "grade_id": "02-solution",
     "locked": false,
     "schema_version": 1,
     "solution": true
    }
   },
   "outputs": [],
   "source": [
    "# YOUR CODE HERE\n",
    "answer = round(\n",
    "    drug_usage.merge(\n",
    "        rx_claims,how='left',left_on='ndc',right_on='ndc').groupby(\n",
    "        'category',as_index=False).aggregate({\n",
    "        'avg_daily_cost':'mean'}),3)"
   ]
  },
  {
   "cell_type": "code",
   "execution_count": 181,
   "metadata": {
    "deletable": false,
    "editable": false,
    "nbgrader": {
     "checksum": "1d7d3fd9999a86116fbd1b4d9b32010c",
     "grade": true,
     "grade_id": "02-tests",
     "locked": true,
     "points": 20,
     "schema_version": 1,
     "solution": false
    }
   },
   "outputs": [],
   "source": [
    "assert(answer.shape == (7,2))\n",
    "assert(answer[answer['category'] == 'blood pressure']['avg_daily_cost'].item() == 0.106)\n",
    "assert(answer[answer['category'] == 'cancer']['avg_daily_cost'].item() == 3.873)\n",
    "\n"
   ]
  },
  {
   "cell_type": "code",
   "execution_count": 182,
   "metadata": {},
   "outputs": [
    {
     "data": {
      "text/html": [
       "<div>\n",
       "<style scoped>\n",
       "    .dataframe tbody tr th:only-of-type {\n",
       "        vertical-align: middle;\n",
       "    }\n",
       "\n",
       "    .dataframe tbody tr th {\n",
       "        vertical-align: top;\n",
       "    }\n",
       "\n",
       "    .dataframe thead th {\n",
       "        text-align: right;\n",
       "    }\n",
       "</style>\n",
       "<table border=\"1\" class=\"dataframe\">\n",
       "  <thead>\n",
       "    <tr style=\"text-align: right;\">\n",
       "      <th></th>\n",
       "      <th>rx_claim_number</th>\n",
       "      <th>npd_prescr_npi</th>\n",
       "      <th>ndc</th>\n",
       "      <th>prescription_count</th>\n",
       "      <th>clndr_date</th>\n",
       "      <th>new_or_refill_code</th>\n",
       "      <th>ingredient_cost</th>\n",
       "      <th>days_supply</th>\n",
       "      <th>avg_daily_cost</th>\n",
       "      <th>month</th>\n",
       "    </tr>\n",
       "  </thead>\n",
       "  <tbody>\n",
       "    <tr>\n",
       "      <th>0</th>\n",
       "      <td>180583562701165999</td>\n",
       "      <td>1205839354</td>\n",
       "      <td>69097084805</td>\n",
       "      <td>1.0</td>\n",
       "      <td>2018-02-27 00:00:00.000000</td>\n",
       "      <td>N</td>\n",
       "      <td>9.10</td>\n",
       "      <td>30.0</td>\n",
       "      <td>0.303333</td>\n",
       "      <td>2018-02</td>\n",
       "    </tr>\n",
       "    <tr>\n",
       "      <th>1</th>\n",
       "      <td>180465734611159998</td>\n",
       "      <td>1023011079</td>\n",
       "      <td>68382013616</td>\n",
       "      <td>1.0</td>\n",
       "      <td>2018-02-15 00:00:00.000000</td>\n",
       "      <td>N</td>\n",
       "      <td>10.13</td>\n",
       "      <td>30.0</td>\n",
       "      <td>0.337667</td>\n",
       "      <td>2018-02</td>\n",
       "    </tr>\n",
       "    <tr>\n",
       "      <th>2</th>\n",
       "      <td>180360835202183999</td>\n",
       "      <td>1932102969</td>\n",
       "      <td>16729018317</td>\n",
       "      <td>1.0</td>\n",
       "      <td>2018-02-05 00:00:00.000000</td>\n",
       "      <td>N</td>\n",
       "      <td>1.79</td>\n",
       "      <td>30.0</td>\n",
       "      <td>0.059667</td>\n",
       "      <td>2018-02</td>\n",
       "    </tr>\n",
       "    <tr>\n",
       "      <th>3</th>\n",
       "      <td>180464433509107999</td>\n",
       "      <td>1932102969</td>\n",
       "      <td>00093001298</td>\n",
       "      <td>1.0</td>\n",
       "      <td>2018-02-15 00:00:00.000000</td>\n",
       "      <td>R</td>\n",
       "      <td>5.74</td>\n",
       "      <td>30.0</td>\n",
       "      <td>0.191333</td>\n",
       "      <td>2018-02</td>\n",
       "    </tr>\n",
       "    <tr>\n",
       "      <th>4</th>\n",
       "      <td>180375050284140999</td>\n",
       "      <td>1932102969</td>\n",
       "      <td>37205024897</td>\n",
       "      <td>1.0</td>\n",
       "      <td>2018-02-06 00:00:00.000000</td>\n",
       "      <td>R</td>\n",
       "      <td>0.59</td>\n",
       "      <td>30.0</td>\n",
       "      <td>0.019667</td>\n",
       "      <td>2018-02</td>\n",
       "    </tr>\n",
       "  </tbody>\n",
       "</table>\n",
       "</div>"
      ],
      "text/plain": [
       "      rx_claim_number npd_prescr_npi          ndc  prescription_count  \\\n",
       "0  180583562701165999     1205839354  69097084805                 1.0   \n",
       "1  180465734611159998     1023011079  68382013616                 1.0   \n",
       "2  180360835202183999     1932102969  16729018317                 1.0   \n",
       "3  180464433509107999     1932102969  00093001298                 1.0   \n",
       "4  180375050284140999     1932102969  37205024897                 1.0   \n",
       "\n",
       "                   clndr_date new_or_refill_code  ingredient_cost  \\\n",
       "0  2018-02-27 00:00:00.000000                  N             9.10   \n",
       "1  2018-02-15 00:00:00.000000                  N            10.13   \n",
       "2  2018-02-05 00:00:00.000000                  N             1.79   \n",
       "3  2018-02-15 00:00:00.000000                  R             5.74   \n",
       "4  2018-02-06 00:00:00.000000                  R             0.59   \n",
       "\n",
       "   days_supply  avg_daily_cost    month  \n",
       "0         30.0        0.303333  2018-02  \n",
       "1         30.0        0.337667  2018-02  \n",
       "2         30.0        0.059667  2018-02  \n",
       "3         30.0        0.191333  2018-02  \n",
       "4         30.0        0.019667  2018-02  "
      ]
     },
     "execution_count": 182,
     "metadata": {},
     "output_type": "execute_result"
    }
   ],
   "source": [
    "rx_claims.head()"
   ]
  },
  {
   "cell_type": "markdown",
   "metadata": {
    "deletable": false,
    "editable": false,
    "nbgrader": {
     "checksum": "e09c57fa24b20105ab066f0b27a16c26",
     "grade": false,
     "grade_id": "03-intro",
     "locked": true,
     "schema_version": 1,
     "solution": false
    }
   },
   "source": [
    "## PART 3 - Average Daily Cost per State\n",
    "\n",
    "In the database, there is a table called **npidata** that has information about the providers who prescribed these medications.  For this problem, let's take a look at the state those provider practice in and what the average daily cost is per state.\n",
    "\n",
    "Your result should be a dataframe with two columns: **state_name** and **avg_daily_cost**.  As before, round those average daily costs to 3 decimal places."
   ]
  },
  {
   "cell_type": "code",
   "execution_count": 183,
   "metadata": {
    "deletable": false,
    "nbgrader": {
     "checksum": "86ec5eaad2c51fc59a628a9ffe93792d",
     "grade": false,
     "grade_id": "03-solution",
     "locked": false,
     "schema_version": 1,
     "solution": true
    }
   },
   "outputs": [],
   "source": [
    "# YOUR CODE HERE\n",
    "answer = round(\n",
    "    npidata.merge(\n",
    "        rx_claims,how='left',left_on='npi',right_on='npd_prescr_npi').groupby(\n",
    "        'state_name',as_index=False).aggregate({\n",
    "        'avg_daily_cost':'mean'}),3)"
   ]
  },
  {
   "cell_type": "code",
   "execution_count": 184,
   "metadata": {
    "deletable": false,
    "editable": false,
    "nbgrader": {
     "checksum": "51fef0032f4acaddb4a72cbd90076047",
     "grade": true,
     "grade_id": "03-tests",
     "locked": true,
     "points": 20,
     "schema_version": 1,
     "solution": false
    }
   },
   "outputs": [],
   "source": [
    "assert(answer.shape == (3,2))\n",
    "assert(answer[answer['state_name'] == 'IL']['avg_daily_cost'].item() == 2.185)\n"
   ]
  },
  {
   "cell_type": "markdown",
   "metadata": {
    "deletable": false,
    "editable": false,
    "nbgrader": {
     "checksum": "b1ca2bd6f952cc1aa84048700387f5f2",
     "grade": false,
     "grade_id": "04-intro",
     "locked": true,
     "schema_version": 1,
     "solution": false
    }
   },
   "source": [
    "## PART 4 - Calculting TOTAL Cost\n",
    "\n",
    "<img src='final_rules.png' style=\"float:right; width:200px\"/>\n",
    "\n",
    "The cost in the **rx_claims** table is the **ingredient_cost**.  That means it only includes the cost to purchase the medication itself.  This cost does not include any additional information like administration fees, taxes, discounts, or rebates.  The rules for how these additional factors have to be included is stored in an AWS DocumentDB collection (sample shown to the right), and we're going to write a custom function that will calculate the total cost of a prescription based on the logic below and the specific business rules available in that DocumentDB collection.\n",
    "\n",
    "Create a function called **total_cost(ingredient_cost, new_or_refill_code, cagetory)**.\n",
    "\n",
    "This function will access the DocumentDB collection and retreive the rule set based on the **new_or_refill_code**.  You may want to refer back to module 50 examples for how to query the DocumentDB database.\n",
    "\n",
    "The cost rules in the DocumentDB entries have two parts.  First, there is a **category_discount** based on the drug category in the drug_usage table. A **discounted_ingredient_cost** can be computed by multiplying the **ingredient_cost** by the discounting factor for that drug usage category.  Then, there is an **admin_fee** that simply has to be added to the newly **discounted_ingredient_cost** to get the **total_cost**.\n",
    "\n",
    "Write your function to read from the DocumentDB database and calculate the total cost based on the three input parameters provided to the function as shown.  Have your function round the answer that is returned to 3 decimal places.\n",
    "\n",
    "The autograder will test your function by calling it with a number of different parameters.\n",
    "\n",
    "\n",
    "**HINT** Since we didn't do very much with DocumentDB, I'll give you some code that you can use to fetch a document from the database.  You'll have to adapt this to do exactly what you want inside your function, but it should give you a good example.\n",
    "\n",
    "```python\n",
    "rule = list(RX_RULES.find({'_id': 'N' }))[0]\n",
    "```\n",
    "\n",
    "1. This code calls `find()` on the `RX_RULES` connection to DocumentDB that was created for you in the setup code at the beginning of the final.  The `find()` function will return all the documents that match the provided filter criteria.\n",
    "2. In this example, it filters on only those documents that have an `_id == 'N'`.  That is, it retrieves the document for **New** (`'N'`) prescriptions only.  You could use `'R'` for refills.  You can even just use a variable name in the place of `'N'` or `'R'`.\n",
    "3. The code above converts the results from DocuemntDB into a list\n",
    "4. Then the code retrieves the first element from that list of results.  In this case, you can assume that pulling the first result is what you want because there is only one document with an `_id == 'N'` and only one with an `_id == 'R'`.\n",
    "\n",
    "What you'll find in the `rule` variable from the code above will be a Python dictionary with all of the factors you need to calculate total price for a **New** prescription.\n",
    "\n"
   ]
  },
  {
   "cell_type": "code",
   "execution_count": 197,
   "metadata": {
    "deletable": false,
    "nbgrader": {
     "checksum": "9ca0ceecaf97ed2cd73e87f9a5bedfda",
     "grade": false,
     "grade_id": "04-solution",
     "locked": false,
     "schema_version": 1,
     "solution": true
    }
   },
   "outputs": [],
   "source": [
    "def total_cost(ingredient_cost, new_or_refill_code, category):\n",
    "# YOUR CODE HERE\n",
    "    rules = list(RX_RULES.find({'_id': new_or_refill_code}))[0]\n",
    "    admin = rules.get('admin_fee')\n",
    "    cat_discount = rules.get('category_discount')\n",
    "    discount = cat_discount.get(category)\n",
    "    \n",
    "    cost = round((ingredient_cost*discount)+admin,3)\n",
    "    \n",
    "    return(cost)\n",
    "    "
   ]
  },
  {
   "cell_type": "code",
   "execution_count": 198,
   "metadata": {},
   "outputs": [
    {
     "data": {
      "text/plain": [
       "{'_id': 'N',\n",
       " 'claim_type': 'New',\n",
       " 'admin_fee': 0.32,\n",
       " 'category_discount': {'pain': 0.99,\n",
       "  'blood pressure': 0.95,\n",
       "  'cholesterol': 0.95,\n",
       "  'inflammation': 0.9,\n",
       "  'infection': 0.75,\n",
       "  'cancer': 0.5,\n",
       "  'mental health': 0.9}}"
      ]
     },
     "execution_count": 198,
     "metadata": {},
     "output_type": "execute_result"
    }
   ],
   "source": [
    "list(RX_RULES.find({'_id': 'N' }))[0]"
   ]
  },
  {
   "cell_type": "code",
   "execution_count": 199,
   "metadata": {},
   "outputs": [
    {
     "data": {
      "text/plain": [
       "0.8200000000000001"
      ]
     },
     "execution_count": 199,
     "metadata": {},
     "output_type": "execute_result"
    }
   ],
   "source": [
    "total_cost(1,'N','cancer')"
   ]
  },
  {
   "cell_type": "code",
   "execution_count": 188,
   "metadata": {
    "deletable": false,
    "editable": false,
    "nbgrader": {
     "checksum": "10182a4c2252a80972eed97d3ff338e0",
     "grade": true,
     "grade_id": "04-tests",
     "locked": true,
     "points": 20,
     "schema_version": 1,
     "solution": false
    }
   },
   "outputs": [],
   "source": [
    "assert(total_cost(1, 'N', 'cancer') == 0.82)\n",
    "assert(total_cost(1, 'R', 'cancer') == 0.38)\n"
   ]
  },
  {
   "cell_type": "markdown",
   "metadata": {
    "deletable": false,
    "editable": false,
    "nbgrader": {
     "checksum": "832cb2b3654e54cc7b3f204b89472d7e",
     "grade": false,
     "grade_id": "05-intro",
     "locked": true,
     "schema_version": 1,
     "solution": false
    }
   },
   "source": [
    "## PART 5 - Calculating total cost for every claim\n",
    "\n",
    "Now that we have a function that can be used to calculate a real total cost for each claim, we need to apply that to the claims.  For this part, we'll create a new data frame that has the claims, the usage category, and a calculated total cost using our `total_cost()` function.\n",
    "\n",
    "To do this, we can use the dataframe `apply` function: https://pandas.pydata.org/pandas-docs/stable/reference/api/pandas.DataFrame.apply.html\n",
    "\n",
    "Your answer should be a dataframe from the **rx_claims** table, the additional **category** column from **drug_usage**, a **daily_cost** as previously described in early questions, a **total_cost** column, and a **daily_total_cost** column.  The **total_cost** column should have the new cost, rounded to two (2) decimal places.  The **daily_cost** and **daily_total_cost** should be the costs divided by days supply, and also be rounded to two (2) decimal places."
   ]
  },
  {
   "cell_type": "code",
   "execution_count": 200,
   "metadata": {
    "deletable": false,
    "nbgrader": {
     "checksum": "0c8af86e5af25010decffa0550689e29",
     "grade": false,
     "grade_id": "05-solution",
     "locked": false,
     "schema_version": 1,
     "solution": true
    }
   },
   "outputs": [],
   "source": [
    "# YOUR CODE HERE\n",
    "dat = drug_usage.merge(rx_claims,how='left',left_on='ndc',right_on='ndc')\n",
    "dat['total_cost'] = round(dat.apply(lambda x: total_cost(x['ingredient_cost'],x['new_or_refill_code'],x['category']),axis=1),2)\n",
    "dat['daily_total_cost'] = dat['total_cost']/dat['days_supply']\n",
    "answer = dat"
   ]
  },
  {
   "cell_type": "code",
   "execution_count": 201,
   "metadata": {
    "scrolled": false
   },
   "outputs": [
    {
     "data": {
      "text/plain": [
       "789.3393819690114"
      ]
     },
     "execution_count": 201,
     "metadata": {},
     "output_type": "execute_result"
    }
   ],
   "source": [
    "answer['daily_total_cost'].sum()"
   ]
  },
  {
   "cell_type": "code",
   "execution_count": 202,
   "metadata": {},
   "outputs": [
    {
     "data": {
      "text/plain": [
       "17805.43"
      ]
     },
     "execution_count": 202,
     "metadata": {},
     "output_type": "execute_result"
    }
   ],
   "source": [
    "answer['total_cost'].sum()"
   ]
  },
  {
   "cell_type": "code",
   "execution_count": 192,
   "metadata": {},
   "outputs": [
    {
     "data": {
      "text/html": [
       "<div>\n",
       "<style scoped>\n",
       "    .dataframe tbody tr th:only-of-type {\n",
       "        vertical-align: middle;\n",
       "    }\n",
       "\n",
       "    .dataframe tbody tr th {\n",
       "        vertical-align: top;\n",
       "    }\n",
       "\n",
       "    .dataframe thead th {\n",
       "        text-align: right;\n",
       "    }\n",
       "</style>\n",
       "<table border=\"1\" class=\"dataframe\">\n",
       "  <thead>\n",
       "    <tr style=\"text-align: right;\">\n",
       "      <th></th>\n",
       "      <th>ndc</th>\n",
       "      <th>category</th>\n",
       "      <th>rx_claim_number</th>\n",
       "      <th>npd_prescr_npi</th>\n",
       "      <th>prescription_count</th>\n",
       "      <th>clndr_date</th>\n",
       "      <th>new_or_refill_code</th>\n",
       "      <th>ingredient_cost</th>\n",
       "      <th>days_supply</th>\n",
       "      <th>avg_daily_cost</th>\n",
       "      <th>month</th>\n",
       "      <th>total_cost</th>\n",
       "      <th>daily_total_cost</th>\n",
       "    </tr>\n",
       "  </thead>\n",
       "  <tbody>\n",
       "    <tr>\n",
       "      <th>0</th>\n",
       "      <td>00002446330</td>\n",
       "      <td>cancer</td>\n",
       "      <td>180173632502190999</td>\n",
       "      <td>1528061520</td>\n",
       "      <td>1.0</td>\n",
       "      <td>2018-01-17 00:00:00.000000</td>\n",
       "      <td>N</td>\n",
       "      <td>534.83</td>\n",
       "      <td>30.0</td>\n",
       "      <td>17.827667</td>\n",
       "      <td>2018-01</td>\n",
       "      <td>267.74</td>\n",
       "      <td>8.924667</td>\n",
       "    </tr>\n",
       "    <tr>\n",
       "      <th>1</th>\n",
       "      <td>00002751001</td>\n",
       "      <td>cancer</td>\n",
       "      <td>180456614870111999</td>\n",
       "      <td>1326041229</td>\n",
       "      <td>1.0</td>\n",
       "      <td>2018-02-14 00:00:00.000000</td>\n",
       "      <td>N</td>\n",
       "      <td>544.89</td>\n",
       "      <td>16.0</td>\n",
       "      <td>34.055625</td>\n",
       "      <td>2018-02</td>\n",
       "      <td>272.76</td>\n",
       "      <td>17.047500</td>\n",
       "    </tr>\n",
       "    <tr>\n",
       "      <th>2</th>\n",
       "      <td>00002771559</td>\n",
       "      <td>cancer</td>\n",
       "      <td>180385532135120999</td>\n",
       "      <td>1366445314</td>\n",
       "      <td>1.0</td>\n",
       "      <td>2018-02-07 00:00:00.000000</td>\n",
       "      <td>N</td>\n",
       "      <td>323.68</td>\n",
       "      <td>30.0</td>\n",
       "      <td>10.789333</td>\n",
       "      <td>2018-02</td>\n",
       "      <td>162.16</td>\n",
       "      <td>5.405333</td>\n",
       "    </tr>\n",
       "    <tr>\n",
       "      <th>3</th>\n",
       "      <td>00002771559</td>\n",
       "      <td>cancer</td>\n",
       "      <td>180294258404168998</td>\n",
       "      <td>1801899893</td>\n",
       "      <td>1.0</td>\n",
       "      <td>2018-01-29 00:00:00.000000</td>\n",
       "      <td>R</td>\n",
       "      <td>323.68</td>\n",
       "      <td>30.0</td>\n",
       "      <td>10.789333</td>\n",
       "      <td>2018-01</td>\n",
       "      <td>97.18</td>\n",
       "      <td>3.239333</td>\n",
       "    </tr>\n",
       "    <tr>\n",
       "      <th>4</th>\n",
       "      <td>00002771559</td>\n",
       "      <td>cancer</td>\n",
       "      <td>180024236117096999</td>\n",
       "      <td>1245233493</td>\n",
       "      <td>1.0</td>\n",
       "      <td>2018-01-02 00:00:00.000000</td>\n",
       "      <td>R</td>\n",
       "      <td>323.68</td>\n",
       "      <td>30.0</td>\n",
       "      <td>10.789333</td>\n",
       "      <td>2018-01</td>\n",
       "      <td>97.18</td>\n",
       "      <td>3.239333</td>\n",
       "    </tr>\n",
       "  </tbody>\n",
       "</table>\n",
       "</div>"
      ],
      "text/plain": [
       "           ndc category     rx_claim_number npd_prescr_npi  \\\n",
       "0  00002446330   cancer  180173632502190999     1528061520   \n",
       "1  00002751001   cancer  180456614870111999     1326041229   \n",
       "2  00002771559   cancer  180385532135120999     1366445314   \n",
       "3  00002771559   cancer  180294258404168998     1801899893   \n",
       "4  00002771559   cancer  180024236117096999     1245233493   \n",
       "\n",
       "   prescription_count                  clndr_date new_or_refill_code  \\\n",
       "0                 1.0  2018-01-17 00:00:00.000000                  N   \n",
       "1                 1.0  2018-02-14 00:00:00.000000                  N   \n",
       "2                 1.0  2018-02-07 00:00:00.000000                  N   \n",
       "3                 1.0  2018-01-29 00:00:00.000000                  R   \n",
       "4                 1.0  2018-01-02 00:00:00.000000                  R   \n",
       "\n",
       "   ingredient_cost  days_supply  avg_daily_cost    month  total_cost  \\\n",
       "0           534.83         30.0       17.827667  2018-01      267.74   \n",
       "1           544.89         16.0       34.055625  2018-02      272.76   \n",
       "2           323.68         30.0       10.789333  2018-02      162.16   \n",
       "3           323.68         30.0       10.789333  2018-01       97.18   \n",
       "4           323.68         30.0       10.789333  2018-01       97.18   \n",
       "\n",
       "   daily_total_cost  \n",
       "0          8.924667  \n",
       "1         17.047500  \n",
       "2          5.405333  \n",
       "3          3.239333  \n",
       "4          3.239333  "
      ]
     },
     "execution_count": 192,
     "metadata": {},
     "output_type": "execute_result"
    }
   ],
   "source": [
    "answer.head()"
   ]
  },
  {
   "cell_type": "code",
   "execution_count": 131,
   "metadata": {
    "deletable": false,
    "editable": false,
    "nbgrader": {
     "checksum": "20335476a7411faf478d83566cb792b0",
     "grade": true,
     "grade_id": "05-tests",
     "locked": true,
     "points": 30,
     "schema_version": 1,
     "solution": false
    }
   },
   "outputs": [
    {
     "ename": "AssertionError",
     "evalue": "",
     "output_type": "error",
     "traceback": [
      "\u001b[0;31m---------------------------------------------------------------------------\u001b[0m",
      "\u001b[0;31mAssertionError\u001b[0m                            Traceback (most recent call last)",
      "\u001b[0;32m<ipython-input-131-b98685987431>\u001b[0m in \u001b[0;36m<module>\u001b[0;34m\u001b[0m\n\u001b[1;32m      1\u001b[0m \u001b[0;32massert\u001b[0m\u001b[0;34m(\u001b[0m\u001b[0manswer\u001b[0m\u001b[0;34m.\u001b[0m\u001b[0mshape\u001b[0m\u001b[0;34m[\u001b[0m\u001b[0;36m0\u001b[0m\u001b[0;34m]\u001b[0m \u001b[0;34m==\u001b[0m \u001b[0;36m1000\u001b[0m\u001b[0;34m)\u001b[0m\u001b[0;34m\u001b[0m\u001b[0;34m\u001b[0m\u001b[0m\n\u001b[0;32m----> 2\u001b[0;31m \u001b[0;32massert\u001b[0m\u001b[0;34m(\u001b[0m\u001b[0manswer\u001b[0m\u001b[0;34m[\u001b[0m\u001b[0;34m'total_cost'\u001b[0m\u001b[0;34m]\u001b[0m\u001b[0;34m.\u001b[0m\u001b[0msum\u001b[0m\u001b[0;34m(\u001b[0m\u001b[0;34m)\u001b[0m \u001b[0;34m==\u001b[0m \u001b[0;36m17805.29\u001b[0m\u001b[0;34m)\u001b[0m\u001b[0;34m\u001b[0m\u001b[0;34m\u001b[0m\u001b[0m\n\u001b[0m\u001b[1;32m      3\u001b[0m \u001b[0;32massert\u001b[0m\u001b[0;34m(\u001b[0m\u001b[0manswer\u001b[0m\u001b[0;34m[\u001b[0m\u001b[0;34m'daily_total_cost'\u001b[0m\u001b[0;34m]\u001b[0m\u001b[0;34m.\u001b[0m\u001b[0msum\u001b[0m\u001b[0;34m(\u001b[0m\u001b[0;34m)\u001b[0m \u001b[0;34m==\u001b[0m \u001b[0;36m789.27\u001b[0m\u001b[0;34m)\u001b[0m\u001b[0;34m\u001b[0m\u001b[0;34m\u001b[0m\u001b[0m\n\u001b[1;32m      4\u001b[0m \u001b[0;34m\u001b[0m\u001b[0m\n\u001b[1;32m      5\u001b[0m \u001b[0;34m\u001b[0m\u001b[0m\n",
      "\u001b[0;31mAssertionError\u001b[0m: "
     ]
    }
   ],
   "source": [
    "assert(answer.shape[0] == 1000)\n",
    "assert(answer['total_cost'].sum() == 17805.29)\n",
    "assert(answer['daily_total_cost'].sum() == 789.27)\n",
    "\n",
    "\n"
   ]
  },
  {
   "cell_type": "markdown",
   "metadata": {
    "deletable": false,
    "editable": false,
    "nbgrader": {
     "checksum": "61d0b554c87e6a1fc9590c9174bf0428",
     "grade": false,
     "grade_id": "06-intro",
     "locked": true,
     "schema_version": 1,
     "solution": false
    }
   },
   "source": [
    "## PART 6 - Patterns in the data\n",
    "\n",
    "The last part of the final is to see if we can visualize some of the patterns in the data.  If look back to the price calculation rules in the DocumentDB documents and think about the formula for calculating price, you might be able to tell that there will be some patterns in resulting data.  If we want to understand the nature of the business rule that is used to take **ingredient cost**, **category**, and **new / refill code** to produce a total cost, it's often useful to plot those two variables against each other.  \n",
    "\n",
    "For this part of the final, you need to create two separate charts and answer a question.\n",
    "1. For the first, create a scatterplot with **daily_cost** on the X axis and **daily_total_cost** on the Y axis.\n",
    "\n",
    "You'll notice that this chart has a distinctive pattern, with what looks like multiple trend lines.  We need to identify what *column* of the data (aka *feature*, *field*, *attribute*) will allow us to distinguish between those trend lines.  (Note that this is either **category** or **new_or_refill_code** since those are the only other factors that are used in transforming **daily_cost** into **daily_total_cost**.\n",
    "\n",
    "It would be helpful to be able to show this distinction visually.  You can do this a few different ways.  I would recommend looking at the **scatterplot** documentation for a way to either create separate plots or color the plots differently based on a particular column value.\n",
    "2. Create another scatterplot that shows that distinction.  Again with **daily_cost** on the X axis and **daily_total_cost** on the Y axis.\n",
    "\n",
    "\n",
    "Refer back to the `pandas-scatter` notebook from module-30 as well as the documentation from the **seaborn** module's **scatterplot** function."
   ]
  },
  {
   "cell_type": "code",
   "execution_count": 203,
   "metadata": {
    "deletable": false,
    "nbgrader": {
     "checksum": "89ee5afaa2e3ae0ebc8614d27f2ac85f",
     "grade": true,
     "grade_id": "06-solution1",
     "locked": false,
     "points": 10,
     "schema_version": 1,
     "solution": true
    }
   },
   "outputs": [
    {
     "data": {
      "text/plain": [
       "<matplotlib.axes._subplots.AxesSubplot at 0x7fc456c5dc88>"
      ]
     },
     "execution_count": 203,
     "metadata": {},
     "output_type": "execute_result"
    },
    {
     "data": {
      "image/png": "[encoded data removed]",
      "text/plain": [
       "<Figure size 432x288 with 1 Axes>"
      ]
     },
     "metadata": {
      "needs_background": "light"
     },
     "output_type": "display_data"
    }
   ],
   "source": [
    "%matplotlib inline\n",
    "import seaborn as sns\n",
    "\n",
    "# YOUR CODE HERE\n",
    "sns.scatterplot(data=dat,x='avg_daily_cost',y='daily_total_cost')"
   ]
  },
  {
   "cell_type": "code",
   "execution_count": 204,
   "metadata": {
    "deletable": false,
    "nbgrader": {
     "checksum": "b717d21383861ae28f33f240f824d04c",
     "grade": true,
     "grade_id": "06-solution2",
     "locked": false,
     "points": 10,
     "schema_version": 1,
     "solution": true
    }
   },
   "outputs": [
    {
     "data": {
      "text/plain": [
       "<matplotlib.axes._subplots.AxesSubplot at 0x7fc4701a1fd0>"
      ]
     },
     "execution_count": 204,
     "metadata": {},
     "output_type": "execute_result"
    },
    {
     "data": {
      "image/png": "[encoded data removed]",
      "text/plain": [
       "<Figure size 432x288 with 1 Axes>"
      ]
     },
     "metadata": {
      "needs_background": "light"
     },
     "output_type": "display_data"
    }
   ],
   "source": [
    "%matplotlib inline\n",
    "import seaborn as sns\n",
    "\n",
    "# YOUR CODE HERE\n",
    "sns.scatterplot(data=dat,x='avg_daily_cost',y='daily_total_cost',hue='new_or_refill_code')"
   ]
  },
  {
   "cell_type": "markdown",
   "metadata": {
    "deletable": false,
    "editable": false,
    "nbgrader": {
     "checksum": "7fba4249d9a55e76fc3d6931522bdaa5",
     "grade": false,
     "grade_id": "07-intro01",
     "locked": true,
     "schema_version": 1,
     "solution": false
    }
   },
   "source": [
    "## PART 7 - Visualizing groupings\n",
    "\n",
    "When you create a scatterplot with **daily_cost** on one axis and **daily_total_cost** the pattern it creates can be represented using a derivative.  (This is calculus, but I'm only explaining something here.  You don't have to do the calculus.)  In our case, you see a simple linear relationship between **daily_cost** and **daily_total_cost**.  Therefore, the ratio of **daily_total_cost** / **daily_cost** can be used to understand how other factors impact the relationship between **daily_cost** and **daily_total_cost**.\n",
    "\n",
    "For this last section of the final, start by computing the ratio of **daily_total_cost** / **daily_cost**. Make this a new column in your answer dataframe called **ratio**.\n",
    "\n",
    "Then run the category plot code provided in the cell after that.\n",
    "\n",
    "Then answer some questions at the very end."
   ]
  },
  {
   "cell_type": "code",
   "execution_count": 209,
   "metadata": {
    "deletable": false,
    "nbgrader": {
     "checksum": "c8e02f7d69b37dbedad4ccdd8eba974b",
     "grade": false,
     "grade_id": "07-solution1",
     "locked": false,
     "schema_version": 1,
     "solution": true
    }
   },
   "outputs": [],
   "source": [
    "# YOUR CODE HERE\n",
    "dat['ratio'] = dat['daily_total_cost']/dat['avg_daily_cost']\n",
    "answer = dat"
   ]
  },
  {
   "cell_type": "code",
   "execution_count": 210,
   "metadata": {},
   "outputs": [
    {
     "data": {
      "text/plain": [
       "755.4450930271038"
      ]
     },
     "execution_count": 210,
     "metadata": {},
     "output_type": "execute_result"
    }
   ],
   "source": [
    "answer['ratio'].sum()"
   ]
  },
  {
   "cell_type": "code",
   "execution_count": 211,
   "metadata": {},
   "outputs": [
    {
     "data": {
      "text/plain": [
       "0.7554450930271038"
      ]
     },
     "execution_count": 211,
     "metadata": {},
     "output_type": "execute_result"
    }
   ],
   "source": [
    "answer['ratio'].mean()\n",
    "\n",
    "#It is very much unclear to me why this is so different from the estimated answer when all my other answers were\n",
    "#within decimal places of the previous estimated answers! I have tried to change several things but am unable\n",
    "#to get any closer than this. :( Sorry!"
   ]
  },
  {
   "cell_type": "code",
   "execution_count": 139,
   "metadata": {
    "deletable": false,
    "editable": false,
    "nbgrader": {
     "checksum": "448257ae1d2cf9a96f29f01d886b429c",
     "grade": true,
     "grade_id": "07-tests1",
     "locked": true,
     "points": 10,
     "schema_version": 1,
     "solution": false
    }
   },
   "outputs": [
    {
     "ename": "AssertionError",
     "evalue": "",
     "output_type": "error",
     "traceback": [
      "\u001b[0;31m---------------------------------------------------------------------------\u001b[0m",
      "\u001b[0;31mAssertionError\u001b[0m                            Traceback (most recent call last)",
      "\u001b[0;32m<ipython-input-139-8edbce78bdbf>\u001b[0m in \u001b[0;36m<module>\u001b[0;34m\u001b[0m\n\u001b[0;32m----> 1\u001b[0;31m \u001b[0;32massert\u001b[0m\u001b[0;34m(\u001b[0m\u001b[0mround\u001b[0m\u001b[0;34m(\u001b[0m\u001b[0manswer\u001b[0m\u001b[0;34m[\u001b[0m\u001b[0;34m'ratio'\u001b[0m\u001b[0;34m]\u001b[0m\u001b[0;34m.\u001b[0m\u001b[0msum\u001b[0m\u001b[0;34m(\u001b[0m\u001b[0;34m)\u001b[0m\u001b[0;34m,\u001b[0m\u001b[0;36m3\u001b[0m\u001b[0;34m)\u001b[0m \u001b[0;34m==\u001b[0m \u001b[0;36m763.067\u001b[0m\u001b[0;34m)\u001b[0m\u001b[0;34m\u001b[0m\u001b[0;34m\u001b[0m\u001b[0m\n\u001b[0m\u001b[1;32m      2\u001b[0m \u001b[0;32massert\u001b[0m\u001b[0;34m(\u001b[0m\u001b[0mround\u001b[0m\u001b[0;34m(\u001b[0m\u001b[0manswer\u001b[0m\u001b[0;34m[\u001b[0m\u001b[0;34m'ratio'\u001b[0m\u001b[0;34m]\u001b[0m\u001b[0;34m.\u001b[0m\u001b[0mmean\u001b[0m\u001b[0;34m(\u001b[0m\u001b[0;34m)\u001b[0m\u001b[0;34m,\u001b[0m\u001b[0;36m3\u001b[0m\u001b[0;34m)\u001b[0m \u001b[0;34m==\u001b[0m \u001b[0;36m0.763\u001b[0m\u001b[0;34m)\u001b[0m\u001b[0;34m\u001b[0m\u001b[0;34m\u001b[0m\u001b[0m\n",
      "\u001b[0;31mAssertionError\u001b[0m: "
     ]
    }
   ],
   "source": [
    "assert(round(answer['ratio'].sum(),3) == 763.067)\n",
    "assert(round(answer['ratio'].mean(),3) == 0.763)"
   ]
  },
  {
   "cell_type": "code",
   "execution_count": 140,
   "metadata": {
    "deletable": false,
    "editable": false,
    "nbgrader": {
     "checksum": "ac13e4904d4eac94076cfb8320289d4a",
     "grade": false,
     "grade_id": "07-plots",
     "locked": true,
     "schema_version": 1,
     "solution": false
    },
    "scrolled": true
   },
   "outputs": [
    {
     "data": {
      "text/plain": [
       "<seaborn.axisgrid.FacetGrid at 0x7fc48dee9588>"
      ]
     },
     "execution_count": 140,
     "metadata": {},
     "output_type": "execute_result"
    },
    {
     "data": {
      "image/png": "[encoded data removed]",
      "text/plain": [
       "<Figure size 792x360 with 1 Axes>"
      ]
     },
     "metadata": {
      "needs_background": "light"
     },
     "output_type": "display_data"
    },
    {
     "data": {
      "image/png": "[encoded data removed]",
      "text/plain": [
       "<Figure size 792x360 with 1 Axes>"
      ]
     },
     "metadata": {
      "needs_background": "light"
     },
     "output_type": "display_data"
    }
   ],
   "source": [
    "sns.catplot(data=answer, x='category', y='ratio', aspect=11/5, jitter=True)\n",
    "sns.catplot(data=answer, x='new_or_refill_code', y='ratio', aspect=11/5, jitter=True)"
   ]
  },
  {
   "cell_type": "code",
   "execution_count": 150,
   "metadata": {},
   "outputs": [],
   "source": [
    "sub = dat[['category','avg_daily_cost','daily_total_cost','ratio']][dat[['category','avg_daily_cost','daily_total_cost','ratio']]['ratio']>=1]"
   ]
  },
  {
   "cell_type": "code",
   "execution_count": 162,
   "metadata": {},
   "outputs": [
    {
     "data": {
      "text/html": [
       "<div>\n",
       "<style scoped>\n",
       "    .dataframe tbody tr th:only-of-type {\n",
       "        vertical-align: middle;\n",
       "    }\n",
       "\n",
       "    .dataframe tbody tr th {\n",
       "        vertical-align: top;\n",
       "    }\n",
       "\n",
       "    .dataframe thead th {\n",
       "        text-align: right;\n",
       "    }\n",
       "</style>\n",
       "<table border=\"1\" class=\"dataframe\">\n",
       "  <thead>\n",
       "    <tr style=\"text-align: right;\">\n",
       "      <th></th>\n",
       "      <th>avg_daily_cost</th>\n",
       "      <th>daily_total_cost</th>\n",
       "      <th>ratio</th>\n",
       "    </tr>\n",
       "    <tr>\n",
       "      <th>category</th>\n",
       "      <th></th>\n",
       "      <th></th>\n",
       "      <th></th>\n",
       "    </tr>\n",
       "  </thead>\n",
       "  <tbody>\n",
       "    <tr>\n",
       "      <th>blood pressure</th>\n",
       "      <td>0.077964</td>\n",
       "      <td>0.086104</td>\n",
       "      <td>1.104277</td>\n",
       "    </tr>\n",
       "    <tr>\n",
       "      <th>cholesterol</th>\n",
       "      <td>0.139796</td>\n",
       "      <td>0.151565</td>\n",
       "      <td>1.100505</td>\n",
       "    </tr>\n",
       "    <tr>\n",
       "      <th>inflammation</th>\n",
       "      <td>0.184000</td>\n",
       "      <td>0.201478</td>\n",
       "      <td>1.097019</td>\n",
       "    </tr>\n",
       "    <tr>\n",
       "      <th>mental health</th>\n",
       "      <td>0.173690</td>\n",
       "      <td>0.184440</td>\n",
       "      <td>1.115814</td>\n",
       "    </tr>\n",
       "    <tr>\n",
       "      <th>pain</th>\n",
       "      <td>0.020131</td>\n",
       "      <td>0.027306</td>\n",
       "      <td>1.467779</td>\n",
       "    </tr>\n",
       "  </tbody>\n",
       "</table>\n",
       "</div>"
      ],
      "text/plain": [
       "                avg_daily_cost  daily_total_cost     ratio\n",
       "category                                                  \n",
       "blood pressure        0.077964          0.086104  1.104277\n",
       "cholesterol           0.139796          0.151565  1.100505\n",
       "inflammation          0.184000          0.201478  1.097019\n",
       "mental health         0.173690          0.184440  1.115814\n",
       "pain                  0.020131          0.027306  1.467779"
      ]
     },
     "execution_count": 162,
     "metadata": {},
     "output_type": "execute_result"
    }
   ],
   "source": [
    "sub.groupby('category').mean()"
   ]
  },
  {
   "cell_type": "code",
   "execution_count": 164,
   "metadata": {},
   "outputs": [
    {
     "data": {
      "text/html": [
       "<div>\n",
       "<style scoped>\n",
       "    .dataframe tbody tr th:only-of-type {\n",
       "        vertical-align: middle;\n",
       "    }\n",
       "\n",
       "    .dataframe tbody tr th {\n",
       "        vertical-align: top;\n",
       "    }\n",
       "\n",
       "    .dataframe thead th {\n",
       "        text-align: right;\n",
       "    }\n",
       "</style>\n",
       "<table border=\"1\" class=\"dataframe\">\n",
       "  <thead>\n",
       "    <tr style=\"text-align: right;\">\n",
       "      <th></th>\n",
       "      <th>avg_daily_cost</th>\n",
       "      <th>daily_total_cost</th>\n",
       "      <th>ratio</th>\n",
       "    </tr>\n",
       "    <tr>\n",
       "      <th>new_or_refill_code</th>\n",
       "      <th></th>\n",
       "      <th></th>\n",
       "      <th></th>\n",
       "    </tr>\n",
       "  </thead>\n",
       "  <tbody>\n",
       "    <tr>\n",
       "      <th>N</th>\n",
       "      <td>1.987349</td>\n",
       "      <td>1.046834</td>\n",
       "      <td>0.819717</td>\n",
       "    </tr>\n",
       "    <tr>\n",
       "      <th>R</th>\n",
       "      <td>1.730338</td>\n",
       "      <td>0.567342</td>\n",
       "      <td>0.699952</td>\n",
       "    </tr>\n",
       "  </tbody>\n",
       "</table>\n",
       "</div>"
      ],
      "text/plain": [
       "                    avg_daily_cost  daily_total_cost     ratio\n",
       "new_or_refill_code                                            \n",
       "N                         1.987349          1.046834  0.819717\n",
       "R                         1.730338          0.567342  0.699952"
      ]
     },
     "execution_count": 164,
     "metadata": {},
     "output_type": "execute_result"
    }
   ],
   "source": [
    "dat.groupby('new_or_refill_code').mean()[['avg_daily_cost','daily_total_cost','ratio']]"
   ]
  },
  {
   "cell_type": "code",
   "execution_count": 151,
   "metadata": {},
   "outputs": [
    {
     "data": {
      "text/plain": [
       "array(['cholesterol', 'blood pressure', 'inflammation', 'mental health',\n",
       "       'pain'], dtype=object)"
      ]
     },
     "execution_count": 151,
     "metadata": {},
     "output_type": "execute_result"
    }
   ],
   "source": [
    "sub['category'].unique()"
   ]
  },
  {
   "cell_type": "code",
   "execution_count": 154,
   "metadata": {},
   "outputs": [
    {
     "data": {
      "text/plain": [
       "array(['cancer', 'blood pressure', 'infection', 'cholesterol',\n",
       "       'mental health', 'inflammation', 'pain'], dtype=object)"
      ]
     },
     "execution_count": 154,
     "metadata": {},
     "output_type": "execute_result"
    }
   ],
   "source": [
    "dat['category'].unique()"
   ]
  },
  {
   "cell_type": "code",
   "execution_count": 155,
   "metadata": {},
   "outputs": [
    {
     "data": {
      "text/plain": [
       "{'_id': 'N',\n",
       " 'claim_type': 'New',\n",
       " 'admin_fee': 0.32,\n",
       " 'category_discount': {'pain': 0.99,\n",
       "  'blood pressure': 0.95,\n",
       "  'cholesterol': 0.95,\n",
       "  'inflammation': 0.9,\n",
       "  'infection': 0.75,\n",
       "  'cancer': 0.5,\n",
       "  'mental health': 0.9}}"
      ]
     },
     "execution_count": 155,
     "metadata": {},
     "output_type": "execute_result"
    }
   ],
   "source": [
    "list(RX_RULES.find({'_id': 'N' }))[0]"
   ]
  },
  {
   "cell_type": "code",
   "execution_count": 156,
   "metadata": {},
   "outputs": [
    {
     "data": {
      "text/plain": [
       "{'_id': 'R',\n",
       " 'claim_type': 'Refill',\n",
       " 'admin_fee': 0.08,\n",
       " 'category_discount': {'pain': 0.9,\n",
       "  'blood pressure': 0.95,\n",
       "  'cholesterol': 0.95,\n",
       "  'inflammation': 0.75,\n",
       "  'infection': 0.75,\n",
       "  'cancer': 0.3,\n",
       "  'mental health': 0.8}}"
      ]
     },
     "execution_count": 156,
     "metadata": {},
     "output_type": "execute_result"
    }
   ],
   "source": [
    "list(RX_RULES.find({'_id': 'R' }))[0]"
   ]
  },
  {
   "cell_type": "code",
   "execution_count": 159,
   "metadata": {},
   "outputs": [
    {
     "data": {
      "text/plain": [
       "<seaborn.axisgrid.FacetGrid at 0x7fc48e86d240>"
      ]
     },
     "execution_count": 159,
     "metadata": {},
     "output_type": "execute_result"
    },
    {
     "data": {
      "image/png": "[encoded data removed]",
      "text/plain": [
       "<Figure size 902.25x360 with 1 Axes>"
      ]
     },
     "metadata": {
      "needs_background": "light"
     },
     "output_type": "display_data"
    }
   ],
   "source": [
    "sns.catplot(data=answer, x='new_or_refill_code', y='ratio', aspect=11/5, jitter=True,hue='category')"
   ]
  },
  {
   "cell_type": "markdown",
   "metadata": {
    "deletable": false,
    "editable": false,
    "nbgrader": {
     "checksum": "a2188edc1fb7bb1eb4998c54b747cea3",
     "grade": false,
     "grade_id": "07-intro2",
     "locked": true,
     "schema_version": 1,
     "solution": false
    }
   },
   "source": [
    "**In the cell below, explain to the best of your ability what you can infer from the patterns you see in the plots above.  Can you explain the patterns that you see in the charts above based on how you implemented the `total_cost` function and what you see in the DocumentDB rules?**\n",
    "\n",
    "I'm not looking for any one thing in particular here, just an idea of what you're able to understand abou the code you wrote and the configuration settings from the DocumentDB rules.\n",
    "\n",
    "**double-click below where it says YOUR ANSWER HERE**\n",
    "\n",
    "---\n",
    "\n"
   ]
  },
  {
   "cell_type": "code",
   "execution_count": 167,
   "metadata": {
    "scrolled": false
   },
   "outputs": [
    {
     "data": {
      "text/html": [
       "<div>\n",
       "<style scoped>\n",
       "    .dataframe tbody tr th:only-of-type {\n",
       "        vertical-align: middle;\n",
       "    }\n",
       "\n",
       "    .dataframe tbody tr th {\n",
       "        vertical-align: top;\n",
       "    }\n",
       "\n",
       "    .dataframe thead th {\n",
       "        text-align: right;\n",
       "    }\n",
       "</style>\n",
       "<table border=\"1\" class=\"dataframe\">\n",
       "  <thead>\n",
       "    <tr style=\"text-align: right;\">\n",
       "      <th></th>\n",
       "      <th></th>\n",
       "      <th>avg_daily_cost</th>\n",
       "      <th>daily_total_cost</th>\n",
       "      <th>ratio</th>\n",
       "    </tr>\n",
       "    <tr>\n",
       "      <th>category</th>\n",
       "      <th>new_or_refill_code</th>\n",
       "      <th></th>\n",
       "      <th></th>\n",
       "      <th></th>\n",
       "    </tr>\n",
       "  </thead>\n",
       "  <tbody>\n",
       "    <tr>\n",
       "      <th rowspan=\"2\" valign=\"top\">blood pressure</th>\n",
       "      <th>N</th>\n",
       "      <td>0.102740</td>\n",
       "      <td>0.109899</td>\n",
       "      <td>1.096678</td>\n",
       "    </tr>\n",
       "    <tr>\n",
       "      <th>R</th>\n",
       "      <td>0.107357</td>\n",
       "      <td>0.104620</td>\n",
       "      <td>0.980575</td>\n",
       "    </tr>\n",
       "    <tr>\n",
       "      <th rowspan=\"2\" valign=\"top\">cancer</th>\n",
       "      <th>N</th>\n",
       "      <td>3.590125</td>\n",
       "      <td>1.831991</td>\n",
       "      <td>0.535385</td>\n",
       "    </tr>\n",
       "    <tr>\n",
       "      <th>R</th>\n",
       "      <td>4.205555</td>\n",
       "      <td>1.265130</td>\n",
       "      <td>0.305844</td>\n",
       "    </tr>\n",
       "    <tr>\n",
       "      <th rowspan=\"2\" valign=\"top\">cholesterol</th>\n",
       "      <th>N</th>\n",
       "      <td>0.151304</td>\n",
       "      <td>0.160997</td>\n",
       "      <td>1.084176</td>\n",
       "    </tr>\n",
       "    <tr>\n",
       "      <th>R</th>\n",
       "      <td>0.145395</td>\n",
       "      <td>0.140830</td>\n",
       "      <td>0.969005</td>\n",
       "    </tr>\n",
       "    <tr>\n",
       "      <th rowspan=\"2\" valign=\"top\">infection</th>\n",
       "      <th>N</th>\n",
       "      <td>0.243381</td>\n",
       "      <td>0.200750</td>\n",
       "      <td>0.824436</td>\n",
       "    </tr>\n",
       "    <tr>\n",
       "      <th>R</th>\n",
       "      <td>0.242346</td>\n",
       "      <td>0.184624</td>\n",
       "      <td>0.761909</td>\n",
       "    </tr>\n",
       "    <tr>\n",
       "      <th rowspan=\"2\" valign=\"top\">inflammation</th>\n",
       "      <th>N</th>\n",
       "      <td>0.195074</td>\n",
       "      <td>0.191338</td>\n",
       "      <td>0.983278</td>\n",
       "    </tr>\n",
       "    <tr>\n",
       "      <th>R</th>\n",
       "      <td>0.190187</td>\n",
       "      <td>0.145136</td>\n",
       "      <td>0.763292</td>\n",
       "    </tr>\n",
       "    <tr>\n",
       "      <th rowspan=\"2\" valign=\"top\">mental health</th>\n",
       "      <th>N</th>\n",
       "      <td>0.282969</td>\n",
       "      <td>0.269146</td>\n",
       "      <td>0.965753</td>\n",
       "    </tr>\n",
       "    <tr>\n",
       "      <th>R</th>\n",
       "      <td>0.289433</td>\n",
       "      <td>0.234226</td>\n",
       "      <td>0.810881</td>\n",
       "    </tr>\n",
       "    <tr>\n",
       "      <th rowspan=\"2\" valign=\"top\">pain</th>\n",
       "      <th>N</th>\n",
       "      <td>0.027006</td>\n",
       "      <td>0.039967</td>\n",
       "      <td>1.756390</td>\n",
       "    </tr>\n",
       "    <tr>\n",
       "      <th>R</th>\n",
       "      <td>0.027406</td>\n",
       "      <td>0.027324</td>\n",
       "      <td>1.081276</td>\n",
       "    </tr>\n",
       "  </tbody>\n",
       "</table>\n",
       "</div>"
      ],
      "text/plain": [
       "                                   avg_daily_cost  daily_total_cost     ratio\n",
       "category       new_or_refill_code                                            \n",
       "blood pressure N                         0.102740          0.109899  1.096678\n",
       "               R                         0.107357          0.104620  0.980575\n",
       "cancer         N                         3.590125          1.831991  0.535385\n",
       "               R                         4.205555          1.265130  0.305844\n",
       "cholesterol    N                         0.151304          0.160997  1.084176\n",
       "               R                         0.145395          0.140830  0.969005\n",
       "infection      N                         0.243381          0.200750  0.824436\n",
       "               R                         0.242346          0.184624  0.761909\n",
       "inflammation   N                         0.195074          0.191338  0.983278\n",
       "               R                         0.190187          0.145136  0.763292\n",
       "mental health  N                         0.282969          0.269146  0.965753\n",
       "               R                         0.289433          0.234226  0.810881\n",
       "pain           N                         0.027006          0.039967  1.756390\n",
       "               R                         0.027406          0.027324  1.081276"
      ]
     },
     "execution_count": 167,
     "metadata": {},
     "output_type": "execute_result"
    }
   ],
   "source": [
    "dat.groupby(['category','new_or_refill_code']).mean()[['avg_daily_cost','daily_total_cost','ratio']]"
   ]
  },
  {
   "cell_type": "markdown",
   "metadata": {
    "deletable": false,
    "nbgrader": {
     "checksum": "6bf302cf604093054a3f679563d3bfac",
     "grade": true,
     "grade_id": "07-solution2",
     "locked": false,
     "points": 10,
     "schema_version": 1,
     "solution": true
    }
   },
   "source": [
    "A higher ratio generally relates to a higher average daily total cost. The plots and data are describing the cost discrepancies between not only the categories of medications, but whether or not the medication is new or a refill. These trends fairly consistently indicate that refill medications have a lower daily total cost than new medications, and this is also indicated by the lower ratio value. This is likely also influenced by the fact that refill medications have substantially smaller admin fees, and smaller category discount. \n",
    "\n",
    "The clearest example of this trend is with pain medication. We can see in the last plot that the ratio of pain medication is substantially lower for refill prescriptions than new prescriptions. The cost of pain medications in general tend to be very low, so the lower admin fee and smaller category discount have a larger impact on the total daily cost of this category of medication. "
   ]
  },
  {
   "cell_type": "code",
   "execution_count": null,
   "metadata": {},
   "outputs": [],
   "source": []
  }
 ],
 "metadata": {
  "kernelspec": {
   "display_name": "Python 3",
   "language": "python",
   "name": "python3"
  },
  "language_info": {
   "codemirror_mode": {
    "name": "ipython",
    "version": 3
   },
   "file_extension": ".py",
   "mimetype": "text/x-python",
   "name": "python",
   "nbconvert_exporter": "python",
   "pygments_lexer": "ipython3",
   "version": "3.7.2"
  }
 },
 "nbformat": 4,
 "nbformat_minor": 2
}
