{
 "cells": [
  {
   "cell_type": "markdown",
   "metadata": {},
   "source": [
    "Before you turn this problem in, make sure everything runs as expected. First, **restart the kernel** (in the menubar, select Kernel$\\rightarrow$Restart) and then **run all cells** (in the menubar, select Cell$\\rightarrow$Run All).\n",
    "\n",
    "Make sure you fill in any place that says `YOUR CODE HERE` or \"YOUR ANSWER HERE\", as well as your name and collaborators below:"
   ]
  },
  {
   "cell_type": "code",
   "execution_count": null,
   "metadata": {},
   "outputs": [],
   "source": [
    "NAME = \"Emily Holcomb\"\n",
    "COLLABORATORS = \"\""
   ]
  },
  {
   "cell_type": "markdown",
   "metadata": {},
   "source": [
    "---"
   ]
  },
  {
   "cell_type": "markdown",
   "metadata": {
    "deletable": false,
    "editable": false,
    "nbgrader": {
     "checksum": "d589f269d279d1c9304e678a6739cd47",
     "grade": false,
     "grade_id": "cell-fa531f4523fe17b4",
     "locked": true,
     "schema_version": 1,
     "solution": false
    }
   },
   "source": [
    "# Instructions\n",
    "\n",
    "In the answer section below, select your answer to the following multiple choice questions by typing `answer = \"X\"` where `X` is the letter for the correct multiple choice answer."
   ]
  },
  {
   "cell_type": "markdown",
   "metadata": {
    "deletable": false,
    "editable": false,
    "nbgrader": {
     "checksum": "7d4a16ad825f9dbea819e738dd23290f",
     "grade": false,
     "grade_id": "cell-b72e78fa72742df6",
     "locked": true,
     "schema_version": 1,
     "solution": false
    }
   },
   "source": [
    "## #1 - What is the output from the code below?\n",
    "\n",
    "```python\n",
    "dxs = [['COPD','CHF','MI'],['DVT','DBS'],['GI','CNC']]\n",
    "len(dxs[1])\n",
    "```\n",
    "\n",
    "> A) _Error_\n",
    ">\n",
    "> B) `3`\n",
    ">\n",
    "> C) `2`\n",
    ">\n",
    "> D) _None_"
   ]
  },
  {
   "cell_type": "code",
   "execution_count": null,
   "metadata": {
    "deletable": false,
    "nbgrader": {
     "checksum": "d0712cb6ef1ce00920419774d529518f",
     "grade": false,
     "grade_id": "cell-d789a32349f1885c",
     "locked": false,
     "schema_version": 1,
     "solution": true
    }
   },
   "outputs": [],
   "source": [
    "def q01():\n",
    "    \n",
    "    # YOUR CODE HERE\n",
    "    answer = \"C\"\n",
    "    \n",
    "    return answer"
   ]
  },
  {
   "cell_type": "code",
   "execution_count": null,
   "metadata": {
    "deletable": false,
    "editable": false,
    "nbgrader": {
     "checksum": "2943d58a0f43b1302e801a2b0e1f09a9",
     "grade": true,
     "grade_id": "cell-ebb0bb10a19c592a",
     "locked": true,
     "points": 1,
     "schema_version": 1,
     "solution": false
    }
   },
   "outputs": [],
   "source": [
    "assert type(q01()) == str"
   ]
  },
  {
   "cell_type": "markdown",
   "metadata": {
    "deletable": false,
    "editable": false,
    "nbgrader": {
     "checksum": "0400ff694e5513ffdfb2a2ba3b49af09",
     "grade": false,
     "grade_id": "cell-731a53fce589df5a",
     "locked": true,
     "schema_version": 1,
     "solution": false
    }
   },
   "source": [
    "## #2 - What will the resulting value of `vals` be?\n",
    "\n",
    "```python\n",
    "vals = [3.14, 1.41]\n",
    "vals.append([2.72])\n",
    "vals = vals + ['i']\n",
    "```\n",
    "\n",
    "> A) `[3.14, 1.41, 2.72, ['i']]`\n",
    ">\n",
    "> B) `[3.14, 1.41, [2.72], 'i']`\n",
    ">\n",
    "> C) `[3.14, 1.41, [2.72], ['i']]`\n",
    ">\n",
    "> D) `[3.14, 1.41, [2.72, 'i']`"
   ]
  },
  {
   "cell_type": "code",
   "execution_count": null,
   "metadata": {
    "deletable": false,
    "nbgrader": {
     "checksum": "ca1c418d275111791341774e6705e0f2",
     "grade": false,
     "grade_id": "cell-7ec686102170454b",
     "locked": false,
     "schema_version": 1,
     "solution": true
    }
   },
   "outputs": [],
   "source": [
    "def q02():\n",
    "    \n",
    "    # YOUR CODE HERE\n",
    "    answer = \"B\"\n",
    "    \n",
    "    return answer"
   ]
  },
  {
   "cell_type": "code",
   "execution_count": null,
   "metadata": {
    "deletable": false,
    "editable": false,
    "nbgrader": {
     "checksum": "909a2e285b6fc540149e20228bca0cd0",
     "grade": true,
     "grade_id": "cell-0592dde608b988be",
     "locked": true,
     "points": 1,
     "schema_version": 1,
     "solution": false
    }
   },
   "outputs": [],
   "source": [
    "assert type(q02()) == str"
   ]
  },
  {
   "cell_type": "markdown",
   "metadata": {
    "deletable": false,
    "editable": false,
    "nbgrader": {
     "checksum": "9c9e94abd54e697a184244acccf37788",
     "grade": false,
     "grade_id": "cell-3c539662286c6d8f",
     "locked": true,
     "schema_version": 1,
     "solution": false
    }
   },
   "source": [
    "## #3 - Which of the following statements is **not** correct?\n",
    "\n",
    "\n",
    "> A) Lists can have other lists inside them\n",
    ">\n",
    "> B) When you create a list, you must specify how big it will be\n",
    ">\n",
    "> C) A list is an ordered set of objects\n",
    ">\n",
    "> D) list.sort() will sort the list in place without creating a copy"
   ]
  },
  {
   "cell_type": "code",
   "execution_count": null,
   "metadata": {
    "deletable": false,
    "nbgrader": {
     "checksum": "a5abd4d30a16d8a8dcbbf7372d5efc8e",
     "grade": false,
     "grade_id": "cell-46ee97a89206f3d4",
     "locked": false,
     "schema_version": 1,
     "solution": true
    }
   },
   "outputs": [],
   "source": [
    "def q03():\n",
    "    \n",
    "    # YOUR CODE HERE\n",
    "    answer = \"B\"\n",
    "    \n",
    "    return answer"
   ]
  },
  {
   "cell_type": "code",
   "execution_count": null,
   "metadata": {
    "deletable": false,
    "editable": false,
    "nbgrader": {
     "checksum": "5756375f58a66b67856e738c854404f8",
     "grade": true,
     "grade_id": "cell-be350b2fc623fd53",
     "locked": true,
     "points": 1,
     "schema_version": 1,
     "solution": false
    }
   },
   "outputs": [],
   "source": [
    "\n",
    "assert type(q03()) == str"
   ]
  },
  {
   "cell_type": "code",
   "execution_count": null,
   "metadata": {},
   "outputs": [],
   "source": []
  }
 ],
 "metadata": {
  "kernelspec": {
   "display_name": "Python 3",
   "language": "python",
   "name": "python3"
  },
  "language_info": {
   "codemirror_mode": {
    "name": "ipython",
    "version": 3
   },
   "file_extension": ".py",
   "mimetype": "text/x-python",
   "name": "python",
   "nbconvert_exporter": "python",
   "pygments_lexer": "ipython3",
   "version": "3.7.1"
  }
 },
 "nbformat": 4,
 "nbformat_minor": 2
}
