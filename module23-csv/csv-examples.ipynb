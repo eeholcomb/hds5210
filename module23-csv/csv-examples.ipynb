{
 "cells": [
  {
   "cell_type": "markdown",
   "metadata": {},
   "source": [
    "Before you turn this problem in, make sure everything runs as expected. First, **restart the kernel** (in the menubar, select Kernel$\\rightarrow$Restart) and then **run all cells** (in the menubar, select Cell$\\rightarrow$Run All).\n",
    "\n",
    "Make sure you fill in any place that says `YOUR CODE HERE` or \"YOUR ANSWER HERE\", as well as your name and collaborators below:"
   ]
  },
  {
   "cell_type": "code",
   "execution_count": null,
   "metadata": {},
   "outputs": [],
   "source": [
    "NAME = \"\"\n",
    "COLLABORATORS = \"\""
   ]
  },
  {
   "cell_type": "markdown",
   "metadata": {},
   "source": [
    "---"
   ]
  },
  {
   "cell_type": "markdown",
   "metadata": {},
   "source": [
    "# Reading CSV Manually\n",
    "\n",
    "Data file from https://www2.census.gov/programs-surveys/popest/datasets/2010-2018/state/detail/"
   ]
  },
  {
   "cell_type": "code",
   "execution_count": 1,
   "metadata": {},
   "outputs": [
    {
     "name": "stdout",
     "output_type": "stream",
     "text": [
      "SUMLEV,REGION,DIVISION,STATE,NAME,POPESTIMATE2018,POPEST18PLUS2018,PCNT_POPEST18PLUS\r\n",
      "010,0,0,00,United States,327167434,253768092,77.6\r\n",
      "040,3,6,01,Alabama,4887871,3798031,77.7\r\n",
      "040,4,9,02,Alaska,737438,553622,75.1\r\n",
      "040,4,8,04,Arizona,7171646,5528989,77.1\r\n",
      "040,3,7,05,Arkansas,3013825,2310645,76.7\r\n",
      "040,4,9,06,California,39557045,30567090,77.3\r\n",
      "040,4,8,08,Colorado,5695564,4430329,77.8\r\n",
      "040,1,1,09,Connecticut,3572665,2837472,79.4\r\n",
      "040,3,5,10,Delaware,967171,763555,78.9\r\n"
     ]
    }
   ],
   "source": [
    "%%bash\n",
    "head est2018-pop-res.csv"
   ]
  },
  {
   "cell_type": "code",
   "execution_count": 2,
   "metadata": {},
   "outputs": [
    {
     "name": "stdout",
     "output_type": "stream",
     "text": [
      "['SUMLEV', 'REGION', 'DIVISION', 'STATE', 'NAME', 'POPESTIMATE2018', 'POPEST18PLUS2018', 'PCNT_POPEST18PLUS\\n']\n"
     ]
    }
   ],
   "source": [
    "with open('est2018-pop-res.csv') as csv:\n",
    "    line = csv.readline()\n",
    "    values = line.split(\",\")\n",
    "    print(values)"
   ]
  },
  {
   "cell_type": "code",
   "execution_count": 3,
   "metadata": {},
   "outputs": [
    {
     "name": "stdout",
     "output_type": "stream",
     "text": [
      "['SUMLEV', 'REGION', 'DIVISION', 'STATE', 'NAME', 'POPESTIMATE2018', 'POPEST18PLUS2018', 'PCNT_POPEST18PLUS']\n"
     ]
    }
   ],
   "source": [
    "with open('est2018-pop-res.csv') as csv:\n",
    "    line = csv.readline().strip()\n",
    "    values = line.split(\",\")\n",
    "    print(values)"
   ]
  },
  {
   "cell_type": "code",
   "execution_count": 4,
   "metadata": {},
   "outputs": [
    {
     "name": "stdout",
     "output_type": "stream",
     "text": [
      "['SUMLEV', 'REGION', 'DIVISION', 'STATE', 'NAME', 'POPESTIMATE2018', 'POPEST18PLUS2018', 'PCNT_POPEST18PLUS']\n",
      "['010', '0', '0', '00', 'United States', '327167434', '253768092', '77.6']\n",
      "['040', '3', '6', '01', 'Alabama', '4887871', '3798031', '77.7']\n",
      "['040', '4', '9', '02', 'Alaska', '737438', '553622', '75.1']\n",
      "['040', '4', '8', '04', 'Arizona', '7171646', '5528989', '77.1']\n",
      "['040', '3', '7', '05', 'Arkansas', '3013825', '2310645', '76.7']\n",
      "['040', '4', '9', '06', 'California', '39557045', '30567090', '77.3']\n",
      "['040', '4', '8', '08', 'Colorado', '5695564', '4430329', '77.8']\n",
      "['040', '1', '1', '09', 'Connecticut', '3572665', '2837472', '79.4']\n",
      "['040', '3', '5', '10', 'Delaware', '967171', '763555', '78.9']\n",
      "['040', '3', '5', '11', 'District of Columbia', '702455', '574961', '81.9']\n"
     ]
    }
   ],
   "source": [
    "with open('est2018-pop-res.csv') as csv:\n",
    "    counter = 0\n",
    "    max_lines = 10\n",
    "    for line in csv:    \n",
    "        values = line.strip().split(\",\")\n",
    "        print(values)\n",
    "        counter += 1\n",
    "        if counter > max_lines:\n",
    "            break"
   ]
  },
  {
   "cell_type": "markdown",
   "metadata": {},
   "source": [
    "# Using the CSV Module"
   ]
  },
  {
   "cell_type": "code",
   "execution_count": null,
   "metadata": {},
   "outputs": [],
   "source": [
    "import csv"
   ]
  },
  {
   "cell_type": "code",
   "execution_count": null,
   "metadata": {},
   "outputs": [],
   "source": [
    "with open('est2018-pop-res.csv') as f:\n",
    "    csv_reader = csv.reader(f)\n",
    "    counter = 0\n",
    "    max_lines = 10\n",
    "    for row in csv_reader:\n",
    "        print(row)\n",
    "        counter += 1\n",
    "        if counter > max_lines:\n",
    "            break        "
   ]
  },
  {
   "cell_type": "code",
   "execution_count": null,
   "metadata": {},
   "outputs": [],
   "source": [
    "help(csv.reader)"
   ]
  },
  {
   "cell_type": "code",
   "execution_count": null,
   "metadata": {},
   "outputs": [],
   "source": [
    "%%bash\n",
    "head est2018-pop-res.psv"
   ]
  },
  {
   "cell_type": "code",
   "execution_count": null,
   "metadata": {},
   "outputs": [],
   "source": [
    "with open('est2018-pop-res.psv') as f:\n",
    "    csv_reader = csv.reader(f,delimiter='|')\n",
    "    counter = 0\n",
    "    max_lines = 10\n",
    "    for row in csv_reader:\n",
    "        print(row)\n",
    "        counter += 1\n",
    "        if counter > max_lines:\n",
    "            break        "
   ]
  },
  {
   "cell_type": "markdown",
   "metadata": {},
   "source": [
    "# Using Pandas\n",
    "\n",
    "Note that we typically import pandas as pd, giving it a shorter alias name."
   ]
  },
  {
   "cell_type": "code",
   "execution_count": null,
   "metadata": {},
   "outputs": [],
   "source": [
    "import pandas as pd"
   ]
  },
  {
   "cell_type": "code",
   "execution_count": null,
   "metadata": {},
   "outputs": [],
   "source": [
    "data = pd.read_csv('est2018-pop-res.csv')\n",
    "data.head()"
   ]
  },
  {
   "cell_type": "markdown",
   "metadata": {},
   "source": [
    "# Something Practical:\n",
    "\n",
    "### Sum up all the state populations to see if they match the total for the US\n",
    "\n",
    "**Algorithm:**\n",
    "\n",
    "When can see that the field `SUMLEV` tells us if this row is for the total US population (`SUMLEV` = `010`) or for a single state (`SUMLEV` = `040`)\n",
    "\n",
    "We'll read the file using the CSV reader.\n",
    "\n",
    "Loop through the file.  If the row has the `SUMLEV` = `10` then remember that as the total population.  If the row has the `SUMLEV` = `40` then keep a running total of state population."
   ]
  },
  {
   "cell_type": "code",
   "execution_count": null,
   "metadata": {},
   "outputs": [],
   "source": [
    "import csv"
   ]
  },
  {
   "cell_type": "code",
   "execution_count": null,
   "metadata": {},
   "outputs": [],
   "source": [
    "total_us = 0\n",
    "total_states = 0\n",
    "\n",
    "with open('est2018-pop-res.csv') as f:\n",
    "    r = csv.reader(f)\n",
    "    next(r, None) # skips the header\n",
    "    for line in r:\n",
    "        sumlev = line[0]\n",
    "        popestimate = line[5]\n",
    "        if sumlev == '010':\n",
    "            total_us = int(popestimate)\n",
    "        elif sumlev == '040':\n",
    "            total_states += int(popestimate)\n",
    "\n",
    "print(\"Total US Population was      {}\".format(total_us))\n",
    "print(\"Sum of State Populations was {}\".format(total_states))"
   ]
  },
  {
   "cell_type": "code",
   "execution_count": null,
   "metadata": {},
   "outputs": [],
   "source": []
  }
 ],
 "metadata": {
  "kernelspec": {
   "display_name": "Python 3",
   "language": "python",
   "name": "python3"
  },
  "language_info": {
   "codemirror_mode": {
    "name": "ipython",
    "version": 3
   },
   "file_extension": ".py",
   "mimetype": "text/x-python",
   "name": "python",
   "nbconvert_exporter": "python",
   "pygments_lexer": "ipython3",
   "version": "3.7.1"
  }
 },
 "nbformat": 4,
 "nbformat_minor": 2
}
