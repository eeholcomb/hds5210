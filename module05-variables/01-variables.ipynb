{
 "cells": [
  {
   "cell_type": "markdown",
   "metadata": {},
   "source": [
    "Before you turn this problem in, make sure everything runs as expected. First, **restart the kernel** (in the menubar, select Kernel$\\rightarrow$Restart) and then **run all cells** (in the menubar, select Cell$\\rightarrow$Run All).\n",
    "\n",
    "Make sure you fill in any place that says `YOUR CODE HERE` or \"YOUR ANSWER HERE\", as well as your name and collaborators below:"
   ]
  },
  {
   "cell_type": "code",
   "execution_count": null,
   "metadata": {},
   "outputs": [],
   "source": [
    "NAME = \"Emily Holcomb\"\n",
    "COLLABORATORS = \"\""
   ]
  },
  {
   "cell_type": "markdown",
   "metadata": {},
   "source": [
    "---"
   ]
  },
  {
   "cell_type": "markdown",
   "metadata": {
    "deletable": false,
    "editable": false,
    "nbgrader": {
     "checksum": "9a89c868f048cd3d8cc687b01bdfe79a",
     "grade": false,
     "grade_id": "cell-0d9fc7d39d17850c",
     "locked": true,
     "schema_version": 1,
     "solution": false
    }
   },
   "source": [
    "# Instructions\n",
    "\n",
    "In the answer section below, select your answer to the following multiple choice questions by typing `answer = \"X\"` where `X` is the letter for the correct multiple choice answer."
   ]
  },
  {
   "cell_type": "markdown",
   "metadata": {
    "deletable": false,
    "editable": false,
    "nbgrader": {
     "checksum": "d872de8b9ddb4f2d06443b4a618fc63b",
     "grade": false,
     "grade_id": "cell-cc27edb2e89a618f",
     "locked": true,
     "schema_version": 1,
     "solution": false
    }
   },
   "source": [
    "## #1 Variables\n",
    "In the scenario below, which statments about the variables `a` and `b` are true.\n",
    "```\n",
    "a = [1, 2, 3]\n",
    "b = a\n",
    "```\n",
    "\n",
    "> A) `a` is a list and `b` is a reference to another variables\n",
    "> \n",
    "> B) `a` and `b` both refer to a list that has three elements\n",
    "> \n",
    "> C) `b` is a copy of `a`\n",
    ">\n",
    "> D) `b` refers to `a` which refers to a list with three elements\n"
   ]
  },
  {
   "cell_type": "code",
   "execution_count": null,
   "metadata": {
    "deletable": false,
    "nbgrader": {
     "checksum": "4ec6f36bf00a4845772bbba1ff39619d",
     "grade": false,
     "grade_id": "cell-a63a2c3bbc991423",
     "locked": false,
     "schema_version": 1,
     "solution": true
    }
   },
   "outputs": [],
   "source": [
    "def q01():\n",
    "    \n",
    "    # YOUR CODE HERE\n",
    "    answer = \"B\"\n",
    "    \n",
    "    return answer"
   ]
  },
  {
   "cell_type": "code",
   "execution_count": null,
   "metadata": {
    "deletable": false,
    "editable": false,
    "nbgrader": {
     "checksum": "e3a7d0d86aebdcaa552b17fe1c1f3116",
     "grade": true,
     "grade_id": "cell-5f97db48f3a84609",
     "locked": true,
     "points": 1,
     "schema_version": 1,
     "solution": false
    }
   },
   "outputs": [],
   "source": [
    "assert type(q01()) == str"
   ]
  },
  {
   "cell_type": "markdown",
   "metadata": {
    "deletable": false,
    "editable": false,
    "nbgrader": {
     "checksum": "16c896b6802e45598f3db3641c42c8b5",
     "grade": false,
     "grade_id": "cell-ce0049c043a87c0c",
     "locked": true,
     "schema_version": 1,
     "solution": false
    }
   },
   "source": [
    "## #2 Variable Names\n",
    "\n",
    "Which of the following is **NOT** true about how you should name variables?\n",
    "\n",
    "> A) Variable names should be as short as possible\n",
    "> \n",
    "> B) Variable names can use abbreviations\n",
    ">\n",
    "> C) Variable names should be readable by humans\n",
    ">\n",
    "> D) Variable names represent a kind of documentation"
   ]
  },
  {
   "cell_type": "code",
   "execution_count": null,
   "metadata": {
    "deletable": false,
    "nbgrader": {
     "checksum": "a043e8b2d5911837f405e115ae9df6fe",
     "grade": false,
     "grade_id": "cell-ad5aa6c5e74c36be",
     "locked": false,
     "schema_version": 1,
     "solution": true
    }
   },
   "outputs": [],
   "source": [
    "def q02():\n",
    "    \n",
    "    # YOUR CODE HERE\n",
    "    answer = \"D\"\n",
    "    \n",
    "    return answer"
   ]
  },
  {
   "cell_type": "code",
   "execution_count": null,
   "metadata": {
    "deletable": false,
    "editable": false,
    "nbgrader": {
     "checksum": "c9222582b88606bb520d348ffa9aa684",
     "grade": true,
     "grade_id": "cell-de15d4a2d5d9f1a8",
     "locked": true,
     "points": 1,
     "schema_version": 1,
     "solution": false
    }
   },
   "outputs": [],
   "source": [
    "assert type(q02()) == str"
   ]
  },
  {
   "cell_type": "markdown",
   "metadata": {},
   "source": [
    "## #3 Why Use Variables\n",
    "\n",
    "Based on the purpose and best practices for using variables in Python, which of the following lines of code represents the best use of variables?  The code in the example below is used to convert degrees Farenheit to degress Celsius.\n",
    "\n",
    "> A) `v2 = (v1 - 32) * 5/9`\n",
    ">\n",
    "> D) `temp_c = (temp_f - 32) * 5/9`\n",
    ">\n",
    "> B) `tempcelsius = (tempfarenheit - 32) * 5/9`\n",
    ">\n",
    "> C) `temp-celsius = (temp-farenheight - 32) * 5/9`\n"
   ]
  },
  {
   "cell_type": "code",
   "execution_count": null,
   "metadata": {
    "deletable": false,
    "nbgrader": {
     "checksum": "0f5a6c08c8d0a63fb26f1d7376e978c1",
     "grade": false,
     "grade_id": "cell-d99e68f47741b529",
     "locked": false,
     "schema_version": 1,
     "solution": true
    }
   },
   "outputs": [],
   "source": [
    "def q03():\n",
    "    \n",
    "    # YOUR CODE HERE\n",
    "    answer = \"D\"\n",
    "    \n",
    "    return answer"
   ]
  },
  {
   "cell_type": "code",
   "execution_count": null,
   "metadata": {
    "deletable": false,
    "editable": false,
    "nbgrader": {
     "checksum": "79d550bca2b1df7717ce16c633ff9767",
     "grade": true,
     "grade_id": "cell-eb1647b5986682c1",
     "locked": true,
     "points": 0,
     "schema_version": 1,
     "solution": false
    }
   },
   "outputs": [],
   "source": [
    "assert type(q03()) == str"
   ]
  }
 ],
 "metadata": {
  "kernelspec": {
   "display_name": "Python 3",
   "language": "python",
   "name": "python3"
  },
  "language_info": {
   "codemirror_mode": {
    "name": "ipython",
    "version": 3
   },
   "file_extension": ".py",
   "mimetype": "text/x-python",
   "name": "python",
   "nbconvert_exporter": "python",
   "pygments_lexer": "ipython3",
   "version": "3.7.1"
  }
 },
 "nbformat": 4,
 "nbformat_minor": 2
}
