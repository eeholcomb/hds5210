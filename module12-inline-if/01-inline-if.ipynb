{
 "cells": [
  {
   "cell_type": "markdown",
   "metadata": {},
   "source": [
    "Before you turn this problem in, make sure everything runs as expected. First, **restart the kernel** (in the menubar, select Kernel$\\rightarrow$Restart) and then **run all cells** (in the menubar, select Cell$\\rightarrow$Run All).\n",
    "\n",
    "Make sure you fill in any place that says `YOUR CODE HERE` or \"YOUR ANSWER HERE\", as well as your name and collaborators below:"
   ]
  },
  {
   "cell_type": "code",
   "execution_count": null,
   "metadata": {},
   "outputs": [],
   "source": [
    "NAME = \"Emily Holcomb\"\n",
    "COLLABORATORS = \"\""
   ]
  },
  {
   "cell_type": "markdown",
   "metadata": {},
   "source": [
    "---"
   ]
  },
  {
   "cell_type": "markdown",
   "metadata": {
    "deletable": false,
    "editable": false,
    "nbgrader": {
     "checksum": "d589f269d279d1c9304e678a6739cd47",
     "grade": false,
     "grade_id": "cell-fa531f4523fe17b4",
     "locked": true,
     "schema_version": 1,
     "solution": false
    }
   },
   "source": [
    "# Instructions\n",
    "\n",
    "In the answer section below, select your answer to the following multiple choice questions by typing `answer = \"X\"` where `X` is the letter for the correct multiple choice answer."
   ]
  },
  {
   "cell_type": "markdown",
   "metadata": {
    "deletable": false,
    "editable": false,
    "nbgrader": {
     "checksum": "81d9f7b1e43abb253ab454a73f4ec2d7",
     "grade": false,
     "grade_id": "cell-b72e78fa72742df6",
     "locked": true,
     "schema_version": 1,
     "solution": false
    }
   },
   "source": [
    "## #1 - What is another name for the inline if statement?\n",
    "\n",
    "> A) Ternary operator\n",
    ">\n",
    "> B) Conditional\n",
    ">\n",
    "> C) Three-part if\n",
    ">\n",
    "> D) None of these"
   ]
  },
  {
   "cell_type": "code",
   "execution_count": null,
   "metadata": {
    "deletable": false,
    "nbgrader": {
     "checksum": "d0712cb6ef1ce00920419774d529518f",
     "grade": false,
     "grade_id": "cell-d789a32349f1885c",
     "locked": false,
     "schema_version": 1,
     "solution": true
    }
   },
   "outputs": [],
   "source": [
    "def q01():\n",
    "    \n",
    "    # YOUR CODE HERE\n",
    "    answer = \"A\"\n",
    "    \n",
    "    return answer"
   ]
  },
  {
   "cell_type": "code",
   "execution_count": null,
   "metadata": {
    "deletable": false,
    "editable": false,
    "nbgrader": {
     "checksum": "2943d58a0f43b1302e801a2b0e1f09a9",
     "grade": true,
     "grade_id": "cell-ebb0bb10a19c592a",
     "locked": true,
     "points": 1,
     "schema_version": 1,
     "solution": false
    }
   },
   "outputs": [],
   "source": [
    "assert type(q01()) == str"
   ]
  },
  {
   "cell_type": "markdown",
   "metadata": {
    "deletable": false,
    "editable": false,
    "nbgrader": {
     "checksum": "f69467003ae49671a39de9d2fa63ae75",
     "grade": false,
     "grade_id": "cell-731a53fce589df5a",
     "locked": true,
     "schema_version": 1,
     "solution": false
    }
   },
   "source": [
    "## #2 - What does this code output?\n",
    "\n",
    "```python\n",
    "age = 67\n",
    "gender = 'male'\n",
    "\n",
    "print(\n",
    "    ('young ' if age < 18 else ('retired ' if age > 65 else '')) + \n",
    "    ('woman' if gender == 'woman' else 'man')\n",
    ")\n",
    "```\n",
    "\n",
    "> A) `man`\n",
    ">\n",
    "> B) `retired man`\n",
    ">\n",
    "> C) `retired`\n",
    ">\n",
    "> D) _nothing_"
   ]
  },
  {
   "cell_type": "code",
   "execution_count": null,
   "metadata": {
    "deletable": false,
    "nbgrader": {
     "checksum": "ca1c418d275111791341774e6705e0f2",
     "grade": false,
     "grade_id": "cell-7ec686102170454b",
     "locked": false,
     "schema_version": 1,
     "solution": true
    }
   },
   "outputs": [],
   "source": [
    "def q02():\n",
    "    \n",
    "    # YOUR CODE HERE\n",
    "    answer = \"B\"\n",
    "    \n",
    "    return answer"
   ]
  },
  {
   "cell_type": "code",
   "execution_count": null,
   "metadata": {
    "deletable": false,
    "editable": false,
    "nbgrader": {
     "checksum": "909a2e285b6fc540149e20228bca0cd0",
     "grade": true,
     "grade_id": "cell-0592dde608b988be",
     "locked": true,
     "points": 1,
     "schema_version": 1,
     "solution": false
    }
   },
   "outputs": [],
   "source": [
    "assert type(q02()) == str"
   ]
  },
  {
   "cell_type": "markdown",
   "metadata": {
    "deletable": false,
    "editable": false,
    "nbgrader": {
     "checksum": "ab214e15a87c7ad4465e74cc0fc10a4b",
     "grade": false,
     "grade_id": "cell-3c539662286c6d8f",
     "locked": true,
     "schema_version": 1,
     "solution": false
    }
   },
   "source": [
    "## #3 - Which of the following statements is not correct?\n",
    "\n",
    "\n",
    "> A) The inline if can be used with as many `elif` clauses as needed\n",
    ">\n",
    "> B) Inline if can be used just about anywhere in your code \n",
    ">\n",
    "> C) Inline if can return any kind of object\n",
    ">\n",
    "> D) Inline if is a useful way to streamline code"
   ]
  },
  {
   "cell_type": "code",
   "execution_count": null,
   "metadata": {
    "deletable": false,
    "nbgrader": {
     "checksum": "a5abd4d30a16d8a8dcbbf7372d5efc8e",
     "grade": false,
     "grade_id": "cell-46ee97a89206f3d4",
     "locked": false,
     "schema_version": 1,
     "solution": true
    }
   },
   "outputs": [],
   "source": [
    "def q03():\n",
    "    \n",
    "    # YOUR CODE HERE\n",
    "    answer = \"A\"\n",
    "    \n",
    "    return answer"
   ]
  },
  {
   "cell_type": "code",
   "execution_count": null,
   "metadata": {
    "deletable": false,
    "editable": false,
    "nbgrader": {
     "checksum": "633a5edd4056af534838a7e22aeb1726",
     "grade": true,
     "grade_id": "cell-be350b2fc623fd53",
     "locked": true,
     "points": 1,
     "schema_version": 1,
     "solution": false
    }
   },
   "outputs": [],
   "source": [
    "assert type(q03()) == str"
   ]
  }
 ],
 "metadata": {
  "kernelspec": {
   "display_name": "Python 3",
   "language": "python",
   "name": "python3"
  },
  "language_info": {
   "codemirror_mode": {
    "name": "ipython",
    "version": 3
   },
   "file_extension": ".py",
   "mimetype": "text/x-python",
   "name": "python",
   "nbconvert_exporter": "python",
   "pygments_lexer": "ipython3",
   "version": "3.7.1"
  }
 },
 "nbformat": 4,
 "nbformat_minor": 2
}
