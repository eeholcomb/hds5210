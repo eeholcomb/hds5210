{
 "cells": [
  {
   "cell_type": "markdown",
   "metadata": {},
   "source": [
    "Before you turn this problem in, make sure everything runs as expected. First, **restart the kernel** (in the menubar, select Kernel$\\rightarrow$Restart) and then **run all cells** (in the menubar, select Cell$\\rightarrow$Run All).\n",
    "\n",
    "Make sure you fill in any place that says `YOUR CODE HERE` or \"YOUR ANSWER HERE\", as well as your name and collaborators below:"
   ]
  },
  {
   "cell_type": "code",
   "execution_count": null,
   "metadata": {},
   "outputs": [],
   "source": [
    "NAME = \"Emily Holcomb\"\n",
    "COLLABORATORS = \"\""
   ]
  },
  {
   "cell_type": "markdown",
   "metadata": {},
   "source": [
    "---"
   ]
  },
  {
   "cell_type": "markdown",
   "metadata": {
    "deletable": false,
    "editable": false,
    "nbgrader": {
     "checksum": "920f5f966945e8b214677b033d26f353",
     "grade": false,
     "grade_id": "intro",
     "locked": true,
     "schema_version": 1,
     "solution": false
    }
   },
   "source": [
    "# Working with multiple data sets\n",
    "\n",
    "There are two data files that we'll be working with for this week's assignment.  They are described below.  Load those data files in with Pandas and then work to answering each of the questions below.\n",
    "\n",
    "## npidata.csv\n",
    "\n",
    "This file is basic information about every healthcare provider in the US.  It has one row for each NPI (National Provider Identifier).  It contains information such as the provider's name and address.\n",
    "\n",
    "\n",
    "## cmsYYYY.csv\n",
    "\n",
    "These are files about what kinds of procedures and patients providers in the US are serving under CMS programs, Medicare and Medicaid.  Each contains various statistics about providers over the course of a year.  There are three of these, for the years 2014, 2015, and 2016.  These files, however, don't contain information about the provider such as where the provider is located.\n",
    "\n",
    "## Our Goals\n",
    "\n",
    "For this assignment, we're going to want to compute some statistics based on the data in the **cms** files, but aggregate that data based on information in the **npidata** file.  As in last week's assignment, you'll need to store your answers in a variable called `answer` at the end of each step."
   ]
  },
  {
   "cell_type": "code",
   "execution_count": 1,
   "metadata": {
    "deletable": false,
    "editable": false,
    "nbgrader": {
     "checksum": "dc8d140e8655a41146574eede9b6ea09",
     "grade": false,
     "grade_id": "import",
     "locked": true,
     "schema_version": 1,
     "solution": false
    }
   },
   "outputs": [],
   "source": [
    "import pandas as pd"
   ]
  },
  {
   "cell_type": "code",
   "execution_count": 71,
   "metadata": {},
   "outputs": [],
   "source": [
    "nppes = pd.read_csv('/data/npidata.csv')\n",
    "\n",
    "cms2014 = pd.read_csv('/data/cms2014.csv')\n",
    "\n",
    "cms2015 = pd.read_csv('/data/cms2015.csv')\n",
    "\n",
    "cms2016 = pd.read_csv('/data/cms2016.csv')"
   ]
  },
  {
   "cell_type": "markdown",
   "metadata": {
    "deletable": false,
    "editable": false,
    "nbgrader": {
     "checksum": "f337d77baeb0a84cfe9c54c7ca48c952",
     "grade": false,
     "grade_id": "01-intro",
     "locked": true,
     "schema_version": 1,
     "solution": false
    }
   },
   "source": [
    "## Part 1\n",
    "\n",
    "In this first step, we'll need to merge together all of the **cms** files into a single dataframe.  Be careful that these files might not be identical, so you'll have to look a little bit to figure out how to merge them.\n",
    "\n",
    "As you are merging them, make sure that you retain information about which file (i.e. which year) the data came from.  Call that new columns `year`.\n",
    "\n",
    "In your `answer` variable, provide a complete data frame that contains all of the rows and columns from the **cms** files, plus an additional column to store the year/file that particular row came from.\n",
    "\n",
    "The assertion tests will give you a good idea as to if you're merging the files correctly."
   ]
  },
  {
   "cell_type": "code",
   "execution_count": 72,
   "metadata": {
    "deletable": false,
    "nbgrader": {
     "checksum": "719f2cee265bfaa69b5a12560f9c0ed0",
     "grade": false,
     "grade_id": "01-solution",
     "locked": false,
     "schema_version": 1,
     "solution": true
    }
   },
   "outputs": [],
   "source": [
    "answer = None\n",
    "\n",
    "# YOUR CODE HERE\n",
    "cms2014.columns = cms2014.columns.str.lower()\n",
    "cms2014['year'] = 2014\n",
    "cms2015.columns = cms2015.columns.str.lower()\n",
    "cms2015['year'] = 2015\n",
    "cms2016.columns = cms2016.columns.str.lower()\n",
    "cms2016['year'] = 2016\n",
    "cms = pd.concat([cms2014,cms2015,cms2016],sort=False)\n",
    "\n",
    "answer = cms"
   ]
  },
  {
   "cell_type": "code",
   "execution_count": 50,
   "metadata": {
    "deletable": false,
    "editable": false,
    "nbgrader": {
     "checksum": "d01a0a39d88ef5c8a3de559b025e4e5c",
     "grade": true,
     "grade_id": "01-tests",
     "locked": true,
     "points": 5,
     "schema_version": 1,
     "solution": false
    }
   },
   "outputs": [],
   "source": [
    "assert(answer.shape == (193862, 60))\n",
    "assert(list(answer['year'].unique()) == [2014,2015,2016])\n",
    "assert(set(answer.columns.str.lower()) == set(['year', 'nbr', 'npi', 'provider_type',\n",
    "       'medicare_participation_indicator', 'number_of_hcpcs', 'total_services',\n",
    "       'total_unique_benes', 'total_submitted_chrg_amt',\n",
    "       'total_medicare_allowed_amt', 'total_medicare_payment_amt',\n",
    "       'total_medicare_stnd_amt', 'drug_suppress_indicator',\n",
    "       'number_of_drug_hcpcs', 'total_drug_services',\n",
    "       'total_drug_unique_benes', 'total_drug_submitted_chrg_amt',\n",
    "       'total_drug_medicare_allowed_amt', 'total_drug_medicare_payment_amt',\n",
    "       'total_drug_medicare_stnd_amt', 'med_suppress_indicator',\n",
    "       'number_of_med_hcpcs', 'total_med_services', 'total_med_unique_benes',\n",
    "       'total_med_submitted_chrg_amt', 'total_med_medicare_allowed_amt',\n",
    "       'total_med_medicare_payment_amt', 'total_med_medicare_stnd_amt',\n",
    "       'beneficiary_average_age', 'beneficiary_age_less_65_count',\n",
    "       'beneficiary_age_65_74_count', 'beneficiary_age_75_84_count',\n",
    "       'beneficiary_age_greater_84_count', 'beneficiary_female_count',\n",
    "       'beneficiary_male_count', 'beneficiary_race_white_count',\n",
    "       'beneficiary_race_black_count', 'beneficiary_race_api_count',\n",
    "       'beneficiary_race_hispanic_count', 'beneficiary_race_natind_count',\n",
    "       'beneficiary_race_other_count', 'beneficiary_nondual_count',\n",
    "       'beneficiary_dual_count', 'beneficiary_cc_afib_percent',\n",
    "       'beneficiary_cc_alzrdsd_percent', 'beneficiary_cc_asthma_percent',\n",
    "       'beneficiary_cc_cancer_percent', 'beneficiary_cc_chf_percent',\n",
    "       'beneficiary_cc_ckd_percent', 'beneficiary_cc_copd_percent',\n",
    "       'beneficiary_cc_depr_percent', 'beneficiary_cc_diab_percent',\n",
    "       'beneficiary_cc_hyperl_percent', 'beneficiary_cc_hypert_percent',\n",
    "       'beneficiary_cc_ihd_percent', 'beneficiary_cc_ost_percent',\n",
    "       'beneficiary_cc_raoa_percent', 'beneficiary_cc_schiot_percent',\n",
    "       'beneficiary_cc_strk_percent', 'beneficiary_average_risk_score']))"
   ]
  },
  {
   "cell_type": "markdown",
   "metadata": {
    "deletable": false,
    "editable": false,
    "nbgrader": {
     "checksum": "a97c770e005c04d858a1255c9f8e3ed0",
     "grade": false,
     "grade_id": "02-intro",
     "locked": true,
     "schema_version": 1,
     "solution": false
    }
   },
   "source": [
    "## Part 2\n",
    "\n",
    "In this next part, we're going to join the **cms** data with the provider information in the **/data/nppes.csv** file.  In this join, we don't want to lose any records from teh **cms** files, even if no matching provider exists in the **nppes** file.  However, we don't care about any providers from the **nppes** file that don't have records in the **cms** files.  Those providers can be ignored.\n",
    "\n",
    "Join the data files together to create one unified data frame called `answer`.  This dataframe should have all the columns from both **cms** and **nppes** files, joined together using the `npi` column.  \n",
    "\n",
    "Note that `npi` is unique in the **nppes** file."
   ]
  },
  {
   "cell_type": "code",
   "execution_count": 87,
   "metadata": {
    "deletable": false,
    "nbgrader": {
     "checksum": "aa2e837c1d7595a8fe4dbb455444975d",
     "grade": false,
     "grade_id": "02-solution",
     "locked": false,
     "schema_version": 1,
     "solution": true
    }
   },
   "outputs": [],
   "source": [
    "answer = None\n",
    "\n",
    "# YOUR CODE HERE\n",
    "\n",
    "answer = cms.merge(nppes,how='left',left_on='npi',right_on='NPI')\n",
    "merged = answer"
   ]
  },
  {
   "cell_type": "code",
   "execution_count": 85,
   "metadata": {
    "deletable": false,
    "editable": false,
    "nbgrader": {
     "checksum": "993db7f1a12cca63c5bab7d8422b8831",
     "grade": true,
     "grade_id": "02-tests",
     "locked": true,
     "points": 5,
     "schema_version": 1,
     "solution": false
    }
   },
   "outputs": [],
   "source": [
    "import numpy\n",
    "assert(answer.shape == (193862, 103))\n",
    "assert(list(answer['Provider Business Mailing Address State Name'].unique()) == ['IL','MO',numpy.nan,'WY'])\n",
    "assert(list(answer.groupby('Provider Business Mailing Address State Name').NPI.count()) == [115234, 55105, 4968])"
   ]
  },
  {
   "cell_type": "markdown",
   "metadata": {
    "deletable": false,
    "editable": false,
    "nbgrader": {
     "checksum": "c466f86264cbaf32bc37777bb05ef807",
     "grade": false,
     "grade_id": "03-intro",
     "locked": true,
     "schema_version": 1,
     "solution": false
    }
   },
   "source": [
    "## Part 3\n",
    "\n",
    "If you did everything right above, you'll notice that grouping by a column with NaN in it will cause some rows to disappear from the aggregation test.  So, let's create a new column called `'State'` that has the same value as whatever is in the `'Provider Business Mailing Address State Name'` column or a value of `'XX'` if there is no state information.\n",
    "\n",
    "Set `answer` to be your final data frame with the new `'State'` column added."
   ]
  },
  {
   "cell_type": "code",
   "execution_count": 103,
   "metadata": {
    "deletable": false,
    "nbgrader": {
     "checksum": "bba84cc961054f262787bd51dc49b6c1",
     "grade": false,
     "grade_id": "03-solution",
     "locked": false,
     "schema_version": 1,
     "solution": true
    }
   },
   "outputs": [],
   "source": [
    "answer = None\n",
    "\n",
    "# YOUR CODE HERE\n",
    "merged['State'] = merged['Provider Business Mailing Address State Name']\n",
    "\n",
    "import numpy as np\n",
    "\n",
    "merged['State'] = merged['State'].replace(np.nan,'XX')\n",
    "\n",
    "answer = merged"
   ]
  },
  {
   "cell_type": "code",
   "execution_count": 104,
   "metadata": {
    "deletable": false,
    "editable": false,
    "nbgrader": {
     "checksum": "279a3bdfede5fea982bb0d0a3d6963e9",
     "grade": true,
     "grade_id": "03-tests",
     "locked": true,
     "points": 5,
     "schema_version": 1,
     "solution": false
    }
   },
   "outputs": [],
   "source": [
    "assert(list(answer.groupby('State').npi.count()) == [115234, 55105, 4968, 18555])\n",
    "assert(answer.shape == (193862, 104))"
   ]
  },
  {
   "cell_type": "markdown",
   "metadata": {
    "deletable": false,
    "editable": false,
    "nbgrader": {
     "checksum": "218268253ee788c06cb5ed034e9a472e",
     "grade": false,
     "grade_id": "04-intro",
     "locked": true,
     "schema_version": 1,
     "solution": false
    }
   },
   "source": [
    "## Part 4\n",
    "\n",
    "Next, let's summarize the data by year and by State.  Create a pivot table that contains one row for each state and one column for each year.  Within the pivot table, put a sum of total services as the values.\n",
    "\n",
    "Assign `answer` to be that resulting pivot table.  In the tests, I'm going to plot a bar chart of your pivot table."
   ]
  },
  {
   "cell_type": "code",
   "execution_count": 113,
   "metadata": {
    "deletable": false,
    "nbgrader": {
     "checksum": "7a4ddbc0bcdcc7ee833f924bb273a1c2",
     "grade": false,
     "grade_id": "04-solution",
     "locked": false,
     "schema_version": 1,
     "solution": true
    }
   },
   "outputs": [],
   "source": [
    "%matplotlib inline\n",
    "answer = None\n",
    "\n",
    "# YOUR CODE HERE\n",
    "by_state = merged.pivot_table(\n",
    "            values='total_services', \n",
    "            index='State', \n",
    "            columns='year', \n",
    "            aggfunc=np.sum, \n",
    "            fill_value=0)\n",
    "\n",
    "answer = by_state"
   ]
  },
  {
   "cell_type": "code",
   "execution_count": 114,
   "metadata": {},
   "outputs": [
    {
     "data": {
      "text/html": [
       "<div>\n",
       "<style scoped>\n",
       "    .dataframe tbody tr th:only-of-type {\n",
       "        vertical-align: middle;\n",
       "    }\n",
       "\n",
       "    .dataframe tbody tr th {\n",
       "        vertical-align: top;\n",
       "    }\n",
       "\n",
       "    .dataframe thead th {\n",
       "        text-align: right;\n",
       "    }\n",
       "</style>\n",
       "<table border=\"1\" class=\"dataframe\">\n",
       "  <thead>\n",
       "    <tr style=\"text-align: right;\">\n",
       "      <th>year</th>\n",
       "      <th>2014</th>\n",
       "      <th>2015</th>\n",
       "      <th>2016</th>\n",
       "    </tr>\n",
       "    <tr>\n",
       "      <th>State</th>\n",
       "      <th></th>\n",
       "      <th></th>\n",
       "      <th></th>\n",
       "    </tr>\n",
       "  </thead>\n",
       "  <tbody>\n",
       "    <tr>\n",
       "      <th>IL</th>\n",
       "      <td>101429830.4</td>\n",
       "      <td>103700835.4</td>\n",
       "      <td>107138154.3</td>\n",
       "    </tr>\n",
       "    <tr>\n",
       "      <th>MO</th>\n",
       "      <td>48583834.1</td>\n",
       "      <td>51085939.0</td>\n",
       "      <td>51682066.9</td>\n",
       "    </tr>\n",
       "    <tr>\n",
       "      <th>WY</th>\n",
       "      <td>3487642.6</td>\n",
       "      <td>3832981.2</td>\n",
       "      <td>3704994.2</td>\n",
       "    </tr>\n",
       "    <tr>\n",
       "      <th>XX</th>\n",
       "      <td>14895555.4</td>\n",
       "      <td>15572112.8</td>\n",
       "      <td>14071718.4</td>\n",
       "    </tr>\n",
       "  </tbody>\n",
       "</table>\n",
       "</div>"
      ],
      "text/plain": [
       "year          2014         2015         2016\n",
       "State                                       \n",
       "IL     101429830.4  103700835.4  107138154.3\n",
       "MO      48583834.1   51085939.0   51682066.9\n",
       "WY       3487642.6    3832981.2    3704994.2\n",
       "XX      14895555.4   15572112.8   14071718.4"
      ]
     },
     "execution_count": 114,
     "metadata": {},
     "output_type": "execute_result"
    }
   ],
   "source": [
    "by_state.head()"
   ]
  },
  {
   "cell_type": "code",
   "execution_count": 115,
   "metadata": {
    "deletable": false,
    "editable": false,
    "nbgrader": {
     "checksum": "ed97c7ee477433e97a0f34a8da003e15",
     "grade": true,
     "grade_id": "04-tests",
     "locked": true,
     "points": 5,
     "schema_version": 1,
     "solution": false
    }
   },
   "outputs": [],
   "source": [
    "assert(answer.shape == (4,3))\n",
    "assert(answer.sum().sum() == 519185664.7)\n",
    "assert(answer[2016].sum() == 176596933.8)\n",
    "assert(answer.loc['WY'].sum() == 11025618.0)"
   ]
  },
  {
   "cell_type": "code",
   "execution_count": 116,
   "metadata": {},
   "outputs": [
    {
     "data": {
      "text/plain": [
       "<matplotlib.axes._subplots.AxesSubplot at 0x7f8a58d51cf8>"
      ]
     },
     "execution_count": 116,
     "metadata": {},
     "output_type": "execute_result"
    },
    {
     "data": {
      "image/png": "[encoded data removed]",
      "text/plain": [
       "<Figure size 432x288 with 1 Axes>"
      ]
     },
     "metadata": {
      "needs_background": "light"
     },
     "output_type": "display_data"
    }
   ],
   "source": [
    "%matplotlib inline\n",
    "answer.plot.bar()"
   ]
  },
  {
   "cell_type": "code",
   "execution_count": null,
   "metadata": {},
   "outputs": [],
   "source": []
  }
 ],
 "metadata": {
  "kernelspec": {
   "display_name": "Python 3",
   "language": "python",
   "name": "python3"
  },
  "language_info": {
   "codemirror_mode": {
    "name": "ipython",
    "version": 3
   },
   "file_extension": ".py",
   "mimetype": "text/x-python",
   "name": "python",
   "nbconvert_exporter": "python",
   "pygments_lexer": "ipython3",
   "version": "3.7.2"
  }
 },
 "nbformat": 4,
 "nbformat_minor": 2
}
