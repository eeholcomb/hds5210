{
 "cells": [
  {
   "cell_type": "markdown",
   "metadata": {},
   "source": [
    "Before you turn this problem in, make sure everything runs as expected. First, **restart the kernel** (in the menubar, select Kernel$\\rightarrow$Restart) and then **run all cells** (in the menubar, select Cell$\\rightarrow$Run All).\n",
    "\n",
    "Make sure you fill in any place that says `YOUR CODE HERE` or \"YOUR ANSWER HERE\", as well as your name and collaborators below:"
   ]
  },
  {
   "cell_type": "code",
   "execution_count": null,
   "metadata": {},
   "outputs": [],
   "source": [
    "NAME = \"\"\n",
    "COLLABORATORS = \"\""
   ]
  },
  {
   "cell_type": "markdown",
   "metadata": {},
   "source": [
    "---"
   ]
  },
  {
   "cell_type": "code",
   "execution_count": 12,
   "metadata": {},
   "outputs": [],
   "source": [
    "ed_visits = [\n",
    "    { \n",
    "        '_id': 'bjh-2016',\n",
    "        'hospital' : {\n",
    "            'name': 'BJH',\n",
    "            'city': 'St. Louis',\n",
    "            'beds': 1243,\n",
    "            'services': ['IP','OP','ED','Clinic'],\n",
    "            'system': {\n",
    "                'name': 'BJC',\n",
    "                'affiliation': 'Non-Religious'\n",
    "            }\n",
    "        },\n",
    "        'year': 2016,\n",
    "        'ed_visits': 72348\n",
    "    },\n",
    "    { \n",
    "        '_id': 'bjh-2017',\n",
    "        'hospital' : {\n",
    "            'name': 'BJH',\n",
    "            'city': 'St. Louis',\n",
    "            'beds': 1243,\n",
    "            'services': ['IP','OP','ED','Clinic'],\n",
    "            'system': {\n",
    "                'name': 'BJC',\n",
    "                'affiliation': 'Non-Religious'\n",
    "            }\n",
    "        },\n",
    "        'year': 2017,\n",
    "        'ed_visits': 81221\n",
    "    },\n",
    "    { \n",
    "        '_id': 'mobap-2016',\n",
    "        'hospital' : {\n",
    "            'name': 'MoBap',\n",
    "            'city': 'Ladue',\n",
    "            'beds': 443,\n",
    "            'services': ['IP','OP','ED','Clinic'],\n",
    "            'system': {\n",
    "                'name': 'BJC',\n",
    "                'affiliation': 'Non-Religious'\n",
    "            }\n",
    "        },\n",
    "        'year': 2016,\n",
    "        'ed_visits': 42983\n",
    "    },\n",
    "    { \n",
    "        '_id': 'mobap-2017',\n",
    "        'hospital' : {\n",
    "            'name': 'MoBap',\n",
    "            'city': 'Ladue',\n",
    "            'beds': 443,\n",
    "            'services': ['IP','OP','ED','Clinic'],\n",
    "            'system': {\n",
    "                'name': 'BJC',\n",
    "                'affiliation': 'Non-Religious'\n",
    "            }\n",
    "        },\n",
    "        'year': 2017,\n",
    "        'ed_visits': 43921\n",
    "    },\n",
    "    { \n",
    "        '_id': 'mercystl-2016',\n",
    "        'hospital' : {\n",
    "            'name': 'Mercy STL',\n",
    "            'city': 'Ladue',\n",
    "            'beds': 1120,\n",
    "            'services': ['IP','OP','ED'],\n",
    "            'system': {\n",
    "                'name': 'Mercy',\n",
    "                'affiliation': 'Catholic'\n",
    "            }\n",
    "        },\n",
    "        'year': 2016,\n",
    "        'ed_visits': 51932\n",
    "    },\n",
    "    { \n",
    "        '_id': 'mercystl-2017',\n",
    "        'hospital' : {\n",
    "            'name': 'Mercy STL',\n",
    "            'city': 'Ladue',\n",
    "            'beds': 1120,\n",
    "            'services': ['IP','OP','ED'],\n",
    "            'system': {\n",
    "                'name': 'Mercy',\n",
    "                'affiliation': 'Catholic'\n",
    "            }\n",
    "        },\n",
    "        'year': 2017,\n",
    "        'ed_visits': 52221\n",
    "    }\n",
    "]"
   ]
  },
  {
   "cell_type": "code",
   "execution_count": 13,
   "metadata": {},
   "outputs": [],
   "source": [
    "import pymongo\n",
    "import sys"
   ]
  },
  {
   "cell_type": "code",
   "execution_count": 14,
   "metadata": {},
   "outputs": [],
   "source": [
    "user = 'slucor2019'\n",
    "password = 'SLUcor2019'\n",
    "client = pymongo.MongoClient('mongodb://' + \n",
    "     user + ':' + \n",
    "     password + \n",
    "     '@slucor-2019.cgdcoitnku0k.us-east-1.docdb.amazonaws.com:27017/?ssl=true&sslAllowInvalidHostnames=true&ssl_ca_certs=/pem/rds-combined-ca-bundle.pem'\n",
    ")"
   ]
  },
  {
   "cell_type": "code",
   "execution_count": 19,
   "metadata": {},
   "outputs": [],
   "source": [
    "db = client.test"
   ]
  },
  {
   "cell_type": "code",
   "execution_count": 20,
   "metadata": {},
   "outputs": [
    {
     "data": {
      "text/plain": [
       "Database(MongoClient(host=['slucor-2019.cgdcoitnku0k.us-east-1.docdb.amazonaws.com:27017'], document_class=dict, tz_aware=False, connect=True, ssl=True, ssl_ca_certs='/pem/rds-combined-ca-bundle.pem'), 'test')"
      ]
     },
     "execution_count": 20,
     "metadata": {},
     "output_type": "execute_result"
    }
   ],
   "source": [
    "db"
   ]
  },
  {
   "cell_type": "code",
   "execution_count": 21,
   "metadata": {},
   "outputs": [],
   "source": [
    "docs = db.ed_vists"
   ]
  },
  {
   "cell_type": "code",
   "execution_count": 22,
   "metadata": {},
   "outputs": [
    {
     "data": {
      "text/plain": [
       "Collection(Database(MongoClient(host=['slucor-2019.cgdcoitnku0k.us-east-1.docdb.amazonaws.com:27017'], document_class=dict, tz_aware=False, connect=True, ssl=True, ssl_ca_certs='/pem/rds-combined-ca-bundle.pem'), 'test'), 'ed_vists')"
      ]
     },
     "execution_count": 22,
     "metadata": {},
     "output_type": "execute_result"
    }
   ],
   "source": [
    "docs"
   ]
  },
  {
   "cell_type": "code",
   "execution_count": 23,
   "metadata": {},
   "outputs": [
    {
     "data": {
      "text/plain": [
       "<pymongo.results.DeleteResult at 0x7f3fd62ef888>"
      ]
     },
     "execution_count": 23,
     "metadata": {},
     "output_type": "execute_result"
    }
   ],
   "source": [
    "docs.delete_many({})"
   ]
  },
  {
   "cell_type": "code",
   "execution_count": 24,
   "metadata": {},
   "outputs": [
    {
     "data": {
      "text/plain": [
       "0"
      ]
     },
     "execution_count": 24,
     "metadata": {},
     "output_type": "execute_result"
    }
   ],
   "source": [
    "docs.count_documents({})"
   ]
  },
  {
   "cell_type": "code",
   "execution_count": 25,
   "metadata": {},
   "outputs": [],
   "source": [
    "for d in ed_visits:\n",
    "    docs.insert_one(d)"
   ]
  },
  {
   "cell_type": "code",
   "execution_count": 26,
   "metadata": {},
   "outputs": [
    {
     "data": {
      "text/plain": [
       "6"
      ]
     },
     "execution_count": 26,
     "metadata": {},
     "output_type": "execute_result"
    }
   ],
   "source": [
    "docs.count_documents({})"
   ]
  },
  {
   "cell_type": "code",
   "execution_count": 27,
   "metadata": {},
   "outputs": [
    {
     "name": "stdout",
     "output_type": "stream",
     "text": [
      "bjh-2016\n",
      "bjh-2017\n",
      "mobap-2016\n",
      "mobap-2017\n",
      "mercystl-2016\n",
      "mercystl-2017\n"
     ]
    }
   ],
   "source": [
    "for d in docs.find({}):\n",
    "    print(d.get('_id'))"
   ]
  },
  {
   "cell_type": "code",
   "execution_count": null,
   "metadata": {},
   "outputs": [],
   "source": []
  }
 ],
 "metadata": {
  "kernelspec": {
   "display_name": "Python 3",
   "language": "python",
   "name": "python3"
  },
  "language_info": {
   "codemirror_mode": {
    "name": "ipython",
    "version": 3
   },
   "file_extension": ".py",
   "mimetype": "text/x-python",
   "name": "python",
   "nbconvert_exporter": "python",
   "pygments_lexer": "ipython3",
   "version": "3.7.2"
  }
 },
 "nbformat": 4,
 "nbformat_minor": 2
}
