{
 "cells": [
  {
   "cell_type": "markdown",
   "metadata": {},
   "source": [
    "Before you turn this problem in, make sure everything runs as expected. First, **restart the kernel** (in the menubar, select Kernel$\\rightarrow$Restart) and then **run all cells** (in the menubar, select Cell$\\rightarrow$Run All).\n",
    "\n",
    "Make sure you fill in any place that says `YOUR CODE HERE` or \"YOUR ANSWER HERE\", as well as your name and collaborators below:"
   ]
  },
  {
   "cell_type": "code",
   "execution_count": 1,
   "metadata": {},
   "outputs": [],
   "source": [
    "NAME = \"Emily Holcomb\"\n",
    "COLLABORATORS = \"\""
   ]
  },
  {
   "cell_type": "markdown",
   "metadata": {},
   "source": [
    "---"
   ]
  },
  {
   "cell_type": "markdown",
   "metadata": {
    "deletable": false,
    "editable": false,
    "nbgrader": {
     "checksum": "d77c3d90f083914bba91e8fed6e15205",
     "grade": false,
     "grade_id": "intro",
     "locked": true,
     "schema_version": 1,
     "solution": false
    }
   },
   "source": [
    "# Week 2 Exercises\n",
    "\n",
    "_McKinney 2.3_\n",
    "\n",
    "**In the exercises below, don't worry about the `def` and other things around the code you need to write.  If there is a skeleton of code already there, just put your code where it says \"your code here\"**"
   ]
  },
  {
   "cell_type": "markdown",
   "metadata": {
    "deletable": false,
    "editable": false,
    "nbgrader": {
     "checksum": "b048a43b6010ab1109f29ebd855376c7",
     "grade": false,
     "grade_id": "average",
     "locked": true,
     "schema_version": 1,
     "solution": false
    }
   },
   "source": [
    "## #1 NAND\n",
    "\n",
    "Inside of computer chips, it's often easier to do a logical operation called NAND (not and).  Write a function that takes two boolean parameters and returns the NAND of those values.  Here is the k-map for NAND:\n",
    "\n",
    "```\n",
    "NAND: \n",
    "\n",
    "        TRUE   FALSE\n",
    "TRUE    False  True\n",
    "FALSE   True   True\n",
    "```\n",
    "\n",
    "Include the four tests from the k-map in your docstring, and show the output of testing your function for correct operation using testmod() as demonstrated during class."
   ]
  },
  {
   "cell_type": "code",
   "execution_count": 2,
   "metadata": {
    "deletable": false,
    "nbgrader": {
     "checksum": "ff7873b25776ec0e2795f2d12fb8f08a",
     "grade": false,
     "grade_id": "average-answer",
     "locked": false,
     "schema_version": 1,
     "solution": true
    }
   },
   "outputs": [],
   "source": [
    "def nand(a, b):\n",
    "    \n",
    "    # YOUR CODE HERE\n",
    "    answer = not (a and b) \n",
    "    \n",
    "    return answer"
   ]
  },
  {
   "cell_type": "code",
   "execution_count": 3,
   "metadata": {
    "deletable": false,
    "editable": false,
    "nbgrader": {
     "checksum": "6023b2949fd1acbf5ccc525be55bc338",
     "grade": true,
     "grade_id": "average-tests",
     "locked": true,
     "points": 5,
     "schema_version": 1,
     "solution": false
    }
   },
   "outputs": [],
   "source": [
    "assert nand(True, True) == False\n",
    "assert nand(True, False) == True\n",
    "assert nand(False, True) == True\n",
    "assert nand(False, False) == True"
   ]
  },
  {
   "cell_type": "markdown",
   "metadata": {
    "deletable": false,
    "editable": false,
    "nbgrader": {
     "checksum": "bd9c5e0b07198b40ddaf73946ad8a68f",
     "grade": false,
     "grade_id": "bmi",
     "locked": true,
     "schema_version": 1,
     "solution": false
    }
   },
   "source": [
    "## #2 LACE Score\n",
    "There is a simple readmission index called the LACE Score: https://www.hindawi.com/journals/bmri/2015/169870/tab1/\n",
    "\n",
    "Use this documentation to create a function that can compute LACE scores based on the 4 input parameters.  Below is the function signature and documentation that you start with."
   ]
  },
  {
   "cell_type": "code",
   "execution_count": 4,
   "metadata": {
    "deletable": false,
    "nbgrader": {
     "checksum": "082d3058c58caf60fe8ba88dc91bc406",
     "grade": false,
     "grade_id": "bmi-answer",
     "locked": false,
     "schema_version": 1,
     "solution": true
    }
   },
   "outputs": [],
   "source": [
    "def LACE(length_of_stay, acute_flag, charlson, ed_visits):\n",
    "    \"\"\"(int, bool, int, int) -> int\n",
    "    This function uses the logic from https://www.hindawi.com/journals/bmri/2015/169870/tab1/\n",
    "    to compute the LACE score for this patient.\n",
    "    \n",
    "    >>> LACE(4, False, 1, 0)\n",
    "    5\n",
    "    \n",
    "    >>> LACE(4, True, 4, 7)\n",
    "    16\n",
    "    \n",
    "    \"\"\"\n",
    "    \n",
    "    # YOUR CODE HERE\n",
    "    score = 0\n",
    "    if length_of_stay >= 1:\n",
    "        if length_of_stay >= 14:\n",
    "            score = score + 7\n",
    "        elif 7 <= length_of_stay <= 13:\n",
    "            score = score + 5\n",
    "        elif 4 <= length_of_stay <= 6:\n",
    "            score = score + 4\n",
    "        elif length_of_stay == 3:\n",
    "            score = score + 3\n",
    "        elif length_of_stay == 2:\n",
    "            score = score + 2\n",
    "    else:\n",
    "        score = score + 1\n",
    "    if acute_flag:\n",
    "        score = score + 3\n",
    "    if charlson >=1:\n",
    "        if charlson >= 4:\n",
    "            score = score + 5\n",
    "        elif charlson == 3:\n",
    "            score = score + 3\n",
    "        elif charlson == 2:\n",
    "            score = score + 2\n",
    "    else:\n",
    "        score = score + 1\n",
    "    if ed_visits >= 1:\n",
    "        if ed_visits >= 4:\n",
    "            score = score + 4\n",
    "        if ed_visits == 3:\n",
    "            score = score + 3\n",
    "        if ed_visits == 2:\n",
    "            score = score + 2\n",
    "    else:\n",
    "        score = score + 1\n",
    "    \n",
    "    return score"
   ]
  },
  {
   "cell_type": "code",
   "execution_count": 5,
   "metadata": {},
   "outputs": [
    {
     "data": {
      "text/plain": [
       "16"
      ]
     },
     "execution_count": 5,
     "metadata": {},
     "output_type": "execute_result"
    }
   ],
   "source": [
    "LACE(4, True, 4, 7)"
   ]
  },
  {
   "cell_type": "code",
   "execution_count": 6,
   "metadata": {
    "deletable": false,
    "editable": false,
    "nbgrader": {
     "checksum": "ad2a5479fc927ab0bf62f8e643442004",
     "grade": true,
     "grade_id": "bmi-test",
     "locked": true,
     "points": 10,
     "schema_version": 1,
     "solution": false
    }
   },
   "outputs": [],
   "source": [
    "assert LACE(4, False, 1, 0) == 5\n",
    "assert LACE(4, True, 4, 7) == 16"
   ]
  },
  {
   "cell_type": "markdown",
   "metadata": {
    "deletable": false,
    "editable": false,
    "nbgrader": {
     "checksum": "6c6577a49b551b51324d433560ed437b",
     "grade": false,
     "grade_id": "weight",
     "locked": true,
     "schema_version": 1,
     "solution": false
    }
   },
   "source": [
    "## #3 Care Management Criteria\n",
    "\n",
    "Care managers use LACE as part of the criteria for assigning a care coodinator to a patient who has been recently discharged. If the score is above 10, then a care coordinator will be assigned. The other criteria they use is if the patient has been discharged with a diagnosis of CHF or COPD.  If the diagnosis field has CHF or COPD in it, then the patient will have a care coordinator assigned.\n",
    "\n",
    "For this exercise, write another function that takes the same inputs as LACE() plus another diagnosis parameter, and return True or False depending on if the paient needs a care coordinator.\n",
    "\n",
    "**NOTE** Pay attention to the fact that the order of parameters in this function definition are not the same as the order they were in the LACE score.  "
   ]
  },
  {
   "cell_type": "code",
   "execution_count": 7,
   "metadata": {
    "deletable": false,
    "nbgrader": {
     "checksum": "a47a0d9b14ee37cc235f0355cb5285c2",
     "grade": false,
     "grade_id": "weight-answer",
     "locked": false,
     "schema_version": 1,
     "solution": true
    }
   },
   "outputs": [],
   "source": [
    "def assign_care_coordinator(diagnosis_cd, ed_visits, length_of_stay, acute_flag, charlson):\n",
    "    \"\"\" (str, int, int, bool, int) -> bool\n",
    "    Care managers use LACE as part of the criteria for assigning a care coodinator to a \n",
    "    patient who has been recently discharged. If the score is above 10, then a care \n",
    "    coordinator will be assigned. The other criteria they use is if the patient has been \n",
    "    discharged with a diagnosis of CHF or COPD. If the diagnosis field has CHF or COPD in \n",
    "    it, then the patient will have a care coordinator assigned.\n",
    "    \n",
    "    >>> assign_care_coordinator('None', 0, 4, False, 1)\n",
    "    False\n",
    "\n",
    "    >>> assign_care_coordinator('CHF', 0, 4, False, 1)\n",
    "    True\n",
    "\n",
    "    >>> assign_care_coordinator('COPD', 0, 4, False, 1)\n",
    "    True\n",
    "\n",
    "    >>> assign_care_coordinator('None', 7, 4, True, 4)\n",
    "    True\n",
    "    \n",
    "    >>> assign_care_coordinator('CHF', 7, 4, True, 4)\n",
    "    True\n",
    "    \"\"\"\n",
    "    \n",
    "    # YOUR CODE HERE\n",
    "    score = 0\n",
    "    assignment = False\n",
    "    if length_of_stay >= 1:\n",
    "        if length_of_stay >= 14:\n",
    "            score = score + 7\n",
    "        elif 7 <= length_of_stay <= 13:\n",
    "            score = score + 5\n",
    "        elif 4 <= length_of_stay <= 6:\n",
    "            score = score + 4\n",
    "        elif length_of_stay == 3:\n",
    "            score = score + 3\n",
    "        elif length_of_stay == 2:\n",
    "            score = score + 2\n",
    "    else:\n",
    "        score = score + 1\n",
    "    if acute_flag:\n",
    "        score = score + 3\n",
    "    if charlson >=1:\n",
    "        if charlson >= 4:\n",
    "            score = score + 5\n",
    "        elif charlson == 3:\n",
    "            score = score + 3\n",
    "        elif charlson == 2:\n",
    "            score = score + 2\n",
    "    else:\n",
    "        score = score + 1\n",
    "    if ed_visits >= 1:\n",
    "        if ed_visits >= 4:\n",
    "            score = score + 4\n",
    "        if ed_visits == 3:\n",
    "            score = score + 3\n",
    "        if ed_visits == 2:\n",
    "            score = score + 2\n",
    "    else:\n",
    "        score = score + 1\n",
    "    \n",
    "    if score > 10 or diagnosis_cd != \"None\":\n",
    "        assignment = True\n",
    "        \n",
    "    return assignment"
   ]
  },
  {
   "cell_type": "code",
   "execution_count": 8,
   "metadata": {
    "deletable": false,
    "editable": false,
    "nbgrader": {
     "checksum": "df43f8083ded8c7c02c05a6e8fdec50c",
     "grade": true,
     "grade_id": "weight-tests",
     "locked": true,
     "points": 5,
     "schema_version": 1,
     "solution": false
    }
   },
   "outputs": [],
   "source": [
    "assert assign_care_coordinator('None', 0, 4, False, 1) == False\n",
    "assert assign_care_coordinator('CHF', 0, 4, False, 1) == True\n",
    "assert assign_care_coordinator('COPD', 0, 4, False, 1) == True\n",
    "assert assign_care_coordinator('None', 7, 4, True, 4) == True\n",
    "assert assign_care_coordinator('CHF', 7, 4, True, 4) == True"
   ]
  },
  {
   "cell_type": "code",
   "execution_count": null,
   "metadata": {},
   "outputs": [],
   "source": []
  }
 ],
 "metadata": {
  "kernelspec": {
   "display_name": "Python 3",
   "language": "python",
   "name": "python3"
  },
  "language_info": {
   "codemirror_mode": {
    "name": "ipython",
    "version": 3
   },
   "file_extension": ".py",
   "mimetype": "text/x-python",
   "name": "python",
   "nbconvert_exporter": "python",
   "pygments_lexer": "ipython3",
   "version": "3.7.1"
  }
 },
 "nbformat": 4,
 "nbformat_minor": 2
}
