{
 "cells": [
  {
   "cell_type": "markdown",
   "metadata": {},
   "source": [
    "Before you turn this problem in, make sure everything runs as expected. First, **restart the kernel** (in the menubar, select Kernel$\\rightarrow$Restart) and then **run all cells** (in the menubar, select Cell$\\rightarrow$Run All).\n",
    "\n",
    "Make sure you fill in any place that says `YOUR CODE HERE` or \"YOUR ANSWER HERE\", as well as your name and collaborators below:"
   ]
  },
  {
   "cell_type": "code",
   "execution_count": null,
   "metadata": {},
   "outputs": [],
   "source": [
    "NAME = \"Emily Holcomb\"\n",
    "COLLABORATORS = \"\""
   ]
  },
  {
   "cell_type": "markdown",
   "metadata": {},
   "source": [
    "---"
   ]
  },
  {
   "cell_type": "markdown",
   "metadata": {
    "deletable": false,
    "editable": false,
    "nbgrader": {
     "checksum": "cfc6bd78163c2f49713c6755a2762b75",
     "grade": false,
     "grade_id": "cell-2383392862c4516b",
     "locked": true,
     "schema_version": 1,
     "solution": false
    }
   },
   "source": [
    "# Instructions\n",
    "\n",
    "In the answer section below, select your answer to the following multiple choice questions by typing `answer = \"X\"` where `X` is the letter for the correct multiple choice answer."
   ]
  },
  {
   "cell_type": "markdown",
   "metadata": {
    "deletable": false,
    "editable": false,
    "nbgrader": {
     "checksum": "cb3359f8fb5618f663e312b6cb045ae2",
     "grade": false,
     "grade_id": "cell-74b195430328d81d",
     "locked": true,
     "schema_version": 1,
     "solution": false
    }
   },
   "source": [
    "## #1 Math\n",
    "\n",
    "What will be the output of the following lines of code?  (Yes, I know that you can easily copy and paste this into another notebook and run it.  Please try to reason through it!)\n",
    "\n",
    "```python\n",
    "temp_c = 100\n",
    "temp_f = temp_c * 9//5 + 32\n",
    "temp_f\n",
    "```\n",
    "\n",
    "> A) 212\n",
    ">\n",
    "> B) 132\n",
    ">\n",
    "> C) 32\n",
    "> \n",
    "> D) 98.6"
   ]
  },
  {
   "cell_type": "code",
   "execution_count": null,
   "metadata": {
    "deletable": false,
    "nbgrader": {
     "checksum": "4621b948c83a27b5368c170e5674f4f4",
     "grade": false,
     "grade_id": "cell-7eff6a222bd88fa0",
     "locked": false,
     "schema_version": 1,
     "solution": true
    }
   },
   "outputs": [],
   "source": [
    "def q01():\n",
    "    \n",
    "    # YOUR CODE HERE\n",
    "    answer = \"A\"\n",
    "    \n",
    "    return answer"
   ]
  },
  {
   "cell_type": "code",
   "execution_count": null,
   "metadata": {
    "deletable": false,
    "editable": false,
    "nbgrader": {
     "checksum": "c5c242a41e69683943aa80f230fa5639",
     "grade": true,
     "grade_id": "cell-71d7d61ddc7cd8a2",
     "locked": true,
     "points": 1,
     "schema_version": 1,
     "solution": false
    }
   },
   "outputs": [],
   "source": [
    "assert type(q01()) == str"
   ]
  },
  {
   "cell_type": "markdown",
   "metadata": {
    "deletable": false,
    "editable": false,
    "nbgrader": {
     "checksum": "788779e6dc30ae88e59c7dddaa5dc7e5",
     "grade": false,
     "grade_id": "cell-1e8407aa97b8c16f",
     "locked": true,
     "schema_version": 1,
     "solution": false
    }
   },
   "source": [
    "## #2 Higher-Level Math\n",
    "\n",
    "Which code represents the proper way to represent the mathematical expression $pi^2$ ?\n",
    "\n",
    "> A) `pi^2`\n",
    ">\n",
    "> B) `pi x pi`\n",
    ">\n",
    "> C) `pi ** 2`\n",
    ">\n",
    "> D| `pi | 2`"
   ]
  },
  {
   "cell_type": "code",
   "execution_count": null,
   "metadata": {
    "deletable": false,
    "nbgrader": {
     "checksum": "a94aeabf0f379ecf851a712f6b7cd963",
     "grade": false,
     "grade_id": "cell-5421f338f0f96d36",
     "locked": false,
     "schema_version": 1,
     "solution": true
    }
   },
   "outputs": [],
   "source": [
    "def q02():\n",
    "    \n",
    "    # YOUR CODE HERE\n",
    "    answer = \"C\"\n",
    "    \n",
    "    return answer"
   ]
  },
  {
   "cell_type": "code",
   "execution_count": null,
   "metadata": {
    "deletable": false,
    "editable": false,
    "nbgrader": {
     "checksum": "87f65863a7e91e9eb163cf3f589d805a",
     "grade": true,
     "grade_id": "cell-db4cf8b387a07b24",
     "locked": true,
     "points": 1,
     "schema_version": 1,
     "solution": false
    }
   },
   "outputs": [],
   "source": [
    "assert type(q02()) == str"
   ]
  },
  {
   "cell_type": "markdown",
   "metadata": {
    "deletable": false,
    "editable": false,
    "nbgrader": {
     "checksum": "3f3d871a283f597120b0109fafba1da7",
     "grade": false,
     "grade_id": "cell-7bb6914bdfd3a563",
     "locked": true,
     "schema_version": 1,
     "solution": false
    }
   },
   "source": [
    "## #3 Combining Data\n",
    "\n",
    "Which of the following is not a valid operation?\n",
    "\n",
    "> A) `'This is a ' + \"complete sentence.\"`\n",
    ">\n",
    "> B) `'She is ' + 93 + ' years old.'`\n",
    ">\n",
    "> C) `\"Repeat this! \" * 4`\n",
    ">\n",
    "> D) `3.14 * 7`"
   ]
  },
  {
   "cell_type": "code",
   "execution_count": 6,
   "metadata": {
    "deletable": false,
    "nbgrader": {
     "checksum": "7d789369f5ac59a7add32bac5408dc20",
     "grade": false,
     "grade_id": "cell-afd3553a028a91fb",
     "locked": false,
     "schema_version": 1,
     "solution": true
    }
   },
   "outputs": [],
   "source": [
    "def q03():\n",
    "    \n",
    "    # YOUR CODE HERE\n",
    "    answer = \"B\"\n",
    "    \n",
    "    return answer"
   ]
  },
  {
   "cell_type": "code",
   "execution_count": 7,
   "metadata": {
    "deletable": false,
    "editable": false,
    "nbgrader": {
     "checksum": "9a08b24831c5c6acc24a6c000b964e8b",
     "grade": true,
     "grade_id": "cell-d63f3eb2259c6cc9",
     "locked": true,
     "points": 1,
     "schema_version": 1,
     "solution": false
    }
   },
   "outputs": [],
   "source": [
    "assert type(q03()) == str"
   ]
  }
 ],
 "metadata": {
  "kernelspec": {
   "display_name": "Python 3",
   "language": "python",
   "name": "python3"
  },
  "language_info": {
   "codemirror_mode": {
    "name": "ipython",
    "version": 3
   },
   "file_extension": ".py",
   "mimetype": "text/x-python",
   "name": "python",
   "nbconvert_exporter": "python",
   "pygments_lexer": "ipython3",
   "version": "3.7.1"
  }
 },
 "nbformat": 4,
 "nbformat_minor": 2
}
