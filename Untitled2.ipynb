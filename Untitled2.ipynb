{
 "cells": [
  {
   "cell_type": "code",
   "execution_count": 38,
   "metadata": {},
   "outputs": [],
   "source": [
    "    names = [\n",
    "             ['Boal', 'Paul'],\n",
    "             ['Duck', 'Donald'],\n",
    "             ['Duck', 'Daisy'],\n",
    "             ['Boal', 'Ada'],\n",
    "             ['Boal', 'Teddy'],\n",
    "             ['Westhus', 'Eric']\n",
    "            ]"
   ]
  },
  {
   "cell_type": "code",
   "execution_count": 45,
   "metadata": {},
   "outputs": [
    {
     "name": "stdout",
     "output_type": "stream",
     "text": [
      "{'Boal': 'Paul'}\n",
      "{'Boal': 'Paul', 'Duck': 'Donald'}\n",
      "{'Boal': 'Paul', 'Duck': 'Donald'}\n",
      "{'Boal': 'Paul', 'Duck': 'Donald'}\n",
      "{'Boal': 'Paul', 'Duck': 'Donald'}\n",
      "{'Boal': 'Paul', 'Duck': 'Donald', 'Westhus': 'Eric'}\n"
     ]
    }
   ],
   "source": [
    "families = {}\n",
    "\n",
    "for last, first in names:\n",
    "    if last not in families:\n",
    "        families[last]=(first)\n",
    "    \n",
    "    print(families)"
   ]
  },
  {
   "cell_type": "code",
   "execution_count": 55,
   "metadata": {},
   "outputs": [],
   "source": [
    "families = {last: [first] for last, first in names}"
   ]
  },
  {
   "cell_type": "code",
   "execution_count": 56,
   "metadata": {},
   "outputs": [
    {
     "data": {
      "text/plain": [
       "{'Boal': ['Teddy'], 'Duck': ['Donald'], 'Westhus': ['Eric']}"
      ]
     },
     "execution_count": 56,
     "metadata": {},
     "output_type": "execute_result"
    }
   ],
   "source": [
    "families"
   ]
  },
  {
   "cell_type": "code",
   "execution_count": 53,
   "metadata": {},
   "outputs": [],
   "source": [
    "names.sort()"
   ]
  },
  {
   "cell_type": "code",
   "execution_count": 54,
   "metadata": {},
   "outputs": [
    {
     "data": {
      "text/plain": [
       "[['Boal', 'Ada'],\n",
       " ['Boal', 'Paul'],\n",
       " ['Boal', 'Teddy'],\n",
       " ['Duck', 'Daisy'],\n",
       " ['Duck', 'Donald'],\n",
       " ['Westhus', 'Eric']]"
      ]
     },
     "execution_count": 54,
     "metadata": {},
     "output_type": "execute_result"
    }
   ],
   "source": [
    "names"
   ]
  },
  {
   "cell_type": "code",
   "execution_count": 57,
   "metadata": {},
   "outputs": [],
   "source": [
    "dict?"
   ]
  },
  {
   "cell_type": "code",
   "execution_count": 59,
   "metadata": {},
   "outputs": [],
   "source": [
    "families = {}\n",
    "\n",
    "for last, first in names:\n",
    "    families[last]=first"
   ]
  },
  {
   "cell_type": "code",
   "execution_count": 60,
   "metadata": {},
   "outputs": [
    {
     "data": {
      "text/plain": [
       "{'Boal': 'Teddy', 'Duck': 'Donald', 'Westhus': 'Eric'}"
      ]
     },
     "execution_count": 60,
     "metadata": {},
     "output_type": "execute_result"
    }
   ],
   "source": [
    "families"
   ]
  },
  {
   "cell_type": "code",
   "execution_count": 67,
   "metadata": {},
   "outputs": [
    {
     "name": "stdout",
     "output_type": "stream",
     "text": [
      "{'Boal': ['Ada', 'Paul', 'Teddy'], 'Duck': ['Daisy', 'Donald'], 'Westhus': ['Eric']}\n"
     ]
    }
   ],
   "source": [
    "families = {}\n",
    "\n",
    "for name in names:\n",
    "    if name[0] in families:\n",
    "        families[name[0]].append(name[1])\n",
    "    else:\n",
    "        families[name[0]] = [name[1]]\n",
    "        \n",
    "print(families)"
   ]
  },
  {
   "cell_type": "code",
   "execution_count": null,
   "metadata": {},
   "outputs": [],
   "source": []
  }
 ],
 "metadata": {
  "kernelspec": {
   "display_name": "Python 3",
   "language": "python",
   "name": "python3"
  },
  "language_info": {
   "codemirror_mode": {
    "name": "ipython",
    "version": 3
   },
   "file_extension": ".py",
   "mimetype": "text/x-python",
   "name": "python",
   "nbconvert_exporter": "python",
   "pygments_lexer": "ipython3",
   "version": "3.7.1"
  }
 },
 "nbformat": 4,
 "nbformat_minor": 2
}
