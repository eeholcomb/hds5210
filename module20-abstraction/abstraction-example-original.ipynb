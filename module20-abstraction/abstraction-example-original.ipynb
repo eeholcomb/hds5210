{
 "cells": [
  {
   "cell_type": "markdown",
   "metadata": {},
   "source": [
    "Before you turn this problem in, make sure everything runs as expected. First, **restart the kernel** (in the menubar, select Kernel$\\rightarrow$Restart) and then **run all cells** (in the menubar, select Cell$\\rightarrow$Run All).\n",
    "\n",
    "Make sure you fill in any place that says `YOUR CODE HERE` or \"YOUR ANSWER HERE\", as well as your name and collaborators below:"
   ]
  },
  {
   "cell_type": "code",
   "execution_count": null,
   "metadata": {},
   "outputs": [],
   "source": [
    "NAME = \"\"\n",
    "COLLABORATORS = \"\""
   ]
  },
  {
   "cell_type": "markdown",
   "metadata": {},
   "source": [
    "---"
   ]
  },
  {
   "cell_type": "markdown",
   "metadata": {},
   "source": [
    "# Before Abstraction"
   ]
  },
  {
   "cell_type": "code",
   "execution_count": null,
   "metadata": {},
   "outputs": [],
   "source": [
    "from datetime import date\n",
    "\n",
    "E1234_admit      = date(2019,1,3)\n",
    "E1234_diagnosis  = 'COPD'\n",
    "E1234_discharge  = date(2019,1,8)\n",
    "\n",
    "E8342_admit      = date(2019,1,5)\n",
    "E8342_diagnosis  = 'Hypertension'\n",
    "E8342_discharge  = date(2019,1,9)\n",
    "\n",
    "E9231_admit      = date(2019,1,12)\n",
    "E9231_diagnosis  = 'Anxiety'\n",
    "E9231_discharge  = date(2019,1,13)"
   ]
  },
  {
   "cell_type": "code",
   "execution_count": null,
   "metadata": {},
   "outputs": [],
   "source": [
    "E1234_los = (E1234_discharge - E1234_admit).days\n",
    "E8342_los = (E8342_discharge - E8342_admit).days\n",
    "E9231_los = (E9231_discharge - E9231_admit).days"
   ]
  },
  {
   "cell_type": "code",
   "execution_count": null,
   "metadata": {},
   "outputs": [],
   "source": [
    "average_los = (E1234_los + E8342_los + E9231_los) / 3"
   ]
  },
  {
   "cell_type": "code",
   "execution_count": null,
   "metadata": {},
   "outputs": [],
   "source": [
    "average_los"
   ]
  },
  {
   "cell_type": "markdown",
   "metadata": {},
   "source": [
    "# After Abstraction"
   ]
  },
  {
   "cell_type": "code",
   "execution_count": null,
   "metadata": {},
   "outputs": [],
   "source": [
    "my_encounters = [\n",
    "    {'id': 'E1234', 'admit': date(2019,1,3),  'diagnosis': 'COPD',         'discharge':date(2019,1,8), 'patient': 'Boal' },\n",
    "    {'id': 'E8342', 'admit': date(2019,1,5),  'diagnosis': 'Hypertension', 'discharge':date(2019,1,9), 'first_name': 'Gene'  },\n",
    "    {'id': 'E9231', 'admit': date(2019,1,12), 'diagnosis': 'Anxiety',      'discharge':date(2019,1,13), 'location': 'Our hospital' }\n",
    "]"
   ]
  },
  {
   "cell_type": "code",
   "execution_count": null,
   "metadata": {},
   "outputs": [],
   "source": [
    "def los(admit, discharge):\n",
    "    \"\"\"(date, date) -> int\n",
    "    Computes the number of whole days between the admit and discharge dates.\n",
    "    \n",
    "    >>> los(date(2019,1,1), date(2019,1,6))\n",
    "    5\n",
    "    \"\"\"\n",
    "    return (discharge - admit).days"
   ]
  },
  {
   "cell_type": "code",
   "execution_count": null,
   "metadata": {},
   "outputs": [],
   "source": [
    "def average_los(encounters):\n",
    "    \"\"\"(list) -> float\n",
    "    Returns the average of the LOS for the encounters in the provided list.\n",
    "    The encounters must be a list of dictionaries that each contain at least an admit date\n",
    "    and discharge date.\n",
    "    \"\"\"\n",
    "    total_los = 0\n",
    "    total_encounters = len(encounters)\n",
    "    \n",
    "    if total_encounters == 0:\n",
    "        return 0\n",
    "    \n",
    "    for enc in encounters:\n",
    "        total_los += los(enc['admit'], enc['discharge'])\n",
    "    \n",
    "    return total_los / total_encounters"
   ]
  },
  {
   "cell_type": "code",
   "execution_count": null,
   "metadata": {},
   "outputs": [],
   "source": [
    "average_los(my_encounters)"
   ]
  },
  {
   "cell_type": "markdown",
   "metadata": {},
   "source": [
    "# Let's change how LOS is calculated!\n",
    "\n",
    "The new rule is that any encounter with a diagnosis code of simply `'observation'` should give an LOS of 0.\n",
    "\n",
    "AND any encounters with an LOS of 0 should not count toward the average LOS."
   ]
  },
  {
   "cell_type": "code",
   "execution_count": null,
   "metadata": {},
   "outputs": [],
   "source": []
  }
 ],
 "metadata": {
  "kernelspec": {
   "display_name": "Python 3",
   "language": "python",
   "name": "python3"
  },
  "language_info": {
   "codemirror_mode": {
    "name": "ipython",
    "version": 3
   },
   "file_extension": ".py",
   "mimetype": "text/x-python",
   "name": "python",
   "nbconvert_exporter": "python",
   "pygments_lexer": "ipython3",
   "version": "3.7.1"
  }
 },
 "nbformat": 4,
 "nbformat_minor": 2
}
