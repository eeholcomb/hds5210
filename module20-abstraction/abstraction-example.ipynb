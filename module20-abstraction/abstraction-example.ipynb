{
 "cells": [
  {
   "cell_type": "markdown",
   "metadata": {},
   "source": [
    "Before you turn this problem in, make sure everything runs as expected. First, **restart the kernel** (in the menubar, select Kernel$\\rightarrow$Restart) and then **run all cells** (in the menubar, select Cell$\\rightarrow$Run All).\n",
    "\n",
    "Make sure you fill in any place that says `YOUR CODE HERE` or \"YOUR ANSWER HERE\", as well as your name and collaborators below:"
   ]
  },
  {
   "cell_type": "code",
   "execution_count": null,
   "metadata": {},
   "outputs": [],
   "source": [
    "NAME = \"\"\n",
    "COLLABORATORS = \"\""
   ]
  },
  {
   "cell_type": "markdown",
   "metadata": {},
   "source": [
    "---"
   ]
  },
  {
   "cell_type": "markdown",
   "metadata": {},
   "source": [
    "# Before Abstraction"
   ]
  },
  {
   "cell_type": "code",
   "execution_count": null,
   "metadata": {},
   "outputs": [],
   "source": [
    "from datetime import date\n",
    "\n",
    "E1234_admit      = date(2019,1,3)\n",
    "E1234_diagnosis  = 'COPD'\n",
    "E1234_discharge  = date(2019,1,8)\n",
    "\n",
    "E8342_admit      = date(2019,1,5)\n",
    "E8342_diagnosis  = 'Hypertension'\n",
    "E8342_discharge  = date(2019,1,9)\n",
    "\n",
    "E9231_admit      = date(2019,1,12)\n",
    "E9231_diagnosis  = 'Anxiety'\n",
    "E9231_discharge  = date(2019,1,13)\n",
    "\n",
    "E8723_admit      = date(2019,1,22)\n",
    "E8723_diagnosis  = 'Observation'\n",
    "E8723_discharge  = date(2019,1,25)"
   ]
  },
  {
   "cell_type": "code",
   "execution_count": null,
   "metadata": {},
   "outputs": [],
   "source": [
    "if E1234_diagnosis == 'Observation':\n",
    "    E1234_los = 0\n",
    "else:\n",
    "    E1234_los = (E1234_discharge - E1234_admit).days\n",
    "\n",
    "if E8342_diagnosis == 'Observation':\n",
    "    E8342_los = 0\n",
    "else:\n",
    "    E8342_los = (E8342_discharge - E8342_admit).days\n",
    "    \n",
    "    ...\n",
    "E9231_los = (E9231_discharge - E9231_admit).days\n",
    "E8723_los = (E8723_discharge - E8723_admit).days"
   ]
  },
  {
   "cell_type": "code",
   "execution_count": null,
   "metadata": {},
   "outputs": [],
   "source": [
    "E_counter = 0\n",
    "if E1234_los > 0:\n",
    "    E_counter += 1\n",
    "if E8342_log > 0:\n",
    "    E_counter += 1\n",
    "    \n",
    "    ...\n",
    "    \n",
    "average_los = (E1234_los + E8342_los + E9231_los + E8723_los) / E_counter"
   ]
  },
  {
   "cell_type": "code",
   "execution_count": null,
   "metadata": {},
   "outputs": [],
   "source": [
    "average_los"
   ]
  },
  {
   "cell_type": "markdown",
   "metadata": {},
   "source": [
    "# After Abstraction"
   ]
  },
  {
   "cell_type": "code",
   "execution_count": null,
   "metadata": {},
   "outputs": [],
   "source": [
    "from datetime import date\n",
    "\n",
    "my_encounters = [\n",
    "    {'id': 'E1234', 'admit': date(2019,1,3),  'diagnosis': 'COPD',         'discharge':date(2019,1,8), 'patient': 'Boal' },\n",
    "    {'id': 'E8342', 'admit': date(2019,1,5),  'diagnosis': 'Hypertension', 'discharge':date(2019,1,9), 'first_name': 'Gene'  },\n",
    "    {'id': 'E9231', 'admit': date(2019,1,12), 'diagnosis': 'Anxiety',      'discharge':date(2019,1,13), 'location': 'Our hospital' },\n",
    "    {'id': 'E8723', 'admit': date(2019,1,22), 'diagnosis': 'Observation',  'discharge':date(2019,1,25)}\n",
    "]"
   ]
  },
  {
   "cell_type": "code",
   "execution_count": null,
   "metadata": {},
   "outputs": [],
   "source": [
    "def los(discharge, admit, diagnosis='No Diagnosis'):\n",
    "    \"\"\"(date, date) -> int\n",
    "    This function computes the length of stay in days for the given\n",
    "    discharge and admit dates.  If the diagnosis is 'Observation'\n",
    "    then return 0 days.\n",
    "    \n",
    "    >>> los(date(2019,1,8), date(2019,1,5))\n",
    "    3\n",
    "    \n",
    "    >>> los(date(2019,1,8), date(2019,1,5), 'Observation')\n",
    "    0\n",
    "    \"\"\"\n",
    "    if diagnosis == 'Observation':\n",
    "        return 0\n",
    "    else:\n",
    "        return (discharge - admit).days"
   ]
  },
  {
   "cell_type": "code",
   "execution_count": null,
   "metadata": {},
   "outputs": [],
   "source": [
    "def average_los(encounters):\n",
    "    \"\"\"(list) -> float\n",
    "    This function computes the average length of stay for a list\n",
    "    of encounters.  Each encounter must be a dictionary with at \n",
    "    least two keys: discharge and admit for the corresponding \n",
    "    discharge date and admission date.\n",
    "    \n",
    "    Any encounter with a length of stay of 0 will not be included\n",
    "    in the average lenght of stay.\n",
    "    \"\"\"\n",
    "    \n",
    "    total_los = 0\n",
    "    total_encounters = 0\n",
    "    \n",
    "    for enc in encounters:\n",
    "        enc_los = los(enc['discharge'], enc['admit'], enc['diagnosis'])\n",
    "        total_los += enc_los\n",
    "        if enc_los != 0:\n",
    "            total_encounters += 1\n",
    "        \n",
    "    return total_los / total_encounters"
   ]
  },
  {
   "cell_type": "code",
   "execution_count": null,
   "metadata": {},
   "outputs": [],
   "source": [
    "average_los(my_encounters)"
   ]
  },
  {
   "cell_type": "markdown",
   "metadata": {},
   "source": [
    "# Let's change how LOS is calculated!\n",
    "\n",
    "The new rule is that any encounter with a diagnosis code of simply `'observation'` should give an LOS of 0.\n",
    "\n",
    "AND any encounters with an LOS of 0 should not count toward the average LOS."
   ]
  },
  {
   "cell_type": "code",
   "execution_count": null,
   "metadata": {},
   "outputs": [],
   "source": []
  }
 ],
 "metadata": {
  "kernelspec": {
   "display_name": "Python 3",
   "language": "python",
   "name": "python3"
  },
  "language_info": {
   "codemirror_mode": {
    "name": "ipython",
    "version": 3
   },
   "file_extension": ".py",
   "mimetype": "text/x-python",
   "name": "python",
   "nbconvert_exporter": "python",
   "pygments_lexer": "ipython3",
   "version": "3.7.1"
  }
 },
 "nbformat": 4,
 "nbformat_minor": 2
}
