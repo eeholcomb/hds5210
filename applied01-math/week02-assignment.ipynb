{
 "cells": [
  {
   "cell_type": "markdown",
   "metadata": {},
   "source": [
    "Before you turn this problem in, make sure everything runs as expected. First, **restart the kernel** (in the menubar, select Kernel$\\rightarrow$Restart) and then **run all cells** (in the menubar, select Cell$\\rightarrow$Run All).\n",
    "\n",
    "Make sure you fill in any place that says `YOUR CODE HERE` or \"YOUR ANSWER HERE\", as well as your name and collaborators below:"
   ]
  },
  {
   "cell_type": "code",
   "execution_count": null,
   "metadata": {},
   "outputs": [],
   "source": [
    "NAME = \"Emily Holcomb\"\n",
    "COLLABORATORS = \"\""
   ]
  },
  {
   "cell_type": "markdown",
   "metadata": {},
   "source": [
    "---"
   ]
  },
  {
   "cell_type": "markdown",
   "metadata": {
    "deletable": false,
    "editable": false,
    "nbgrader": {
     "checksum": "d77c3d90f083914bba91e8fed6e15205",
     "grade": false,
     "grade_id": "intro",
     "locked": true,
     "schema_version": 1,
     "solution": false
    }
   },
   "source": [
    "# Week 2 Exercises\n",
    "\n",
    "_McKinney 2.3_\n",
    "\n",
    "**In the exercises below, don't worry about the `def` and other things around the code you need to write.  If there is a skeleton of code already there, just put your code where it says \"your code here\"**"
   ]
  },
  {
   "cell_type": "markdown",
   "metadata": {
    "deletable": false,
    "editable": false,
    "nbgrader": {
     "checksum": "0287ed3243e53fa26e917b4cb8c2acca",
     "grade": false,
     "grade_id": "average",
     "locked": true,
     "schema_version": 1,
     "solution": false
    }
   },
   "source": [
    "## #1 Averaging three numbers\n",
    "\n",
    "Image that you've got a series of body temperature measurements and we want to find the average of three of them.  Write code below that computes the average of three numbers represented by the variables `temp1`, `temp2`, `temp3` and assigns the result to the variables `avg_temp`."
   ]
  },
  {
   "cell_type": "code",
   "execution_count": 31,
   "metadata": {
    "deletable": false,
    "nbgrader": {
     "checksum": "ef40d6e942b8ead96c03929b102a9f4f",
     "grade": false,
     "grade_id": "average-answer",
     "locked": false,
     "schema_version": 1,
     "solution": true
    }
   },
   "outputs": [],
   "source": [
    "def average_temp(temp1, temp2, temp3):\n",
    "    \n",
    "    # YOUR CODE HERE\n",
    "    avg_temp = (temp1 + temp2 + temp3) / 3\n",
    "    \n",
    "    return avg_temp"
   ]
  },
  {
   "cell_type": "markdown",
   "metadata": {
    "deletable": false,
    "editable": false,
    "nbgrader": {
     "checksum": "f846d5871f300f4e0c58164529913eb9",
     "grade": false,
     "grade_id": "average-validate",
     "locked": true,
     "schema_version": 1,
     "solution": false
    }
   },
   "source": [
    "Your function should return 98 if you give it inputs of 96, 99, 99.  Check to see that it does by typeing `average_temp(96, 99, 101)` in the cell below and running it."
   ]
  },
  {
   "cell_type": "code",
   "execution_count": 32,
   "metadata": {},
   "outputs": [
    {
     "data": {
      "text/plain": [
       "98.66666666666667"
      ]
     },
     "execution_count": 32,
     "metadata": {},
     "output_type": "execute_result"
    }
   ],
   "source": [
    "average_temp(96, 99, 101)"
   ]
  },
  {
   "cell_type": "code",
   "execution_count": 33,
   "metadata": {
    "deletable": false,
    "editable": false,
    "nbgrader": {
     "checksum": "2bcdabf1db9b1a24ec998df1e7564c71",
     "grade": true,
     "grade_id": "average-tests",
     "locked": true,
     "points": 5,
     "schema_version": 1,
     "solution": false
    }
   },
   "outputs": [],
   "source": [
    "assert average_temp(96, 99, 99) == 98\n",
    "assert average_temp(0, 0, 0) == 0\n",
    "assert average_temp(100, -100, 0) == 0\n",
    "assert average_temp(96, 98, 100) == 98\n",
    "assert average_temp(96.5, 98.5, 100.5) == 98.5\n",
    "assert average_temp(96, 98, 99) == (293 / 3)"
   ]
  },
  {
   "cell_type": "markdown",
   "metadata": {
    "deletable": false,
    "editable": false,
    "nbgrader": {
     "checksum": "d197b3437eaaf20b451b55c676dc47f8",
     "grade": false,
     "grade_id": "bmi",
     "locked": true,
     "schema_version": 1,
     "solution": false
    }
   },
   "source": [
    "## #2 Computing BMI\n",
    "\n",
    "Create new names for the variables that you need in the code framework below and use the variables to compute the corresponding body mass index (BMI). You can use any meaningful variable names you like. When you compute the BMI, assign a variable to it, and then print the result to the notebook's output.\n",
    "\n",
    "* Weght in kilograms is 90.7\n",
    "* Height in centimeters in 182\n",
    "\n",
    "Note that a simple BMI calculation is weight in kilograms divided by the square of height in meters.\n",
    "\n",
    "For this problem, you'll be graded both on proper calculation as well as on programming style and appropriate variables names.\n",
    "\n",
    "_Also note that BMI should not be considered a universal measure of health or fitness. A health BMI can vary greatly depending on many other fitness conditions and body types._"
   ]
  },
  {
   "cell_type": "code",
   "execution_count": 16,
   "metadata": {
    "deletable": false,
    "nbgrader": {
     "checksum": "e37fc5360f642bdb5ddcd0073846c710",
     "grade": false,
     "grade_id": "bmi-answer",
     "locked": false,
     "schema_version": 1,
     "solution": true
    }
   },
   "outputs": [],
   "source": [
    "def bmi(parameter1, parameter2):\n",
    "    \n",
    "    # 1. Change the names of parameter1 and parameter2 to be something more meaningful\n",
    "    # 2. Change the name of the return variable below\n",
    "    \n",
    "    wt = parameter1\n",
    "    ht = parameter2\n",
    "    \n",
    "    #Needed to convert cm to m.\n",
    "    ht = ht / 100\n",
    "    \n",
    "    bmi = wt / (ht**2)\n",
    "    \n",
    "    return bmi\n",
    "    \n",
    "    return return_value"
   ]
  },
  {
   "cell_type": "markdown",
   "metadata": {
    "deletable": false,
    "editable": false,
    "nbgrader": {
     "checksum": "cfbdbb38bfbccf4c85cefca28ea7455b",
     "grade": false,
     "grade_id": "bmi-validate",
     "locked": true,
     "schema_version": 1,
     "solution": false
    }
   },
   "source": [
    "Test your code below.  The BMI for a weight of 90.7 kg and height of 182 cm should be approximately 27.38"
   ]
  },
  {
   "cell_type": "code",
   "execution_count": 17,
   "metadata": {},
   "outputs": [
    {
     "data": {
      "text/plain": [
       "27.38195870064002"
      ]
     },
     "execution_count": 17,
     "metadata": {},
     "output_type": "execute_result"
    }
   ],
   "source": [
    "bmi(90.7, 182)"
   ]
  },
  {
   "cell_type": "code",
   "execution_count": null,
   "metadata": {
    "deletable": false,
    "editable": false,
    "nbgrader": {
     "checksum": "7ec2a923c6c9d45ec8d4a98c876797b3",
     "grade": true,
     "grade_id": "bmi-test",
     "locked": true,
     "points": 0,
     "schema_version": 1,
     "solution": false
    }
   },
   "outputs": [],
   "source": [
    "assert round(bmi(90.7, 182), 2) == 27.38\n",
    "assert round(bmi(91, 180), 2) == 28.09\n",
    "assert round(bmi(70, 170), 2) == 24.22"
   ]
  },
  {
   "cell_type": "code",
   "execution_count": null,
   "metadata": {
    "deletable": false,
    "nbgrader": {
     "checksum": "d75193ac413255680bb7ca868fc3b2dd",
     "grade": true,
     "grade_id": "bmi-style",
     "locked": false,
     "points": 5,
     "schema_version": 1,
     "solution": true
    }
   },
   "outputs": [],
   "source": []
  },
  {
   "cell_type": "markdown",
   "metadata": {
    "deletable": false,
    "editable": false,
    "nbgrader": {
     "checksum": "f24b007df0af2d528d76800f6db4c503",
     "grade": false,
     "grade_id": "weight",
     "locked": true,
     "schema_version": 1,
     "solution": false
    }
   },
   "source": [
    "## #3 Weight Loss\n",
    "\n",
    "Assuming that someone doesn't change height over time, what is the approximate number of days it will take for someone to get from the BMI you found in #3 above to a BMI of 24.9 (typically regarded as being in a healthy range) while losing weight at a rate of 0.75 kg per week.\n",
    "\n",
    "As needed, use variables and multiple calculation steps to make your thought process visible in the code. For instance, rather than using the notebook as a calculator, use variables for intermediate answers.\n",
    "\n",
    "Again, you will receive points both for correct answers as well as for style.\n"
   ]
  },
  {
   "cell_type": "code",
   "execution_count": 25,
   "metadata": {
    "deletable": false,
    "nbgrader": {
     "checksum": "ffcba51f530628811b2aa1f091a6092e",
     "grade": false,
     "grade_id": "weight-answer",
     "locked": false,
     "schema_version": 1,
     "solution": true
    }
   },
   "outputs": [],
   "source": [
    "def lose_weight(weight, height, kg_per_week, target_bmi):\n",
    "    \n",
    "    # Note that the variables you need area already named for you:\n",
    "    # height is the height in cm\n",
    "    # weight is the weight in kg\n",
    "    # kg_per_week is how much the person wants to lose per week\n",
    "    # target_bmi is the intended target bmi\n",
    "    \n",
    "    # YOUR CODE HERE\n",
    "    height = height / 100\n",
    "    target_wt = target_bmi * (height**2)\n",
    "    days = ((weight - target_wt) / kg_per_week) * 7\n",
    "\n",
    "    return days"
   ]
  },
  {
   "cell_type": "markdown",
   "metadata": {},
   "source": [
    "Test your code below.  It should return approximately 76.73 days for the given parameters above."
   ]
  },
  {
   "cell_type": "code",
   "execution_count": 26,
   "metadata": {},
   "outputs": [
    {
     "data": {
      "text/plain": [
       "76.73157333333342"
      ]
     },
     "execution_count": 26,
     "metadata": {},
     "output_type": "execute_result"
    }
   ],
   "source": [
    "lose_weight(90.7, 182, 0.75, 24.9)"
   ]
  },
  {
   "cell_type": "code",
   "execution_count": 27,
   "metadata": {
    "deletable": false,
    "editable": false,
    "nbgrader": {
     "checksum": "07f542ed976d4934b665d7061444cc90",
     "grade": true,
     "grade_id": "weight-tests",
     "locked": true,
     "points": 5,
     "schema_version": 1,
     "solution": false
    }
   },
   "outputs": [],
   "source": [
    "assert round(lose_weight(90.7, 182, 0.75, 24.9),2) == 76.73\n",
    "assert round(lose_weight(91, 180, 0.75, 24.9),2) == 96.36\n",
    "assert round(lose_weight(70, 170, 0.75, 22),2) == 59.92\n",
    "assert round(lose_weight(70, 170, 2, 22),2) == 22.47\n"
   ]
  },
  {
   "cell_type": "code",
   "execution_count": null,
   "metadata": {
    "deletable": false,
    "nbgrader": {
     "checksum": "c0d4a48108a4738b85341db38677ac6e",
     "grade": true,
     "grade_id": "weight-style",
     "locked": false,
     "points": 5,
     "schema_version": 1,
     "solution": true
    }
   },
   "outputs": [],
   "source": []
  }
 ],
 "metadata": {
  "kernelspec": {
   "display_name": "Python 3",
   "language": "python",
   "name": "python3"
  },
  "language_info": {
   "codemirror_mode": {
    "name": "ipython",
    "version": 3
   },
   "file_extension": ".py",
   "mimetype": "text/x-python",
   "name": "python",
   "nbconvert_exporter": "python",
   "pygments_lexer": "ipython3",
   "version": "3.7.1"
  }
 },
 "nbformat": 4,
 "nbformat_minor": 2
}
